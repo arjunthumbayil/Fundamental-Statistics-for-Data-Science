{
 "cells": [
  {
   "cell_type": "code",
   "execution_count": 1,
   "metadata": {},
   "outputs": [],
   "source": [
    "import numpy   as np\n",
    "import pandas  as pd\n",
    "import seaborn as sns\n",
    "\n",
    "\n",
    "from scipy.stats.stats import pearsonr\n",
    "sns.set(color_codes=True)\n",
    "\n",
    "import matplotlib.pyplot as plt\n",
    "%matplotlib inline \n",
    "import warnings\n",
    "warnings.filterwarnings('ignore')"
   ]
  },
  {
   "cell_type": "markdown",
   "metadata": {},
   "source": [
    "# Covariance and Correlation\n",
    "\n"
   ]
  },
  {
   "cell_type": "markdown",
   "metadata": {},
   "source": [
    "**Covariance and Correlation describe how two variables are related.**\n",
    "\n",
    "* Variables are positively related if they move in the same direction.\n",
    "* Variables are inversely related if they move in opposite directions.\n",
    "* Both covariance and correlation indicate whether variables are positively or inversely related. Correlation also tells us the degree to which the variables tend to move together.\n"
   ]
  },
  {
   "cell_type": "markdown",
   "metadata": {},
   "source": [
    "**Covariance**\n",
    "\n",
    "**COV(x,y) = $\\frac{\\sum_{i=1}^{n}({x_{i} -\\overline{x})}{(y_{i} -\\overline{y}})} {{n}-{1}}$**\n",
    "\n",
    "    where,\n",
    "* x = the independent variable\n",
    "* y = the dependent variable\n",
    "* n = number of data points in the sample\n",
    "* $\\overline{x}$ = the mean of the independent variable x\n",
    "* $\\overline{y}$ = the mean of the dependent variable y\n",
    "\n",
    "Covariance indicates how two variables are related. A positive covariance means the variables are positively related, while a negative covariance means the variables are inversely related."
   ]
  },
  {
   "cell_type": "markdown",
   "metadata": {},
   "source": [
    "**Correlation**\n",
    "\n",
    "$r_{(x,y)}$   = $\\frac{COV(x, y)}{s_{x}s_{y}}$\n",
    "\n",
    "    where,\n",
    "\n",
    "* $r_{(x,y)}$ = correlation of the variables x and y\n",
    "* COV(x, y)   = covariance of the variables x and y\n",
    "* $s_{x}$     = sample standard deviation of the random variable x \n",
    "* $s_{y}$     = sample standard deviation of the random variable y\n",
    "\n",
    "\n",
    "\n",
    "**With Covariance it was not possible to measure the degree to which the variables moved together, this is taken care by Correlation:**\n",
    "\n",
    "* Correlation standardizes the measure of interdependence between two variables and, consequently, tells us how closely the two variables move. The correlation measurement, called a correlation coefficient, will always take on a value between 1 and – 1.\n",
    "\n",
    "* If the correlation coefficient is 1, the variables have a perfect positive correlation. This means that if one variable moves a given amount, the second moves proportionally in the same direction. A positive correlation coefficient less than 1 indicates a less than perfect positive correlation, with the strength of the correlation growing as the number approaches 1.\n",
    "\n",
    "* If correlation coefficient is zero, no relationship exists between the variables. If one variable moves, you can make no predictions about the movement of the other variable; they are uncorrelated.\n",
    "\n",
    "* If correlation coefficient is –1, the variables are perfectly negatively correlated (or inversely correlated) and move in opposition to each other. If one variable increases, the other variable decreases proportionally. A negative correlation coefficient greater than –1 indicates a less than perfect negative correlation, with the strength of the correlation growing as the number approaches –1."
   ]
  },
  {
   "cell_type": "markdown",
   "metadata": {},
   "source": [
    "# 1: Exercise 3.60 in page 140"
   ]
  },
  {
   "cell_type": "markdown",
   "metadata": {},
   "source": [
    "A manufacturing company produces steel housings for electrical equipment. The main component part of the housing is a steeltrough that is made of a 14-gauge steel coil. It is produced using a 250-ton progressive punch press with a wipe-down operation and two 90-degree forms placed in the flat steel to make the trough. The distance from one side of the form to the other is critical because of weatherproofing in outdoor applications. The company requires that the width of the trough be between 8.31 inches and 8.61 inches. Data are collected from a sample of 49 troughs and stored in ‘Trough.csv’ which contains these widths of the troughs, in inches:\n"
   ]
  },
  {
   "cell_type": "markdown",
   "metadata": {},
   "source": [
    "    a. Compute the mean, median, range, and standard deviation for the width. Interpret these measures of central tendency      and variability.  \n",
    "    b. List the five-number summary.  \n",
    "    c. Construct a boxplot and describe its shape.   \n",
    "    d. What can you conclude about the number of troughs that will meet the company's requirement of troughs being between      8.31 and 8.61 inches wide? "
   ]
  },
  {
   "cell_type": "code",
   "execution_count": 2,
   "metadata": {},
   "outputs": [],
   "source": [
    "trough = pd.read_csv(\"Trough.csv\")"
   ]
  },
  {
   "cell_type": "code",
   "execution_count": 3,
   "metadata": {},
   "outputs": [
    {
     "data": {
      "text/html": [
       "<div>\n",
       "<style scoped>\n",
       "    .dataframe tbody tr th:only-of-type {\n",
       "        vertical-align: middle;\n",
       "    }\n",
       "\n",
       "    .dataframe tbody tr th {\n",
       "        vertical-align: top;\n",
       "    }\n",
       "\n",
       "    .dataframe thead th {\n",
       "        text-align: right;\n",
       "    }\n",
       "</style>\n",
       "<table border=\"1\" class=\"dataframe\">\n",
       "  <thead>\n",
       "    <tr style=\"text-align: right;\">\n",
       "      <th></th>\n",
       "      <th>Width</th>\n",
       "    </tr>\n",
       "  </thead>\n",
       "  <tbody>\n",
       "    <tr>\n",
       "      <th>0</th>\n",
       "      <td>8.312</td>\n",
       "    </tr>\n",
       "    <tr>\n",
       "      <th>1</th>\n",
       "      <td>8.343</td>\n",
       "    </tr>\n",
       "    <tr>\n",
       "      <th>2</th>\n",
       "      <td>8.317</td>\n",
       "    </tr>\n",
       "    <tr>\n",
       "      <th>3</th>\n",
       "      <td>8.383</td>\n",
       "    </tr>\n",
       "    <tr>\n",
       "      <th>4</th>\n",
       "      <td>8.348</td>\n",
       "    </tr>\n",
       "  </tbody>\n",
       "</table>\n",
       "</div>"
      ],
      "text/plain": [
       "   Width\n",
       "0  8.312\n",
       "1  8.343\n",
       "2  8.317\n",
       "3  8.383\n",
       "4  8.348"
      ]
     },
     "execution_count": 3,
     "metadata": {},
     "output_type": "execute_result"
    }
   ],
   "source": [
    "trough.head()"
   ]
  },
  {
   "cell_type": "code",
   "execution_count": 4,
   "metadata": {},
   "outputs": [],
   "source": [
    "# a. Compute the mean, median, range, and standard deviation for the width. \n",
    "# Interpret these measures of central tendency and variability."
   ]
  },
  {
   "cell_type": "code",
   "execution_count": 5,
   "metadata": {},
   "outputs": [
    {
     "data": {
      "text/html": [
       "<div>\n",
       "<style scoped>\n",
       "    .dataframe tbody tr th:only-of-type {\n",
       "        vertical-align: middle;\n",
       "    }\n",
       "\n",
       "    .dataframe tbody tr th {\n",
       "        vertical-align: top;\n",
       "    }\n",
       "\n",
       "    .dataframe thead th {\n",
       "        text-align: right;\n",
       "    }\n",
       "</style>\n",
       "<table border=\"1\" class=\"dataframe\">\n",
       "  <thead>\n",
       "    <tr style=\"text-align: right;\">\n",
       "      <th></th>\n",
       "      <th>Width</th>\n",
       "    </tr>\n",
       "  </thead>\n",
       "  <tbody>\n",
       "    <tr>\n",
       "      <th>count</th>\n",
       "      <td>49.000000</td>\n",
       "    </tr>\n",
       "    <tr>\n",
       "      <th>mean</th>\n",
       "      <td>8.420898</td>\n",
       "    </tr>\n",
       "    <tr>\n",
       "      <th>std</th>\n",
       "      <td>0.046115</td>\n",
       "    </tr>\n",
       "    <tr>\n",
       "      <th>min</th>\n",
       "      <td>8.312000</td>\n",
       "    </tr>\n",
       "    <tr>\n",
       "      <th>25%</th>\n",
       "      <td>8.405000</td>\n",
       "    </tr>\n",
       "    <tr>\n",
       "      <th>50%</th>\n",
       "      <td>8.420000</td>\n",
       "    </tr>\n",
       "    <tr>\n",
       "      <th>75%</th>\n",
       "      <td>8.458000</td>\n",
       "    </tr>\n",
       "    <tr>\n",
       "      <th>max</th>\n",
       "      <td>8.498000</td>\n",
       "    </tr>\n",
       "  </tbody>\n",
       "</table>\n",
       "</div>"
      ],
      "text/plain": [
       "           Width\n",
       "count  49.000000\n",
       "mean    8.420898\n",
       "std     0.046115\n",
       "min     8.312000\n",
       "25%     8.405000\n",
       "50%     8.420000\n",
       "75%     8.458000\n",
       "max     8.498000"
      ]
     },
     "execution_count": 5,
     "metadata": {},
     "output_type": "execute_result"
    }
   ],
   "source": [
    "trough.describe()"
   ]
  },
  {
   "cell_type": "code",
   "execution_count": 6,
   "metadata": {},
   "outputs": [
    {
     "data": {
      "text/plain": [
       "Width    0.00542\n",
       "dtype: float64"
      ]
     },
     "execution_count": 6,
     "metadata": {},
     "output_type": "execute_result"
    }
   ],
   "source": [
    "# Coefficient of Variation\n",
    "CoeffVar = np.std(trough)/ np.mean(trough)\n",
    "\n",
    "CoeffVar\n"
   ]
  },
  {
   "cell_type": "code",
   "execution_count": 7,
   "metadata": {},
   "outputs": [
    {
     "data": {
      "text/plain": [
       "<matplotlib.axes._subplots.AxesSubplot at 0x23054c6c320>"
      ]
     },
     "execution_count": 7,
     "metadata": {},
     "output_type": "execute_result"
    },
    {
     "data": {
      "image/png": "[encoded data removed]",
      "text/plain": [
       "<Figure size 432x288 with 1 Axes>"
      ]
     },
     "metadata": {
      "needs_background": "light"
     },
     "output_type": "display_data"
    }
   ],
   "source": [
    "# Boxplot\n",
    "\n",
    "\n",
    "sns.boxplot(y = trough['Width'])\n"
   ]
  },
  {
   "cell_type": "code",
   "execution_count": 8,
   "metadata": {},
   "outputs": [
    {
     "data": {
      "text/plain": [
       "<matplotlib.axes._subplots.AxesSubplot at 0x23055f457b8>"
      ]
     },
     "execution_count": 8,
     "metadata": {},
     "output_type": "execute_result"
    },
    {
     "data": {
      "image/png": "[encoded data removed]",
      "text/plain": [
       "<Figure size 432x288 with 1 Axes>"
      ]
     },
     "metadata": {
      "needs_background": "light"
     },
     "output_type": "display_data"
    }
   ],
   "source": [
    "# Histogram\n",
    "\n",
    "sns.distplot(trough['Width'])\n",
    "\n",
    "# The data is left-tailed.\n",
    "# From Histogram and boxplot we can conclude that outliers in the lower region are pulling the data towards left side.\n"
   ]
  },
  {
   "cell_type": "code",
   "execution_count": 9,
   "metadata": {},
   "outputs": [],
   "source": [
    "## Since all the troughs fall in the category of 8.31-8.61, they all would fall in the same category."
   ]
  },
  {
   "cell_type": "markdown",
   "metadata": {},
   "source": [
    "# 2: Exercise 3.38 in page 135 5 "
   ]
  },
  {
   "cell_type": "markdown",
   "metadata": {},
   "source": [
    "    Following is a set of data from a sample of n = 11 \n",
    "    \n",
    "    X 7  5  8  3 6  10 12 4  9  15 18\n",
    "    Y 21 15 24 9 18 30 36 12 27 45 54\n",
    "\n",
    "    a. Compute the covariance. \n",
    "    b. Compute the coefficient of correlation. \n",
    "    c. How strong is the relationship between X and Y. Explain."
   ]
  },
  {
   "cell_type": "code",
   "execution_count": 10,
   "metadata": {},
   "outputs": [],
   "source": [
    "x = [7,5,8,3,6,10,12,4,9,15,18]"
   ]
  },
  {
   "cell_type": "code",
   "execution_count": 11,
   "metadata": {},
   "outputs": [],
   "source": [
    "y = [21,15,24,9,18,30,36,12,27,45,54]"
   ]
  },
  {
   "cell_type": "code",
   "execution_count": 12,
   "metadata": {},
   "outputs": [
    {
     "data": {
      "text/plain": [
       "array([[ 7,  5,  8,  3,  6, 10, 12,  4,  9, 15, 18],\n",
       "       [21, 15, 24,  9, 18, 30, 36, 12, 27, 45, 54]])"
      ]
     },
     "execution_count": 12,
     "metadata": {},
     "output_type": "execute_result"
    }
   ],
   "source": [
    "z = np.stack((x,y), axis=0)\n",
    "z\n"
   ]
  },
  {
   "cell_type": "code",
   "execution_count": 13,
   "metadata": {},
   "outputs": [
    {
     "name": "stdout",
     "output_type": "stream",
     "text": [
      "65.2909090909091\n"
     ]
    }
   ],
   "source": [
    "#Covariance\n",
    "print(np.cov(z)[0][1])\n"
   ]
  },
  {
   "cell_type": "code",
   "execution_count": 14,
   "metadata": {},
   "outputs": [
    {
     "data": {
      "text/plain": [
       "<seaborn.axisgrid.JointGrid at 0x23055fbceb8>"
      ]
     },
     "execution_count": 14,
     "metadata": {},
     "output_type": "execute_result"
    },
    {
     "data": {
      "image/png": "[encoded data removed]",
      "text/plain": [
       "<Figure size 432x432 with 3 Axes>"
      ]
     },
     "metadata": {
      "needs_background": "light"
     },
     "output_type": "display_data"
    }
   ],
   "source": [
    "#Coefficient of Correlation\n",
    "sns.jointplot(np.array(x), np.array(y))\n",
    "\n",
    "## r =+1\n"
   ]
  },
  {
   "cell_type": "markdown",
   "metadata": {},
   "source": [
    "# 3: Exercise 3.40 in page 136\n"
   ]
  },
  {
   "cell_type": "markdown",
   "metadata": {},
   "source": [
    "3.40 The file 'cereal.csv' lists the calories and sugar, in grams, in one serving of seven breakfast cereals: "
   ]
  },
  {
   "cell_type": "markdown",
   "metadata": {},
   "source": [
    "    a. Compute the covariance. \n",
    "    b. Compute the coefficient of correlation. \n",
    "    c. Which do you think is more valuable in expressing the relationship between calories and sugar - the covariance or the    coefficient of correlation? Explain. \n",
    "    d. Based on (a) and (b), what conclusions can you reach about the relationship between calories and sugar? \n"
   ]
  },
  {
   "cell_type": "code",
   "execution_count": 15,
   "metadata": {},
   "outputs": [],
   "source": [
    "cereal = pd.read_csv(\"cereal.csv\")"
   ]
  },
  {
   "cell_type": "code",
   "execution_count": 16,
   "metadata": {},
   "outputs": [
    {
     "data": {
      "text/html": [
       "<div>\n",
       "<style scoped>\n",
       "    .dataframe tbody tr th:only-of-type {\n",
       "        vertical-align: middle;\n",
       "    }\n",
       "\n",
       "    .dataframe tbody tr th {\n",
       "        vertical-align: top;\n",
       "    }\n",
       "\n",
       "    .dataframe thead th {\n",
       "        text-align: right;\n",
       "    }\n",
       "</style>\n",
       "<table border=\"1\" class=\"dataframe\">\n",
       "  <thead>\n",
       "    <tr style=\"text-align: right;\">\n",
       "      <th></th>\n",
       "      <th>Calories</th>\n",
       "      <th>Carbohydrates</th>\n",
       "      <th>Sugar</th>\n",
       "    </tr>\n",
       "  </thead>\n",
       "  <tbody>\n",
       "    <tr>\n",
       "      <th>count</th>\n",
       "      <td>7.000000</td>\n",
       "      <td>7.000000</td>\n",
       "      <td>7.000000</td>\n",
       "    </tr>\n",
       "    <tr>\n",
       "      <th>mean</th>\n",
       "      <td>130.000000</td>\n",
       "      <td>30.142857</td>\n",
       "      <td>5.857143</td>\n",
       "    </tr>\n",
       "    <tr>\n",
       "      <th>std</th>\n",
       "      <td>46.904158</td>\n",
       "      <td>10.090071</td>\n",
       "      <td>3.387653</td>\n",
       "    </tr>\n",
       "    <tr>\n",
       "      <th>min</th>\n",
       "      <td>80.000000</td>\n",
       "      <td>22.000000</td>\n",
       "      <td>2.000000</td>\n",
       "    </tr>\n",
       "    <tr>\n",
       "      <th>25%</th>\n",
       "      <td>100.000000</td>\n",
       "      <td>23.500000</td>\n",
       "      <td>4.000000</td>\n",
       "    </tr>\n",
       "    <tr>\n",
       "      <th>50%</th>\n",
       "      <td>110.000000</td>\n",
       "      <td>24.000000</td>\n",
       "      <td>4.000000</td>\n",
       "    </tr>\n",
       "    <tr>\n",
       "      <th>75%</th>\n",
       "      <td>160.000000</td>\n",
       "      <td>36.000000</td>\n",
       "      <td>8.000000</td>\n",
       "    </tr>\n",
       "    <tr>\n",
       "      <th>max</th>\n",
       "      <td>200.000000</td>\n",
       "      <td>46.000000</td>\n",
       "      <td>11.000000</td>\n",
       "    </tr>\n",
       "  </tbody>\n",
       "</table>\n",
       "</div>"
      ],
      "text/plain": [
       "         Calories  Carbohydrates      Sugar\n",
       "count    7.000000       7.000000   7.000000\n",
       "mean   130.000000      30.142857   5.857143\n",
       "std     46.904158      10.090071   3.387653\n",
       "min     80.000000      22.000000   2.000000\n",
       "25%    100.000000      23.500000   4.000000\n",
       "50%    110.000000      24.000000   4.000000\n",
       "75%    160.000000      36.000000   8.000000\n",
       "max    200.000000      46.000000  11.000000"
      ]
     },
     "execution_count": 16,
     "metadata": {},
     "output_type": "execute_result"
    }
   ],
   "source": [
    "cereal.describe()\n"
   ]
  },
  {
   "cell_type": "code",
   "execution_count": 17,
   "metadata": {},
   "outputs": [
    {
     "data": {
      "text/plain": [
       "array([[ 80., 100., 100., 110., 130., 190., 200.],\n",
       "       [  6.,   2.,   4.,   4.,   4.,  11.,  10.]])"
      ]
     },
     "execution_count": 17,
     "metadata": {},
     "output_type": "execute_result"
    }
   ],
   "source": [
    "corr = np.stack((cereal['Calories'], cereal['Sugar']), axis=0 )\n",
    "\n",
    "corr\n"
   ]
  },
  {
   "cell_type": "code",
   "execution_count": 18,
   "metadata": {},
   "outputs": [
    {
     "name": "stdout",
     "output_type": "stream",
     "text": [
      "133.33333333333331\n"
     ]
    }
   ],
   "source": [
    "## Covariance\n",
    "\n",
    "print(np.cov(corr)[0][1])\n"
   ]
  },
  {
   "cell_type": "code",
   "execution_count": 19,
   "metadata": {},
   "outputs": [
    {
     "data": {
      "text/plain": [
       "<seaborn.axisgrid.JointGrid at 0x230564d7710>"
      ]
     },
     "execution_count": 19,
     "metadata": {},
     "output_type": "execute_result"
    },
    {
     "data": {
      "image/png": "[encoded data removed]",
      "text/plain": [
       "<Figure size 432x432 with 3 Axes>"
      ]
     },
     "metadata": {
      "needs_background": "light"
     },
     "output_type": "display_data"
    }
   ],
   "source": [
    "sns.jointplot(cereal['Calories'], cereal['Sugar'])\n",
    "\n",
    "# r = +0.84, signifies strong correlation between calories and sugar.\n"
   ]
  },
  {
   "cell_type": "markdown",
   "metadata": {},
   "source": [
    "# 4: Exercise 3.41 in page 136  "
   ]
  },
  {
   "cell_type": "markdown",
   "metadata": {},
   "source": [
    "\n",
    "3.41 Movie companies need to predict the gross receipts of individual movies once a movie has debuted. The data, shown in the next column and stored in ‘potter.csv’, are the first weekend gross, the U.S. gross, and the worldwide gross (in $ millions) of the eight Harry Potter movies: "
   ]
  },
  {
   "cell_type": "markdown",
   "metadata": {},
   "source": [
    "    a. Compute the covariance between first weekend gross and U.S. gross, first weekend gross and worldwide gross, and U.S.     gross and worldwide gross. \n",
    "    b. Compute the coefficient of correlation between first weekend gross and U.S. gross, first weekend gross and worldwide     gross, and U.S. gross and worldwide gross.\n",
    "    c. Which do you think is more valuable in expressing the relationship between first weekend gross, U.S. gross, and world-   wide gross-the covariance or the coefficient of correlation? \n",
    "    d. Based on (a) and (b), what conclusions can you reach about the relationship between first weekend gross, U.S. gross,     and worldwide gross?\n"
   ]
  },
  {
   "cell_type": "code",
   "execution_count": 20,
   "metadata": {},
   "outputs": [],
   "source": [
    "potter = pd.read_csv(\"potter.csv\")"
   ]
  },
  {
   "cell_type": "code",
   "execution_count": 21,
   "metadata": {},
   "outputs": [
    {
     "data": {
      "text/html": [
       "<div>\n",
       "<style scoped>\n",
       "    .dataframe tbody tr th:only-of-type {\n",
       "        vertical-align: middle;\n",
       "    }\n",
       "\n",
       "    .dataframe tbody tr th {\n",
       "        vertical-align: top;\n",
       "    }\n",
       "\n",
       "    .dataframe thead th {\n",
       "        text-align: right;\n",
       "    }\n",
       "</style>\n",
       "<table border=\"1\" class=\"dataframe\">\n",
       "  <thead>\n",
       "    <tr style=\"text-align: right;\">\n",
       "      <th></th>\n",
       "      <th>First Weekend</th>\n",
       "      <th>US Gross</th>\n",
       "      <th>Worldwide Gross</th>\n",
       "    </tr>\n",
       "  </thead>\n",
       "  <tbody>\n",
       "    <tr>\n",
       "      <th>count</th>\n",
       "      <td>8.000000</td>\n",
       "      <td>8.00000</td>\n",
       "      <td>8.000000</td>\n",
       "    </tr>\n",
       "    <tr>\n",
       "      <th>mean</th>\n",
       "      <td>102.981250</td>\n",
       "      <td>298.57250</td>\n",
       "      <td>962.950000</td>\n",
       "    </tr>\n",
       "    <tr>\n",
       "      <th>std</th>\n",
       "      <td>30.780427</td>\n",
       "      <td>39.70681</td>\n",
       "      <td>157.906117</td>\n",
       "    </tr>\n",
       "    <tr>\n",
       "      <th>min</th>\n",
       "      <td>77.110000</td>\n",
       "      <td>249.54000</td>\n",
       "      <td>795.540000</td>\n",
       "    </tr>\n",
       "    <tr>\n",
       "      <th>25%</th>\n",
       "      <td>85.730000</td>\n",
       "      <td>283.00500</td>\n",
       "      <td>891.755000</td>\n",
       "    </tr>\n",
       "    <tr>\n",
       "      <th>50%</th>\n",
       "      <td>91.995000</td>\n",
       "      <td>293.50500</td>\n",
       "      <td>936.535000</td>\n",
       "    </tr>\n",
       "    <tr>\n",
       "      <th>75%</th>\n",
       "      <td>108.010000</td>\n",
       "      <td>305.48500</td>\n",
       "      <td>960.680000</td>\n",
       "    </tr>\n",
       "    <tr>\n",
       "      <th>max</th>\n",
       "      <td>169.190000</td>\n",
       "      <td>381.01000</td>\n",
       "      <td>1328.110000</td>\n",
       "    </tr>\n",
       "  </tbody>\n",
       "</table>\n",
       "</div>"
      ],
      "text/plain": [
       "       First Weekend   US Gross  Worldwide Gross\n",
       "count       8.000000    8.00000         8.000000\n",
       "mean      102.981250  298.57250       962.950000\n",
       "std        30.780427   39.70681       157.906117\n",
       "min        77.110000  249.54000       795.540000\n",
       "25%        85.730000  283.00500       891.755000\n",
       "50%        91.995000  293.50500       936.535000\n",
       "75%       108.010000  305.48500       960.680000\n",
       "max       169.190000  381.01000      1328.110000"
      ]
     },
     "execution_count": 21,
     "metadata": {},
     "output_type": "execute_result"
    }
   ],
   "source": [
    "potter.describe()"
   ]
  },
  {
   "cell_type": "code",
   "execution_count": 22,
   "metadata": {},
   "outputs": [],
   "source": [
    "corr1 = np.stack((potter['First Weekend'], potter['US Gross']), axis=0 )"
   ]
  },
  {
   "cell_type": "code",
   "execution_count": 23,
   "metadata": {},
   "outputs": [],
   "source": [
    "corr2 = np.stack((potter['US Gross'], potter['Worldwide Gross']), axis=0 )"
   ]
  },
  {
   "cell_type": "code",
   "execution_count": 24,
   "metadata": {},
   "outputs": [],
   "source": [
    "corr3 = np.stack((potter['First Weekend'],potter['Worldwide Gross']), axis=0 )"
   ]
  },
  {
   "cell_type": "code",
   "execution_count": 25,
   "metadata": {},
   "outputs": [
    {
     "name": "stdout",
     "output_type": "stream",
     "text": [
      "890.2422392857143\n",
      "6045.465742857141\n",
      "4001.6525571428556\n"
     ]
    }
   ],
   "source": [
    "# Covariance\n",
    "print(np.cov(corr1)[0][1])\n",
    "print(np.cov(corr2)[0][1])\n",
    "print(np.cov(corr3)[0][1])\n"
   ]
  },
  {
   "cell_type": "code",
   "execution_count": 26,
   "metadata": {},
   "outputs": [
    {
     "name": "stdout",
     "output_type": "stream",
     "text": [
      "0.7283976996735216\n",
      "0.9641970884075977\n",
      "0.8233145441399964\n"
     ]
    }
   ],
   "source": [
    "# Correlation Coefficient\n",
    "print(pearsonr(potter['First Weekend'], potter['US Gross'])[0])\n",
    "print(pearsonr(potter['US Gross'], potter['Worldwide Gross'])[0])\n",
    "print(pearsonr(potter['First Weekend'],potter['Worldwide Gross'])[0])\n"
   ]
  },
  {
   "cell_type": "markdown",
   "metadata": {},
   "source": [
    "# Binomial Distribution\n",
    "\n",
    "* It is widely used probability distribution of a discrete random variable. \n",
    "* Plays major role in quality control and quality assurance function. \n",
    "\n",
    "$P(X = x\\mid n,\\pi)$ = $\\frac{n!}{x!(n - x)!}\\pi^x (1 - \\pi)^{n-x} $\n",
    "\n",
    "* where P(X = x) is the probability of getting x successes in n trials\n",
    "and $\\pi$ is the probability of an event of interest\n",
    "\n",
    "### Mean and standard deviation of binomial distribution:\n",
    "\n",
    "* $\\mu     = n\\pi$ \n",
    "* $\\sigma  = \\sqrt{n\\pi(1-\\pi)}$ \n",
    "where n is the size of the sample and $\\pi$ is the probability of the event of interest\n",
    "\n",
    "### Some important functions in Python for Binomial distribution:\n",
    "\n",
    "#### 1) Probability Mass Function\n",
    "\n",
    "##### scipy.stats.binom.pmf gives the probability mass function for the binomial distribution\n",
    "\n",
    "binomial = scipy.stats.binom.pmf (k,n,p), \n",
    "* where k is an array and takes values in {0, 1,..., n}\n",
    "* n and p are shape parameters for the binomial distribution\n",
    "\n",
    "The output, binomial, gives probability of binomial distribution function in terms of array.\n",
    "\n",
    "#### 2) Cumulative Density Function\n",
    "\n",
    "cumbinomial = scipy.stats.binom.cdf(k,n,p) gives cumulative binomial distribution.\n",
    "\n",
    "The output, cumbinomial, gives cumulative probability of binomial distribution function in terms of array.\n",
    "\n",
    "####  3)  Ploting the Binomial Density Function\n",
    "\n",
    "The function, matplotlib.pyplot.plot(k, binomial, ‘o-’) gives us plot of the binomial distribution function."
   ]
  },
  {
   "cell_type": "markdown",
   "metadata": {},
   "source": [
    "# 5: Exercise 5.14 in page 195"
   ]
  },
  {
   "cell_type": "markdown",
   "metadata": {},
   "source": [
    "5.14 A manufacturing company regularly conducts quality control checks at specified periods on the products it manufactures.Historically, the failure rate for LED light bulbs that the company manufactures is 5 %. Suppose a random sample of 10 LED light bulbs is selected. What is the probability that:\n"
   ]
  },
  {
   "cell_type": "markdown",
   "metadata": {},
   "source": [
    "    a. None of the LED light bulbs are defective? \n",
    "    b. Exactly one of the LED light bulbs is defective? \n",
    "    c. Two or fewer of the LED light bulbs are defective? \n",
    "    d. Three or more of the LED light bulbs are defective?\n"
   ]
  },
  {
   "cell_type": "code",
   "execution_count": 27,
   "metadata": {},
   "outputs": [],
   "source": [
    "import numpy             as np\n",
    "import pandas            as pd\n",
    "import scipy.stats       as stats\n"
   ]
  },
  {
   "cell_type": "code",
   "execution_count": 28,
   "metadata": {},
   "outputs": [],
   "source": [
    "p   =  0.05 # failure rate for LED light bulbs that the company manufactures is 5%\n",
    "n   =  10 # sample size\n",
    "k   =  np.arange(0,11) # An array of quantiles"
   ]
  },
  {
   "cell_type": "code",
   "execution_count": 29,
   "metadata": {},
   "outputs": [],
   "source": [
    "binomial = stats.binom.pmf(k,n,p)"
   ]
  },
  {
   "cell_type": "code",
   "execution_count": 30,
   "metadata": {},
   "outputs": [
    {
     "name": "stdout",
     "output_type": "stream",
     "text": [
      "[5.98736939e-01 3.15124705e-01 7.46347985e-02 1.04750594e-02\n",
      " 9.64808106e-04 6.09352488e-05 2.67259863e-06 8.03789063e-08\n",
      " 1.58642578e-09 1.85546875e-11 9.76562500e-14]\n"
     ]
    }
   ],
   "source": [
    "print(binomial)"
   ]
  },
  {
   "cell_type": "code",
   "execution_count": 31,
   "metadata": {},
   "outputs": [
    {
     "name": "stdout",
     "output_type": "stream",
     "text": [
      "a) None of the LED bulbs are defective? is 0.5987\n"
     ]
    }
   ],
   "source": [
    "print('a) None of the LED bulbs are defective? is %1.4f' %binomial[0])"
   ]
  },
  {
   "cell_type": "code",
   "execution_count": 32,
   "metadata": {},
   "outputs": [
    {
     "name": "stdout",
     "output_type": "stream",
     "text": [
      "b) Exactly one of the LED bulbs is defective? is 0.3151\n"
     ]
    }
   ],
   "source": [
    "print('b) Exactly one of the LED bulbs is defective? is %1.4f' %binomial[1])"
   ]
  },
  {
   "cell_type": "markdown",
   "metadata": {},
   "source": [
    "### To answer the question c) Two or fewer of the LED bulbs are defective? We need to calculate cumulative probability of Upto Two LED bulbs being defective"
   ]
  },
  {
   "cell_type": "code",
   "execution_count": 33,
   "metadata": {},
   "outputs": [],
   "source": [
    "cumbinomial = stats.binom.cdf(k,n,p)"
   ]
  },
  {
   "cell_type": "code",
   "execution_count": 34,
   "metadata": {},
   "outputs": [
    {
     "name": "stdout",
     "output_type": "stream",
     "text": [
      "[0.59873694 0.91386164 0.98849644 0.9989715  0.99993631 0.99999725\n",
      " 0.99999992 1.         1.         1.         1.        ]\n"
     ]
    }
   ],
   "source": [
    "print(cumbinomial)"
   ]
  },
  {
   "cell_type": "code",
   "execution_count": 35,
   "metadata": {},
   "outputs": [
    {
     "name": "stdout",
     "output_type": "stream",
     "text": [
      "c) Two or fewer of the LED bulbs are defective? is 0.9885\n"
     ]
    }
   ],
   "source": [
    "print('c) Two or fewer of the LED bulbs are defective? is %1.4f' %cumbinomial[2])"
   ]
  },
  {
   "cell_type": "markdown",
   "metadata": {},
   "source": [
    "### To answer the question d) Three or more of the LED bulbs are defective, we need to subtract cumulative Probability upto 2 defective LED bulbs from 1."
   ]
  },
  {
   "cell_type": "code",
   "execution_count": 36,
   "metadata": {},
   "outputs": [
    {
     "name": "stdout",
     "output_type": "stream",
     "text": [
      "d) Three or more of the LED bulbs are defective is 0.0115\n"
     ]
    }
   ],
   "source": [
    "P = 1- cumbinomial[2]\n",
    "print('d) Three or more of the LED bulbs are defective is %1.4f' % P)"
   ]
  },
  {
   "cell_type": "markdown",
   "metadata": {},
   "source": [
    "### Ploting the binomial distribution function"
   ]
  },
  {
   "cell_type": "code",
   "execution_count": 37,
   "metadata": {},
   "outputs": [
    {
     "data": {
      "image/png": "[encoded data removed]",
      "text/plain": [
       "<Figure size 432x288 with 1 Axes>"
      ]
     },
     "metadata": {
      "needs_background": "light"
     },
     "output_type": "display_data"
    }
   ],
   "source": [
    "plt.plot(k,binomial, 'o-')\n",
    "plt.title('Binomial')\n",
    "plt.xlabel('Number of Defective LED bulbs')\n",
    "plt.ylabel('Probability of Defective LED bulbs')\n",
    "plt.show()"
   ]
  },
  {
   "cell_type": "markdown",
   "metadata": {},
   "source": [
    "# 6: Exercise 5.16 in page 195 "
   ]
  },
  {
   "cell_type": "markdown",
   "metadata": {},
   "source": [
    "5.16 In Example 5.4 on page 193, you and two friends decided go to Wendy's. Now, suppose instead you go Burger King, which recently filled approximately 82.3 % of orders correctly. What is the probability that:\n"
   ]
  },
  {
   "cell_type": "markdown",
   "metadata": {},
   "source": [
    "    a. all three orders will be filled correctly? \n",
    "    b. none of the three will be filled correctly? \n",
    "    c. at least of the three will be filled correctly? \n",
    "    d. What are the mean and standard deviation of the binomial distribution used in (a) through (c)? Interpret these values.\n"
   ]
  },
  {
   "cell_type": "code",
   "execution_count": 38,
   "metadata": {},
   "outputs": [],
   "source": [
    "p   =  0.823 # percentage of orders filled correctly at Burger King was 82.3%\n",
    "n   =  3\n",
    "k   =  np.arange(0,4)"
   ]
  },
  {
   "cell_type": "code",
   "execution_count": 39,
   "metadata": {},
   "outputs": [],
   "source": [
    "binomial = stats.binom.pmf(k,n,p)"
   ]
  },
  {
   "cell_type": "code",
   "execution_count": 40,
   "metadata": {},
   "outputs": [
    {
     "name": "stdout",
     "output_type": "stream",
     "text": [
      "[0.00554523 0.0773513  0.3596617  0.55744177]\n"
     ]
    }
   ],
   "source": [
    "print(binomial)"
   ]
  },
  {
   "cell_type": "code",
   "execution_count": 41,
   "metadata": {},
   "outputs": [
    {
     "name": "stdout",
     "output_type": "stream",
     "text": [
      "a) all the three orders are filled correctly? is 0.5574\n"
     ]
    }
   ],
   "source": [
    "print('a) all the three orders are filled correctly? is %1.4f' %binomial[3])"
   ]
  },
  {
   "cell_type": "code",
   "execution_count": 42,
   "metadata": {},
   "outputs": [
    {
     "name": "stdout",
     "output_type": "stream",
     "text": [
      "b) none of the three orders are filled correctly? is 0.0055\n"
     ]
    }
   ],
   "source": [
    "print('b) none of the three orders are filled correctly? is %1.4f' %binomial[0])"
   ]
  },
  {
   "cell_type": "markdown",
   "metadata": {},
   "source": [
    "### To answer this question c) atleast two of the three orders are filled correctly, we need to find out 1 - Probability of upto 1 failure"
   ]
  },
  {
   "cell_type": "code",
   "execution_count": 43,
   "metadata": {},
   "outputs": [],
   "source": [
    "cumbinomial = stats.binom.cdf(k,n,p)"
   ]
  },
  {
   "cell_type": "code",
   "execution_count": 44,
   "metadata": {},
   "outputs": [
    {
     "name": "stdout",
     "output_type": "stream",
     "text": [
      "[0.00554523 0.08289653 0.44255823 1.        ]\n"
     ]
    }
   ],
   "source": [
    "print(cumbinomial)"
   ]
  },
  {
   "cell_type": "code",
   "execution_count": 45,
   "metadata": {},
   "outputs": [
    {
     "name": "stdout",
     "output_type": "stream",
     "text": [
      "c) at least of the three will be filled correctly? is 0.5574\n"
     ]
    }
   ],
   "source": [
    "P = 1 - cumbinomial[2]\n",
    "print('c) at least of the three will be filled correctly? is %1.4f' % P)"
   ]
  },
  {
   "cell_type": "code",
   "execution_count": 46,
   "metadata": {},
   "outputs": [
    {
     "name": "stdout",
     "output_type": "stream",
     "text": [
      "d) mean and standard deviation of the orders filled correctly are 2.4690 and  0.6611 respectively\n"
     ]
    }
   ],
   "source": [
    "# d) What are the mean and standard deviation of the binomial distribution\n",
    "p    = 0.823\n",
    "n    = 3\n",
    "mean = n* p # = 3 * 0.823\n",
    "sd   = np.sqrt(n * p * (1 - p))\n",
    "print('d) mean and standard deviation of the orders filled correctly are %1.4f and  %1.4f respectively' % (mean,sd))"
   ]
  },
  {
   "cell_type": "markdown",
   "metadata": {},
   "source": [
    "### Ploting  the binomial distribution function"
   ]
  },
  {
   "cell_type": "code",
   "execution_count": 47,
   "metadata": {},
   "outputs": [
    {
     "data": {
      "image/png": "[encoded data removed]",
      "text/plain": [
       "<Figure size 432x288 with 1 Axes>"
      ]
     },
     "metadata": {
      "needs_background": "light"
     },
     "output_type": "display_data"
    }
   ],
   "source": [
    "plt.plot(k,binomial, 'o-')\n",
    "plt.title('Binomial')\n",
    "plt.xlabel('Number of Orders filled correctly')\n",
    "plt.ylabel('Probability of Orders filled correctly')\n",
    "plt.show()"
   ]
  },
  {
   "cell_type": "markdown",
   "metadata": {},
   "source": [
    "# Normal Distribution\n"
   ]
  },
  {
   "cell_type": "markdown",
   "metadata": {},
   "source": [
    "* One of the most popular continuous distribution in Analytics field.\n",
    "* Normal distribution is observed across many naturally occurring measures such as birth weight, height and intelligence etc\n",
    "\n",
    "#### Probability Density Function\n",
    "\n",
    "f(x) = $\\frac {1}{\\sigma\\sqrt(2 \\pi)} e^\\frac {-(x-\\mu^2)}{2\\sigma^2}$\n",
    "\n",
    "Where\n",
    "* f(x) is used to represent a probability density function\n",
    "* x is any value of the continuous variable, where -∞ < x < ∞\n",
    "* e denotes the mathematical constant approximated by 2.71828\n",
    "* Π is a mathematical constant approximated by 3.14159\n",
    "* μ and σ are the mean and standard deviation of the normal distribution\n",
    "\n",
    "For a continuous function, the probability density function is the probability that the value has for the value of x. \n",
    "Since for continuous distributions the probability at a single point is zero, this is expressed in terms of an integral of its probability density function\n",
    "P(X<= x) = F(x) = \n",
    "$\\int_{-\\infty}^xf(t)dt$\n",
    "\n",
    "Standardized normal variable\n",
    "Compute Z by subtracting the mean, mu from a normally distributed variable, divide by the standard deviation, sigma.\n",
    "Z = (X - μ) / σ \n",
    "Z is in standard units. \n",
    "Z ~ N(0,1) and the variable, Z always has mean 0 and standard deviation 1\n",
    "\n",
    "Its pdf is given by\n",
    "\n",
    "fZ(z) = $\\frac{1}{ √2Π} {exp \\frac {-z2} {2}}$\n",
    "\n",
    "for all z $\\in R$\n",
    "\n",
    "The (1 / √2Π ) is there to make sure that the area under the PDF is 1.\n",
    "\n",
    "* For a normal distribution, mu is the location parameter, which locates (centre) the distribution on the horizontal axis.\n",
    "* Sigma is the scale parameter, which defines the spread of the normal distribution.\n",
    "* Normal distribution has no shape parameter since all the normal distribution curves have bell shape and are symmetrical. \n",
    "\n",
    "\n",
    "### Properties\n",
    "1. Theoretical normal density functions are defined between -∞ and ∞\n",
    "2. There are two parameters, location (μ which is the mean) and scale (σ which is standard deviation).\n",
    "3. It has a symmetrical (bell shape) around the mean. mean = median = mode\n",
    "4. Areas between specific values are measured in terms of μ and σ\n",
    "5. Any linear transformation of a normal random variable is also normal random variable.\n",
    "6. If X1 is an independent normal random variable with mean μ1 and variance $\\sigma1^2$ and \n",
    "      X2 is another independent normal random variable with mean μ2 and$\\sigma2^2$, \n",
    "then X1 + X2 is also a normal distribution with mean μ1 + μ2 and variance $\\sigma1^2$ + $\\sigma2^2$ \n",
    "\n",
    "| Value of the random variable | Area under the normal distribution (CDF) |\n",
    "| --------------------------------- | --------------------------|\n",
    "| $\\mu -  \\sigma \\leq x \\leq \\mu +  \\sigma$ | 0.6828 |\n",
    "| $\\mu - 2\\sigma \\leq x \\leq \\mu + 2\\sigma$ | 0.9545 |\n",
    "| $\\mu - 3\\sigma \\leq x \\leq \\mu + 3\\sigma$ | 0.9974 |\n",
    "\n",
    "### Some important functions in python for solving Normal Distribution problems\n",
    "\n",
    "#### 1. Cumulative Density Function (cdf)\n",
    "\n",
    "1. scipy.stats.norm.cdf(z)                 # Here z is an attribute\n",
    "\n",
    "2. stats.norm.cdf(z2) – stats.norm.cdf(z1) # Here z is an attribute\n",
    "\n",
    "3. stats.norm.isf(0.99) # Inverse Survival function gives the value given a probability\n",
    "\n",
    "4. stats.norm.interval(0.95, loc = mu, scale = sigma) # Returns 2 values between 95% of the values are distributed.\n",
    "\n"
   ]
  },
  {
   "cell_type": "markdown",
   "metadata": {},
   "source": [
    "# 7: Exercise 6.30 in page 228  \n"
   ]
  },
  {
   "cell_type": "markdown",
   "metadata": {},
   "source": [
    "6.30 The fill amount in 2-liter soft drink bottles is normally distributed, with a mean of 2.0 liters and a standard deviation of 0.05 liter. If bottles contain less than 95 % of the listed net content (1.90 liters, in this case), the manufacturer may be subject to penalty by the state office of consumer affairs. Bottles that have a net content above 2.10 liters may cause excess spillage upon opening. What proportion of the bottles will contain "
   ]
  },
  {
   "cell_type": "markdown",
   "metadata": {},
   "source": [
    "    a. between 1.90 and 2.0 liters? \n",
    "    b. between 1.90 and 2.10 liters? \n",
    "    c. below 1.90 liters above liters? \n",
    "    d. At least how much soft drink is contained in 99 % of the bottles? \n",
    "    e. Ninety-nine percent of the bottles contain an amount that is between which values (symmetrically distributed) around     the mean?\n"
   ]
  },
  {
   "cell_type": "code",
   "execution_count": 48,
   "metadata": {},
   "outputs": [],
   "source": [
    "mu     = 2\n",
    "sigma  = 0.05"
   ]
  },
  {
   "cell_type": "markdown",
   "metadata": {},
   "source": [
    "#### a. between 1.9 and 2.0 liters"
   ]
  },
  {
   "cell_type": "code",
   "execution_count": 49,
   "metadata": {},
   "outputs": [
    {
     "name": "stdout",
     "output_type": "stream",
     "text": [
      "Z value for 1.90 liters is -2.0000\n"
     ]
    }
   ],
   "source": [
    "x1   = 1.90\n",
    "z1   = (x1 - mu) /  sigma \n",
    "print(\"Z value for 1.90 liters is %3.4f\" % z1)"
   ]
  },
  {
   "cell_type": "code",
   "execution_count": 50,
   "metadata": {},
   "outputs": [
    {
     "name": "stdout",
     "output_type": "stream",
     "text": [
      "Z value for 2 liters is 0.0000\n"
     ]
    }
   ],
   "source": [
    "x2   = 2\n",
    "z2   = (x2 - mu) /  sigma \n",
    "print(\"Z value for 2 liters is %3.4f\" % z2)"
   ]
  },
  {
   "cell_type": "code",
   "execution_count": 51,
   "metadata": {},
   "outputs": [
    {
     "name": "stdout",
     "output_type": "stream",
     "text": [
      "a.  Proportion of bottles between 1.9 and 2 L is 0.4772\n"
     ]
    }
   ],
   "source": [
    "P  = stats.norm.cdf(z2) - stats.norm.cdf(z1)\n",
    "print(\"a.  Proportion of bottles between 1.9 and 2 L is %3.4f\" % P)"
   ]
  },
  {
   "cell_type": "markdown",
   "metadata": {},
   "source": [
    "#### b. between 1.9 and 2.1 liters"
   ]
  },
  {
   "cell_type": "code",
   "execution_count": 52,
   "metadata": {},
   "outputs": [
    {
     "name": "stdout",
     "output_type": "stream",
     "text": [
      "Z value for 2.1 liters is 2.0000\n"
     ]
    }
   ],
   "source": [
    "x3   = 2.1\n",
    "z3   = (x3 - mu) /  sigma\n",
    "print(\"Z value for 2.1 liters is %3.4f\" % z3)"
   ]
  },
  {
   "cell_type": "code",
   "execution_count": 53,
   "metadata": {},
   "outputs": [
    {
     "name": "stdout",
     "output_type": "stream",
     "text": [
      "b. Proportion of bottles between 1.9 and 2.1 L is 0.9545\n"
     ]
    }
   ],
   "source": [
    "P = stats.norm.cdf(z3) - stats.norm.cdf(z1)\n",
    "print(\"b. Proportion of bottles between 1.9 and 2.1 L is %3.4f\" %P)\n"
   ]
  },
  {
   "cell_type": "markdown",
   "metadata": {},
   "source": [
    "#### c. below 1.9 liters or above 2.1 liters"
   ]
  },
  {
   "cell_type": "code",
   "execution_count": 54,
   "metadata": {},
   "outputs": [
    {
     "name": "stdout",
     "output_type": "stream",
     "text": [
      "c. below 1.9 liters or above 2.1 liters is  0.0455\n"
     ]
    }
   ],
   "source": [
    "P1  =  stats.norm.cdf(z1)\n",
    "P2  =  1 - stats.norm.cdf(z3)\n",
    "print(\"c. below 1.9 liters or above 2.1 liters is  %3.4f\" % (P1 + P2))"
   ]
  },
  {
   "cell_type": "markdown",
   "metadata": {},
   "source": [
    "#### d) At least how much soft drink is contained in 99% of the bottles?"
   ]
  },
  {
   "cell_type": "code",
   "execution_count": 55,
   "metadata": {},
   "outputs": [
    {
     "name": "stdout",
     "output_type": "stream",
     "text": [
      "d. At least how much soft drink is contained in 99 percent of the bottles is: 1.8837 Liters\n"
     ]
    }
   ],
   "source": [
    "# Here we need to find the vol\n",
    "P = stats.norm.isf(q = 0.99, loc = mu, scale = sigma)\n",
    "print(\"d. At least how much soft drink is contained in 99 percent of the bottles is: %4.4f Liters\" % P)"
   ]
  },
  {
   "cell_type": "markdown",
   "metadata": {},
   "source": [
    "### e. Ninety-nine percent of the bottles contain an amount that is between which values (symmetrically distributed) around the mean?"
   ]
  },
  {
   "cell_type": "code",
   "execution_count": 56,
   "metadata": {},
   "outputs": [
    {
     "name": "stdout",
     "output_type": "stream",
     "text": [
      "e. Ninety-nine percent of the bottles contain an amount that is between 1.8712 Liters and 2.1288 Liters\n"
     ]
    }
   ],
   "source": [
    "lowerLimit, upperLimit =stats.norm.interval(0.99, loc = mu, scale = sigma)\n",
    "print(\"e. Ninety-nine percent of the bottles contain an amount that is between %4.4f Liters and %4.4f Liters\"%(lowerLimit, upperLimit))\n"
   ]
  },
  {
   "cell_type": "markdown",
   "metadata": {},
   "source": [
    "# 8 : Exercise 6.36 in page 228"
   ]
  },
  {
   "cell_type": "markdown",
   "metadata": {},
   "source": [
    "6.36 Interns report that when deciding on where to work. Career growth, salary and compensation, location and commute, and company culture and values are important factors to them. According to the Glassdoor blog's \"25 Highest Paying Companies for Interns 2014,\" bit.ly/1gxovjx, monthly pay of interns at Intel is \\\\$4,648. Suppose that the intern monthly pay is normally distributed, with a standard deviation of $400. What is the probability that the monthly pay of an intern at Intel is"
   ]
  },
  {
   "cell_type": "markdown",
   "metadata": {},
   "source": [
    "    a. less than 4,500?\n",
    "    b. between 4,300 and 4,700? \n",
    "    c. above 5,200? \n",
    "    d. Ninety-nine percent of the intern monthly pays are higher than what value? \n",
    "    e. Ninety-five percent of the intern monthly pays are between what two values, symmetrically distributed around the mean?\n"
   ]
  },
  {
   "cell_type": "code",
   "execution_count": 57,
   "metadata": {},
   "outputs": [],
   "source": [
    "mu     = 4648\n",
    "sigma  = 400"
   ]
  },
  {
   "cell_type": "markdown",
   "metadata": {},
   "source": [
    "### a. less than 4,500?"
   ]
  },
  {
   "cell_type": "code",
   "execution_count": 58,
   "metadata": {},
   "outputs": [
    {
     "name": "stdout",
     "output_type": "stream",
     "text": [
      "Z value for 4500 is -0.3700\n"
     ]
    }
   ],
   "source": [
    "x1   = 4500\n",
    "z1   = (x1 - mu) /  sigma \n",
    "print(\"Z value for 4500 is %3.4f\" % z1)"
   ]
  },
  {
   "cell_type": "code",
   "execution_count": 59,
   "metadata": {},
   "outputs": [
    {
     "name": "stdout",
     "output_type": "stream",
     "text": [
      "a.  The probability that the monthly pay of an intern at Intel less than $4,500 is 0.356\n"
     ]
    }
   ],
   "source": [
    "P  = stats.norm.cdf(z1)\n",
    "print(\"a.  The probability that the monthly pay of an intern at Intel less than $4,500 is %3.3f\" % P)"
   ]
  },
  {
   "cell_type": "markdown",
   "metadata": {},
   "source": [
    "### b. between 4,300 and 4,700? "
   ]
  },
  {
   "cell_type": "code",
   "execution_count": 60,
   "metadata": {},
   "outputs": [
    {
     "name": "stdout",
     "output_type": "stream",
     "text": [
      "Z value for 4300 is -0.8700\n"
     ]
    }
   ],
   "source": [
    "x1   = 4300\n",
    "z1   = (x1 - mu) /  sigma \n",
    "print(\"Z value for 4300 is %3.4f\" % z1)"
   ]
  },
  {
   "cell_type": "code",
   "execution_count": 61,
   "metadata": {},
   "outputs": [
    {
     "name": "stdout",
     "output_type": "stream",
     "text": [
      "Z value for 4700 is 0.1300\n"
     ]
    }
   ],
   "source": [
    "x2   = 4700\n",
    "z2   = (x2 - mu) /  sigma \n",
    "print(\"Z value for 4700 is %3.4f\" % z2)"
   ]
  },
  {
   "cell_type": "code",
   "execution_count": 62,
   "metadata": {},
   "outputs": [
    {
     "name": "stdout",
     "output_type": "stream",
     "text": [
      "b.  The probability that the monthly pay of an intern at Intel between $4,300 and $4,700 is 0.360\n"
     ]
    }
   ],
   "source": [
    "P  = stats.norm.cdf(z2) - stats.norm.cdf(z1)\n",
    "print(\"b.  The probability that the monthly pay of an intern at Intel between $4,300 and $4,700 is %3.3f\" % P)"
   ]
  },
  {
   "cell_type": "markdown",
   "metadata": {},
   "source": [
    "### c. above 5,200?"
   ]
  },
  {
   "cell_type": "code",
   "execution_count": 63,
   "metadata": {},
   "outputs": [
    {
     "name": "stdout",
     "output_type": "stream",
     "text": [
      "Z value for 5000 is 1.3800\n"
     ]
    }
   ],
   "source": [
    "x1   = 5200\n",
    "z1   = (x1 - mu) /  sigma \n",
    "print(\"Z value for 5000 is %3.4f\" % z1)"
   ]
  },
  {
   "cell_type": "code",
   "execution_count": 64,
   "metadata": {},
   "outputs": [
    {
     "name": "stdout",
     "output_type": "stream",
     "text": [
      "c.  The probability that the monthly pay of an intern at Intel  above $5,200 is 0.084\n"
     ]
    }
   ],
   "source": [
    "P  = 1 - stats.norm.cdf(z1)\n",
    "print(\"c.  The probability that the monthly pay of an intern at Intel  above $5,200 is %3.3f\" % P)"
   ]
  },
  {
   "cell_type": "markdown",
   "metadata": {},
   "source": [
    "### d. Ninety-nine percent of the intern monthly pays are higher than what value? "
   ]
  },
  {
   "cell_type": "code",
   "execution_count": 65,
   "metadata": {},
   "outputs": [
    {
     "name": "stdout",
     "output_type": "stream",
     "text": [
      "d. 99 percent of the intern's monthly pays are higher than $3717.46\n"
     ]
    }
   ],
   "source": [
    "P = stats.norm.isf(q = 0.99, loc = mu, scale = sigma)\n",
    "print(\"d. 99 percent of the intern's monthly pays are higher than $%4.2f\" % P)"
   ]
  },
  {
   "cell_type": "markdown",
   "metadata": {},
   "source": [
    "### e. Ninety-five percent of the intern monthly pays are between what two values, symmetrically distributed around the mean?\n"
   ]
  },
  {
   "cell_type": "code",
   "execution_count": 66,
   "metadata": {},
   "outputs": [
    {
     "name": "stdout",
     "output_type": "stream",
     "text": [
      "e. 95 percent of the intern's monthly pays are between $3864.0 and $5432.0\n"
     ]
    }
   ],
   "source": [
    "lowerLimit, upperLimit = stats.norm.interval(0.95, loc = mu, scale = sigma)\n",
    "print(\"e. 95 percent of the intern's monthly pays are between $%4.1f and $%4.1f\" % (lowerLimit, upperLimit))"
   ]
  },
  {
   "cell_type": "markdown",
   "metadata": {},
   "source": [
    "# Central Limit Theorem, Setting up of confidence intervals and Setting up hypothesis \n",
    "\n"
   ]
  },
  {
   "cell_type": "markdown",
   "metadata": {},
   "source": [
    "### Central Limit Theorem\n",
    "\n",
    "* Central Limit Theorem (CLT) is one of the most important theorems in Statistics due to its applications in testing of hypothesis.\n",
    "\n",
    "* CLT states that for a large sample drawn from a population with mean $\\mu$ and standard deviation $\\sigma$, the sampling distribution of mean, follows an approximate normal distribution with mean, μ and standard error σ / √(n) irrespective of the distribution of the population for large sample size.\n",
    "\n",
    "* Let S1, S2, ..., Sk be samples of size n, drawn from an independent and identically distributed population with mean, μ and standard deviation, σ. \n",
    "\n",
    "* Let $\\overline{X_1}$, $\\overline{X_2}$, ..., $\\overline{X_k}$, be the sample means of the samples (S1, S2, ..., Sk ). \n",
    "\n",
    "* According to CLT, the distribution of $\\overline{X_1}$, $\\overline{X_2}$, ..., $\\overline{X_k}$, follows a normal distribution with mean, μ and standard deviation, σ / √(n) for large value of n. \n",
    "\n",
    "* As a general rule, statisticians have found that for many population distribution, when the sample size is at least 30, the sampling distribution of the mean is approximately **normal.**\n",
    "\n",
    "### Implications of CLT\n",
    "* 1) X - μ / (σ / √(n) ~ N(0,1)\n",
    "* 2) If Sn = X1 + X2 + ... + Xn, then E(Sn) = nμ and Standard Error is σ √(n)\n",
    "* The random variable (Sn - nμ ) / (σ √(n))  is a standard normal variate\n",
    "\n"
   ]
  },
  {
   "cell_type": "code",
   "execution_count": 67,
   "metadata": {},
   "outputs": [],
   "source": [
    "import  statsmodels.stats.proportion    as  SMP "
   ]
  },
  {
   "cell_type": "markdown",
   "metadata": {},
   "source": [
    "# 9: Exercise 7.8 in page 246   \n"
   ]
  },
  {
   "cell_type": "markdown",
   "metadata": {},
   "source": [
    "7.8 Today, full-time college students report spending a mean of 27 hours per week on academic activities, both inside and outside the classroom. (Source: \"A Challenge to College Students for 2013: Don't Waste Your 6,570,\" Huffington Post, January 29, 2013, huff.to/13dNtuT.)  \n",
    "Assume the standard deviation of time spent on academic activities is 4 hours. If you select a random sample of 16 full-time college students, \n"
   ]
  },
  {
   "cell_type": "markdown",
   "metadata": {},
   "source": [
    "    a. What is the probability that the mean time spent on academic activities is at least 26 hours per week?\n",
    "    b. There is an 85 % chance that the sample mean is less than how many hours per week?\n",
    "    c. What assumption must you make in order to solve (a) and (b)?\n",
    "    d. If you select a random sample of 64 full-time college students, there is an 85 % chance that the sample mean is less     than how many hours per week?\n"
   ]
  },
  {
   "cell_type": "code",
   "execution_count": 68,
   "metadata": {},
   "outputs": [],
   "source": [
    "## Assumption is that sample is normally distributed\n"
   ]
  },
  {
   "cell_type": "code",
   "execution_count": 69,
   "metadata": {},
   "outputs": [],
   "source": [
    "mu = 27\n"
   ]
  },
  {
   "cell_type": "code",
   "execution_count": 70,
   "metadata": {},
   "outputs": [],
   "source": [
    "sd_pop = 4"
   ]
  },
  {
   "cell_type": "code",
   "execution_count": 71,
   "metadata": {},
   "outputs": [],
   "source": [
    "n = 16"
   ]
  },
  {
   "cell_type": "code",
   "execution_count": 72,
   "metadata": {},
   "outputs": [],
   "source": [
    "sd_sample = sd_pop/ np.sqrt(n)"
   ]
  },
  {
   "cell_type": "code",
   "execution_count": 73,
   "metadata": {},
   "outputs": [],
   "source": [
    "# mean Time>= 26"
   ]
  },
  {
   "cell_type": "code",
   "execution_count": 74,
   "metadata": {},
   "outputs": [],
   "source": [
    "z = (26 - mu)/sd_sample"
   ]
  },
  {
   "cell_type": "code",
   "execution_count": 75,
   "metadata": {},
   "outputs": [],
   "source": [
    "## 1 - Area below z for 26\n"
   ]
  },
  {
   "cell_type": "code",
   "execution_count": 76,
   "metadata": {},
   "outputs": [
    {
     "name": "stdout",
     "output_type": "stream",
     "text": [
      " Prob that mean time is at least 26 hours is 0.8413\n"
     ]
    }
   ],
   "source": [
    "print(\" Prob that mean time is at least 26 hours is %2.4f\"% (1 - stats.norm.cdf(z)))"
   ]
  },
  {
   "cell_type": "code",
   "execution_count": 77,
   "metadata": {},
   "outputs": [],
   "source": [
    "# The z for 85% in upper tail."
   ]
  },
  {
   "cell_type": "code",
   "execution_count": 78,
   "metadata": {},
   "outputs": [
    {
     "data": {
      "text/plain": [
       "25.96356661050621"
      ]
     },
     "execution_count": 78,
     "metadata": {},
     "output_type": "execute_result"
    }
   ],
   "source": [
    "stats.norm.isf(q = 0.85, loc = mu, scale = sd_sample)"
   ]
  },
  {
   "cell_type": "code",
   "execution_count": 79,
   "metadata": {},
   "outputs": [
    {
     "data": {
      "text/plain": [
       "28.03643338949379"
      ]
     },
     "execution_count": 79,
     "metadata": {},
     "output_type": "execute_result"
    }
   ],
   "source": [
    "z = stats.norm.ppf(0.85, loc = mu, scale = sd_sample)\n",
    "z"
   ]
  },
  {
   "cell_type": "code",
   "execution_count": 80,
   "metadata": {},
   "outputs": [],
   "source": [
    "val = (z* sd_sample)+ mu"
   ]
  },
  {
   "cell_type": "code",
   "execution_count": 81,
   "metadata": {},
   "outputs": [
    {
     "name": "stdout",
     "output_type": "stream",
     "text": [
      "Hours per week for which 85percent chance that sample mean is less 55.04\n"
     ]
    }
   ],
   "source": [
    "print(\"Hours per week for which 85percent chance that sample mean is less %.2f\" % val)"
   ]
  },
  {
   "cell_type": "code",
   "execution_count": 82,
   "metadata": {},
   "outputs": [],
   "source": [
    "## When 64 people in the random sample\n"
   ]
  },
  {
   "cell_type": "code",
   "execution_count": 83,
   "metadata": {},
   "outputs": [],
   "source": [
    "mu = 27"
   ]
  },
  {
   "cell_type": "code",
   "execution_count": 84,
   "metadata": {},
   "outputs": [],
   "source": [
    "sd_pop = 4"
   ]
  },
  {
   "cell_type": "code",
   "execution_count": 85,
   "metadata": {},
   "outputs": [],
   "source": [
    "n = 64"
   ]
  },
  {
   "cell_type": "code",
   "execution_count": 86,
   "metadata": {},
   "outputs": [],
   "source": [
    "sd_sample = sd_pop/ np.sqrt(n)"
   ]
  },
  {
   "cell_type": "code",
   "execution_count": 87,
   "metadata": {},
   "outputs": [],
   "source": [
    "# The z for 85% in upper tail.\n"
   ]
  },
  {
   "cell_type": "code",
   "execution_count": 88,
   "metadata": {},
   "outputs": [],
   "source": [
    "z = stats.norm.ppf(0.85)"
   ]
  },
  {
   "cell_type": "code",
   "execution_count": 89,
   "metadata": {},
   "outputs": [],
   "source": [
    "val = (z* sd_sample)+ mu"
   ]
  },
  {
   "cell_type": "code",
   "execution_count": 90,
   "metadata": {},
   "outputs": [
    {
     "name": "stdout",
     "output_type": "stream",
     "text": [
      "Hours per week for which 85percent chance that sample mean is less 27.52\n"
     ]
    }
   ],
   "source": [
    "print(\"Hours per week for which 85percent chance that sample mean is less %.2f\" % val)"
   ]
  },
  {
   "cell_type": "markdown",
   "metadata": {},
   "source": [
    "## Confidence Intervals    \n",
    "\n",
    "* When there is an uncertainity around measuring the value of an important poulation parameter, it is better to find the range in which the value of the parameter is likely to lie rather than predicting a point estimate (single value).\n",
    "* Confidence interval is the range in which the value of a population parameter is likely to lie with certain probability.\n",
    "* Confidence interval provides additional information about the population parameter that will be useful in decision making.\n",
    "\n",
    "### Confidence interval for population mean\n",
    "\n",
    "Let $X_1$, $X_2$, $X_3$, ..., $X_n$ be the sample means of samples $S_1$, $S_3$,  $S_3$, ..., $S_n$ that are drawn from an independent and identically distributed population, with mean, $\\mu$ and standard deviation, $\\sigma$.\n",
    "\n",
    "From the Central Limit Theorem, we know that the sample means, $X_i$ follows a normal distribution with mean, $\\mu$ and standard deviation $\\frac{\\sigma} {\\sqrt{n}}$.\n",
    "\n",
    "The variable Z = $\\frac{X_i - \\mu}{\\frac{\\sigma} {\\sqrt{n}}}$ follows a standard normal variable.\n",
    "\n",
    "### Assume that we want to find (1 - $\\alpha$) 100% confidence interval for the population mean. \n",
    "* We can distribute $\\alpha$ (probability of not observing true population parameter mean in the interval) equally ($\\alpha/2$) on either side of the distribution shown.\n",
    "\n",
    "* For $\\alpha$ = 0.05 or $\\alpha/2$ = 0.025, that is 95% confidence interval, we can calculate lower and upper values of the confidence interval from the standard normal distribution.\n",
    "* scipy.stats.norm.isf(q = 0.025) gives the value of Z for which the area under the normal distribution is less than 0.025.\n",
    "* The corresponding value is approximately 1.96 as shown in the previous example.\n",
    "* Using the transformation relationship between standard normal random variable Z and normal random variable X, we can write the 95% confidence interval for population mean when population standard deviation ($\\sigma$) is known as:\n",
    "$\\overline{X} \\pm 1.96 \\frac {\\sigma} {\\sqrt{n}}$, where $\\overline{X}$ is the estimated value of mean from a sample of size n.\n",
    "\n",
    "#### In general, (1 - $\\alpha$) 100% the confidence interval for the population mean when population standard deviation is known can be written as \n",
    "\n",
    "$\\overline{X} \\pm Z _\\frac{\\alpha}{2} \\frac {\\sigma} {\\sqrt{n}}$\n",
    "\n",
    "This equation is valid for large sample sizes, irrespective of the distribution of the population.\n",
    "\n",
    "This is equivalent to\n",
    "\n",
    "P($\\overline{X} - Z_\\frac{\\alpha}{2} \\times \\frac{\\sigma}{\\sqrt{n}} \\leq \\mu \\leq \\overline{X} + Z_\\frac{\\alpha}{2} \\times \\frac{\\sigma}{\\sqrt{n}}$) = 1 - $\\alpha$\n",
    "\n",
    "The absolute values of $Z_\\frac{\\alpha}{2}$ are shown in the following table:\n",
    "\n",
    "| $\\quad \\alpha \\quad$      | $Z_\\frac{\\alpha}{2}$ | Confidence Interval for $\\mu$ when $\\sigma$ is known |\n",
    "| ----         | ----             | --------------------------------------------------------  |\n",
    "| 0.10          | 1.64             |  $\\overline{X} \\quad \\pm 1.64 \\frac {\\sigma} {\\sqrt{n}}$  |\n",
    "| 0.05         | 1.96             |  $\\overline{X} \\quad \\pm 1.96 \\frac {\\sigma} {\\sqrt{n}}$  |      \n",
    "| 0.02         | 2.33             |  $\\overline{X} \\quad \\pm 2.33 \\frac {\\sigma} {\\sqrt{n}}$  |\n",
    "| 0.01         | 2.58             |  $\\overline{X} \\quad \\pm 2.58 \\frac {\\sigma} {\\sqrt{n}}$  |        "
   ]
  },
  {
   "cell_type": "code",
   "execution_count": null,
   "metadata": {},
   "outputs": [],
   "source": []
  },
  {
   "cell_type": "code",
   "execution_count": null,
   "metadata": {},
   "outputs": [],
   "source": []
  },
  {
   "cell_type": "markdown",
   "metadata": {},
   "source": [
    "# 10: Exercise 8.10 in page 265 \n"
   ]
  },
  {
   "cell_type": "markdown",
   "metadata": {},
   "source": [
    "8.10 The operations manager at a compact fluorescent light bulb (CFL) factory needs to estimate the mean life of a large shipment of CFLs. The manufacturer's specifications are that the standard deviation is 1,000 hours. A random sample of 64 CFLs indicated a sample mean life of 7,500 hours.\n"
   ]
  },
  {
   "cell_type": "markdown",
   "metadata": {},
   "source": [
    "    a. Construct a 95 % confidence interval estimate for the population mean life of compact fluorescent light bulbs in         this shipment.\n",
    "    b. Do you think that the manufacturer has the right to state that the compact fluorescent light bulbs have a mean life of   8,000 hours? Explain. \n",
    "    c. Must you assume that the population compact fluorescent light bulb life is normally distributed? Explain. \n",
    "    d. Suppose that the standard deviation changes to 800 hours. What are your answers in (a) and (b)?\n",
    "\n"
   ]
  },
  {
   "cell_type": "markdown",
   "metadata": {},
   "source": [
    "a) Calculate the 95% confidence interval for the population mean.\n",
    "\n",
    "It is known that \n",
    "* $\\overline{X}$ = 7500\n",
    "* $\\sigma$       = 1000\n",
    "* n              = 64\n",
    "\n",
    "We need to compute $\\overline{X}\\quad\\pm  1.96 \\frac {\\sigma} {\\sqrt{n}}$ "
   ]
  },
  {
   "cell_type": "code",
   "execution_count": 91,
   "metadata": {},
   "outputs": [
    {
     "name": "stdout",
     "output_type": "stream",
     "text": [
      "95 % confidence interval for population mean is 7255.0000  to 7745.0000\n"
     ]
    }
   ],
   "source": [
    "Xavg  = 7500\n",
    "sigma = 1000\n",
    "n     = 64\n",
    "Lower_Interval = Xavg - (1.96 * (sigma / np.sqrt(n)))\n",
    "Upper_Interval = Xavg + (1.96 * (sigma / np.sqrt(n)))\n",
    "\n",
    "print('95 %s confidence interval for population mean is %1.4f  to %1.4f' % ('%', Lower_Interval , Upper_Interval))"
   ]
  },
  {
   "cell_type": "markdown",
   "metadata": {},
   "source": [
    "### Another method of calculating Confidence Interval using  stats.norm.interval()"
   ]
  },
  {
   "cell_type": "code",
   "execution_count": 92,
   "metadata": {},
   "outputs": [
    {
     "name": "stdout",
     "output_type": "stream",
     "text": [
      "95 % confidence interval for population mean is 7255.0045  to 7744.9955\n"
     ]
    }
   ],
   "source": [
    "ci = 0.95\n",
    "s  = sigma / np.sqrt(n)\n",
    "LCI, UCI = stats.norm.interval(ci, loc = Xavg, scale = s) # Give confidence interval 95%, mean and std as arguments to get CI\n",
    "print('95 %s confidence interval for population mean is %1.4f  to %1.4f' % ('%', LCI , UCI))"
   ]
  },
  {
   "cell_type": "code",
   "execution_count": 93,
   "metadata": {},
   "outputs": [],
   "source": [
    "lowerLimit, upperLimit = stats.norm.interval(0.95, loc = mu, scale = sd_sample)"
   ]
  },
  {
   "cell_type": "code",
   "execution_count": 94,
   "metadata": {},
   "outputs": [
    {
     "name": "stdout",
     "output_type": "stream",
     "text": [
      "95 percent confidence interval for Population is between [ 26 and 28 ]\n"
     ]
    }
   ],
   "source": [
    "print(\"95 percent confidence interval for Population is between [ %.0f and %.0f ]\" % (lowerLimit, upperLimit))"
   ]
  },
  {
   "cell_type": "markdown",
   "metadata": {},
   "source": [
    "b. Do you think that the manufacturer has the right to state that the compact fluorescent light bulbs have a mean life of   8,000 hours? Explain."
   ]
  },
  {
   "cell_type": "code",
   "execution_count": 95,
   "metadata": {},
   "outputs": [],
   "source": [
    "## Solution 1 : Based on p-value"
   ]
  },
  {
   "cell_type": "code",
   "execution_count": 96,
   "metadata": {},
   "outputs": [],
   "source": [
    "z = (8000- Xavg)/s"
   ]
  },
  {
   "cell_type": "code",
   "execution_count": 97,
   "metadata": {},
   "outputs": [
    {
     "data": {
      "text/plain": [
       "4.0"
      ]
     },
     "execution_count": 97,
     "metadata": {},
     "output_type": "execute_result"
    }
   ],
   "source": [
    "z"
   ]
  },
  {
   "cell_type": "code",
   "execution_count": 98,
   "metadata": {},
   "outputs": [
    {
     "data": {
      "text/plain": [
       "3.167124183311998e-05"
      ]
     },
     "execution_count": 98,
     "metadata": {},
     "output_type": "execute_result"
    }
   ],
   "source": [
    "p = 1- stats.norm.cdf(z)\n",
    "p"
   ]
  },
  {
   "cell_type": "code",
   "execution_count": 99,
   "metadata": {},
   "outputs": [],
   "source": [
    "# Since p-value<0.05, manufacturer cannot say that the mean life of the bulb is 8000 hours"
   ]
  },
  {
   "cell_type": "code",
   "execution_count": 100,
   "metadata": {},
   "outputs": [],
   "source": [
    "## Solution 2 : Based on confidence Interval"
   ]
  },
  {
   "cell_type": "code",
   "execution_count": 101,
   "metadata": {},
   "outputs": [],
   "source": [
    "## 8000 does not fall within the confidence interval"
   ]
  },
  {
   "cell_type": "markdown",
   "metadata": {},
   "source": [
    "c. Must you assume that the population compact fluorescent light bulb life is normally distributed? Explain. \n"
   ]
  },
  {
   "cell_type": "markdown",
   "metadata": {},
   "source": [
    "     We need not make this assumption because CLT applies irrespective of the distribution of the population for large sample size."
   ]
  },
  {
   "cell_type": "markdown",
   "metadata": {},
   "source": [
    "d. Suppose that the standard deviation changes to 800 hours. What are your answers in (a) and (b)?\n"
   ]
  },
  {
   "cell_type": "code",
   "execution_count": 102,
   "metadata": {},
   "outputs": [
    {
     "name": "stdout",
     "output_type": "stream",
     "text": [
      "95 % confidence interval for population mean is 7304.0000  to 7696.0000\n"
     ]
    }
   ],
   "source": [
    "Xavg  = 7500\n",
    "sigma = 800\n",
    "n     = 64\n",
    "Lower_Interval = Xavg - (1.96 * (sigma / np.sqrt(n)))\n",
    "Upper_Interval = Xavg + (1.96 * (sigma / np.sqrt(n)))\n",
    "\n",
    "print('95 %s confidence interval for population mean is %1.4f  to %1.4f' % ('%', Lower_Interval , Upper_Interval))"
   ]
  },
  {
   "cell_type": "markdown",
   "metadata": {},
   "source": [
    "    Since 8000 does not fall within the new confidence interval, the manufacturer still can't say that the mean life of the bulb  is 8000 hours"
   ]
  },
  {
   "cell_type": "markdown",
   "metadata": {},
   "source": [
    "## Confidence interval for population mean when standard deviation is unknown\n",
    "\n",
    "When the standard deviation of the population is unknown, then we will not be able to use the formula \n",
    "$\\overline{X} \\pm Z _\\frac{\\alpha}{2} \\frac {\\sigma} {\\sqrt{n}}$\n",
    "\n",
    "William Sealy Gosset under a pseudonym, Student in 1908 proved that if the population follows a normal distribution and the standard deviation taken from the sample, then the following statistic \n",
    "t = $\\frac{\\overline{X} - \\mu} {\\frac{S} {\\sqrt{n}}}$ \n",
    "follows a t distribution with n-1 degrees of freedom.\n",
    "\n",
    "* Here, S is the standard deviation (aka standard error) estimated from the sample.\n",
    "* $\\mu$ is the population mean.\n",
    "* n is the sample size\n",
    "\n",
    "Note: n - 1 is the degrees of freedom.\n",
    "\n",
    "**Degrees of freedom for an estimate is equal to the number of values minus the number of parameters estimated to arrive at the estimate in question. In other words, the number of values in the final calculation of a statistic that are free to vary.** \n",
    "\n",
    "The t distribution is very similar to the standard normal distribution.  As the degrees of freedom increases, the t distribution converges to standard normal distribution.\n",
    "\n",
    "The (1 - $\\alpha$) 100% confidence interval for population mean when the population standard deviation is unknown is given as:\n",
    "\n",
    "$\\overline{X} \\pm t _{\\frac{\\alpha}{{2,}}{n-1}} \\frac {S} {\\sqrt{n}}$\n",
    "\n",
    "* In the above equation, the value, $t_{\\frac{\\alpha}{{2,}}{n-1}}$ is the value of t under the t -distribution for which the cumulative probability.\n",
    "\n",
    "F(t) = 0.025 when the degrees of freedom is n-1 and $\\alpha$ is 0.05.\n",
    "* Degrees of freedom is (n - 1) since sample of size n is used to estimate the standard deviation. \n",
    "\n",
    "For various values of $\\alpha$, calculate the absolute values of $t_{\\frac{\\alpha}{{2,}}{n-1}}$ along with the $Z_\\frac{\\alpha}{2}$ values.\n",
    "\n",
    "scipy.stats.t.ppf\n",
    "\n",
    "| $\\alpha$ | t with df = 10 | t with df = 30 | t with df = 50 | t with df = 100 | t with df = 500 | Z with alpha/2 | \n",
    "| ---- | ------ | ----- | ---- | ------ | ----- | ---- |\n",
    "| 0.10 | 1.8125 | 1.6973 | 1.6759 | 1.6602 | 1.6479 | 1.64 |\n",
    "| 0.05 | 2.2281 | 2.0423 | 2.0086 | 1.9840 | 1.9647 | 1.96 |\n",
    "| 0.02 | 2.7638 | 2.4573 | 2.4033 | 2.3642 | 2.3338 | 2.33 |\n",
    "| 0.01 | 3.1693 | 2.7500 | 2.6778 | 2.6259 | 2.5857 | 2.58 |\n",
    "\n",
    "**We observe that the values of t and Z converge for higher degrees of freedom.**"
   ]
  },
  {
   "cell_type": "markdown",
   "metadata": {},
   "source": [
    "\n",
    "\n",
    "# 11: Exercise 8.22 in page 272  \n"
   ]
  },
  {
   "cell_type": "markdown",
   "metadata": {},
   "source": [
    "8.22 One of the major measures of the quality of service provided by any organization is the speed with which the organization responds to customer complaints. A large family-held department store selling furniture and flooring, including carpet, had undergone a major expansion in the past several years. In particular, the flooring department had expanded from 2 installation crews to an installation supervisor, a measurer, and 15 installation crews. The store had the business objective of improving its response to complaints. The variable of interest was defined as the number of days between when the complaint was made and when it was resolved. Data were collected from 50 complaints that were made in the past year. The data, stored in ‘Furniture.csv’\n"
   ]
  },
  {
   "cell_type": "markdown",
   "metadata": {},
   "source": [
    "    a. Construct a 95% confidence interval estimate for the population mean number of days between the receipt of a complaint   and the resolution of the complaint.\n",
    "    b. What assumption must you make about the population distribution in order to construct the confidence interval estimate   in (a)?\n",
    "    c. Do you think that the assumption needed in order to construct the confidence interval estimate in (a) is valid?          Explain.   \n",
    "    d. What effect might your conclusion in (c) have on the validity of the results in (a)?\n",
    "\n"
   ]
  },
  {
   "cell_type": "code",
   "execution_count": 103,
   "metadata": {},
   "outputs": [],
   "source": [
    "furniture =  pd.read_csv(\"Furniture.csv\")"
   ]
  },
  {
   "cell_type": "code",
   "execution_count": 104,
   "metadata": {},
   "outputs": [
    {
     "data": {
      "text/html": [
       "<div>\n",
       "<style scoped>\n",
       "    .dataframe tbody tr th:only-of-type {\n",
       "        vertical-align: middle;\n",
       "    }\n",
       "\n",
       "    .dataframe tbody tr th {\n",
       "        vertical-align: top;\n",
       "    }\n",
       "\n",
       "    .dataframe thead th {\n",
       "        text-align: right;\n",
       "    }\n",
       "</style>\n",
       "<table border=\"1\" class=\"dataframe\">\n",
       "  <thead>\n",
       "    <tr style=\"text-align: right;\">\n",
       "      <th></th>\n",
       "      <th>Days</th>\n",
       "    </tr>\n",
       "  </thead>\n",
       "  <tbody>\n",
       "    <tr>\n",
       "      <th>0</th>\n",
       "      <td>54</td>\n",
       "    </tr>\n",
       "    <tr>\n",
       "      <th>1</th>\n",
       "      <td>5</td>\n",
       "    </tr>\n",
       "    <tr>\n",
       "      <th>2</th>\n",
       "      <td>35</td>\n",
       "    </tr>\n",
       "    <tr>\n",
       "      <th>3</th>\n",
       "      <td>137</td>\n",
       "    </tr>\n",
       "    <tr>\n",
       "      <th>4</th>\n",
       "      <td>31</td>\n",
       "    </tr>\n",
       "  </tbody>\n",
       "</table>\n",
       "</div>"
      ],
      "text/plain": [
       "   Days\n",
       "0    54\n",
       "1     5\n",
       "2    35\n",
       "3   137\n",
       "4    31"
      ]
     },
     "execution_count": 104,
     "metadata": {},
     "output_type": "execute_result"
    }
   ],
   "source": [
    "furniture.head()"
   ]
  },
  {
   "cell_type": "code",
   "execution_count": 105,
   "metadata": {},
   "outputs": [
    {
     "data": {
      "text/plain": [
       "<matplotlib.axes._subplots.AxesSubplot at 0x230566d26d8>"
      ]
     },
     "execution_count": 105,
     "metadata": {},
     "output_type": "execute_result"
    },
    {
     "data": {
      "image/png": "[encoded data removed]",
      "text/plain": [
       "<Figure size 432x288 with 1 Axes>"
      ]
     },
     "metadata": {
      "needs_background": "light"
     },
     "output_type": "display_data"
    }
   ],
   "source": [
    "sns.distplot(furniture['Days'])"
   ]
  },
  {
   "cell_type": "code",
   "execution_count": 106,
   "metadata": {},
   "outputs": [],
   "source": [
    "## Data is highly skewed"
   ]
  },
  {
   "cell_type": "code",
   "execution_count": 107,
   "metadata": {},
   "outputs": [],
   "source": [
    "# Calculating mean and standard deviation"
   ]
  },
  {
   "cell_type": "code",
   "execution_count": 108,
   "metadata": {},
   "outputs": [
    {
     "name": "stdout",
     "output_type": "stream",
     "text": [
      "Mean number of days between the receipt of a complaint and the resolution of the complaint is 43.0400\n",
      "SD of days between the receipt of a complaint and the resolution of the complaint is 41.926057\n"
     ]
    }
   ],
   "source": [
    "avg        = furniture.Days.mean(axis = 0)\n",
    "sd         = np.std(furniture,ddof = 1)\n",
    "print('Mean number of days between the receipt of a complaint and the resolution of the complaint is %1.4f' % avg)\n",
    "print('SD of days between the receipt of a complaint and the resolution of the complaint is %1.6f'   % sd)\n",
    "# Here ddof modifies the divisor of the sum of the squares of the samples-minus-mean"
   ]
  },
  {
   "cell_type": "code",
   "execution_count": 109,
   "metadata": {},
   "outputs": [],
   "source": [
    "# Constructing Interval by assuming a T distribution # As population std deviation is not given"
   ]
  },
  {
   "cell_type": "code",
   "execution_count": 110,
   "metadata": {},
   "outputs": [
    {
     "name": "stdout",
     "output_type": "stream",
     "text": [
      "2.0096\n"
     ]
    }
   ],
   "source": [
    "n      = 50\n",
    "SL_2   = 0.025\n",
    "deg_fr = n - 1\n",
    "tval = np.abs(round(stats.t.ppf( (1- SL_2), deg_fr),4)) \n",
    "print(tval)"
   ]
  },
  {
   "cell_type": "code",
   "execution_count": 111,
   "metadata": {},
   "outputs": [
    {
     "name": "stdout",
     "output_type": "stream",
     "text": [
      "a. 95 % confidence interval for population mean is 31.1246  to 54.9554\n"
     ]
    }
   ],
   "source": [
    "LCI         = avg - (tval * (sd / np.sqrt(n)))\n",
    "UCI         = avg + (tval * (sd / np.sqrt(n)))\n",
    "print('a. 95 %s confidence interval for population mean is %1.4f  to %1.4f' % ('%', LCI , UCI))"
   ]
  },
  {
   "cell_type": "markdown",
   "metadata": {},
   "source": [
    "### Another method using scipy.stats"
   ]
  },
  {
   "cell_type": "code",
   "execution_count": 112,
   "metadata": {},
   "outputs": [
    {
     "name": "stdout",
     "output_type": "stream",
     "text": [
      "a. 95 % confidence interval for population mean is 31.1247  to 54.9553\n"
     ]
    }
   ],
   "source": [
    "alpha       = 0.95\n",
    "S           = sd / np.sqrt(n)\n",
    "LCI, UCI    = stats.t.interval(alpha, deg_fr, avg, S)\n",
    "print('a. 95 %s confidence interval for population mean is %1.4f  to %1.4f' % ('%', LCI , UCI))"
   ]
  },
  {
   "cell_type": "code",
   "execution_count": 113,
   "metadata": {},
   "outputs": [],
   "source": [
    "#stats.t.interval(0.95, loc = mean, scale  = sd_sample, df= (n-1))"
   ]
  },
  {
   "cell_type": "markdown",
   "metadata": {},
   "source": [
    "# 12: Exercise 8.24 in page 272"
   ]
  },
  {
   "cell_type": "markdown",
   "metadata": {},
   "source": [
    "\n",
    "  \n",
    "8.24 The file ‘Market Penetration’ contains Facebook penetration values (the percentage of the country population that are Facebook users) world's largest \n",
    "56 57 43 55 42 35 7 25 42 17 43\n",
    "6 31 28 59 20 27 36 45 80 57 56\n",
    "Source: Data extracted from slidesha.re/ODv6vG.\n"
   ]
  },
  {
   "cell_type": "markdown",
   "metadata": {},
   "source": [
    "    a. Construct a 95 % confidence interval estimate for the population mean Facebook penetration. \n",
    "    b. What assumption do you need to make about the population to construct the interval in (a)? \n",
    "    c. Given the data presented, do you think the assumption needed in (a) is valid? Explain.\n"
   ]
  },
  {
   "cell_type": "code",
   "execution_count": 114,
   "metadata": {},
   "outputs": [
    {
     "name": "stdout",
     "output_type": "stream",
     "text": [
      "<class 'pandas.core.frame.DataFrame'>\n",
      "RangeIndex: 22 entries, 0 to 21\n",
      "Data columns (total 2 columns):\n",
      "Country                 22 non-null object\n",
      "Facebook Penetration    22 non-null float64\n",
      "dtypes: float64(1), object(1)\n",
      "memory usage: 432.0+ bytes\n"
     ]
    }
   ],
   "source": [
    "market = pd.read_csv(\"MarketPenetration.csv\")\n",
    "market.info()"
   ]
  },
  {
   "cell_type": "code",
   "execution_count": 115,
   "metadata": {},
   "outputs": [
    {
     "name": "stdout",
     "output_type": "stream",
     "text": [
      "Mean Market Penetration from given sample of countries is 39.4091\n",
      "SD Market Penetration from given sample of countries is 18.456278\n"
     ]
    }
   ],
   "source": [
    "avg        = market['Facebook Penetration'].mean()\n",
    "sd         = market['Facebook Penetration'].std()\n",
    "print('Mean Market Penetration from given sample of countries is %2.4f' % avg)\n",
    "print('SD Market Penetration from given sample of countries is %2.6f'   % sd)\n"
   ]
  },
  {
   "cell_type": "code",
   "execution_count": 116,
   "metadata": {},
   "outputs": [
    {
     "name": "stdout",
     "output_type": "stream",
     "text": [
      "2.0796\n"
     ]
    }
   ],
   "source": [
    "n      = 22\n",
    "SL_2   = 0.025\n",
    "deg_fr = n - 1\n",
    "tval = np.abs(round(stats.t.ppf( (1- SL_2), deg_fr),4)) \n",
    "print(tval)"
   ]
  },
  {
   "cell_type": "code",
   "execution_count": 117,
   "metadata": {},
   "outputs": [
    {
     "name": "stdout",
     "output_type": "stream",
     "text": [
      "a. 95 % confidence interval for Mean Population Market Penetration is 31.23  to 47.59\n"
     ]
    }
   ],
   "source": [
    "alpha       = 0.95\n",
    "S           = sd / np.sqrt(n)\n",
    "LCI, UCI    = stats.t.interval(alpha, deg_fr, avg, S)\n",
    "print('a. 95 %s confidence interval for Mean Population Market Penetration is %1.2f  to %1.2f' % ('%', LCI , UCI))"
   ]
  },
  {
   "cell_type": "code",
   "execution_count": 118,
   "metadata": {},
   "outputs": [],
   "source": [
    "#stats.t.interval(0.95, loc = mu, scale = sd_sample, df = (n-1)  )"
   ]
  },
  {
   "cell_type": "markdown",
   "metadata": {},
   "source": [
    "b. What assumption do you need to make about the population to construct the interval in (a)? \n"
   ]
  },
  {
   "cell_type": "markdown",
   "metadata": {},
   "source": [
    "    The assumption we have to make here about the population, which is set of mean percentage facebook market penetration of all the countries, is that: it should be Normal. This is for us to go ahead with T distribution for the given sample. "
   ]
  },
  {
   "cell_type": "markdown",
   "metadata": {},
   "source": [
    "c. Given the data presented, do you think the assumption needed in (a) is valid? Explain."
   ]
  },
  {
   "cell_type": "code",
   "execution_count": null,
   "metadata": {},
   "outputs": [],
   "source": []
  },
  {
   "cell_type": "markdown",
   "metadata": {},
   "source": [
    "### Confidence interval for population proportion"
   ]
  },
  {
   "cell_type": "markdown",
   "metadata": {},
   "source": [
    "The Central Limit Theorem for the population proportion is stated below:\n",
    "\n",
    "If $X_1$, $X_2$, ...,$X_n$ are from Bernoulli trials with probability of success p, that is E($X_i$) = p and Var($X_i$) =pq (where a = 1- p), \n",
    "* then the sampling distribution of probability of success (say $\\hat{p}$) for a large sample size follows an approximate normal distribution with mean p, and standard error $\\sqrt{\\frac{pq}{n}}$, where n is the sample size.\n",
    "\n",
    "The variable, $\\frac{\\hat{p} - p}{\\sqrt{\\frac{pq}{n}}}$ converges to a standard normal distribution.\n",
    "\n",
    "Note:\n",
    "\n",
    "* The standard deviation of the sampling distribution of proportions depends on the value of p which is unknown.\n",
    "* Rule of thumb: value of n is set to npq $\\geq$ 10.\n",
    "\n",
    "The (1 - $\\alpha$)100% confidence interval for population proportion p is given by \n",
    "\n",
    "$\\hat{p}$ - $Z_\\frac{\\alpha}{2} \\sqrt{\\frac{\\hat(p)\\hat(q)}{n}}$ $\\leq$ p\n",
    "$\\leq$ $\\hat{p}$ + $Z_\\frac{\\alpha}{2} \\sqrt{\\frac{\\hat(p)\\hat(q)}{n}}$ \n"
   ]
  },
  {
   "cell_type": "markdown",
   "metadata": {},
   "source": [
    "\n",
    "# 13: Exercise 8.28 in page 275  \n"
   ]
  },
  {
   "cell_type": "markdown",
   "metadata": {},
   "source": [
    "8.28 A cellphone provider has the business objective of wanting to estimate the proportion of subscribers who would upgrade to a new cellphone with improved features if it were made available at a substantially reduced cost. Data are collected from a random sample of 500 subscribers. The results indicate that 135 of the subscribers would upgrade to a new cellphone at a reduced cost. \n"
   ]
  },
  {
   "cell_type": "markdown",
   "metadata": {},
   "source": [
    "    a. Construct a 99 % confidence interval estimate for the population proportion of subscribers that would upgrade to a new   cellphone at a reduced cost.\n",
    "    b. How would the manager in charge of promotional programs use the results in (a)?\n"
   ]
  },
  {
   "cell_type": "markdown",
   "metadata": {},
   "source": [
    "In this question, \n",
    "* n          =  500\n",
    "* $\\hat{p}$  =  135 / 500 = 0.27\n",
    "* $\\hat{q}$  =  365 / 500 = 0.73\n",
    "\n",
    "We find n X $\\hat{p}$ X $\\hat{q}$ = 500 * 0.27 * 0.73 = 98.55 $\\geq$ 10, and hence we can use the confidence interval equation\n",
    "$\\hat{p}$ - $Z_\\frac{\\alpha}{2} \\sqrt{\\frac{\\hat(p)\\hat(q)}{n}}$ $\\leq$ p\n",
    "$\\leq$ $\\hat{p}$ + $Z_\\frac{\\alpha}{2} \\sqrt{\\frac{\\hat(p)\\hat(q)}{n}}$ "
   ]
  },
  {
   "cell_type": "code",
   "execution_count": 119,
   "metadata": {},
   "outputs": [
    {
     "name": "stdout",
     "output_type": "stream",
     "text": [
      "a. 99 % confidence interval for population propotion is 0.2189  to 0.3211\n"
     ]
    }
   ],
   "source": [
    "n           = 500\n",
    "n_success   = 135\n",
    "alpha       = 0.01\n",
    "LCI, UCI    = SMP.proportion_confint(count = n_success, nobs = n, alpha = alpha, method = 'normal')\n",
    "print('a. 99 %s confidence interval for population propotion is %1.4f  to %1.4f' % ('%', LCI , UCI))"
   ]
  },
  {
   "cell_type": "markdown",
   "metadata": {},
   "source": [
    "b. The manager can say that proportion of subscribers who would upgrade to new Cellphone at a reduced cost is between 22 to 32 percent with 99% confidence. This information could be used in either depending on the marketing budget, in either way. "
   ]
  },
  {
   "cell_type": "markdown",
   "metadata": {},
   "source": [
    "# 14: Exercise 8.40 in page 280  \n",
    "\n",
    " "
   ]
  },
  {
   "cell_type": "markdown",
   "metadata": {},
   "source": [
    "8.40 If a light bulb manufacturing company wants to estimate with 95 % confidence, the mean life of compact fluorescent light bulbs to within 200 hours and also assumes that the population standard deviation is 1,000 hours, how many compact fluorescent light bulbs need to be selected?"
   ]
  },
  {
   "cell_type": "code",
   "execution_count": 120,
   "metadata": {},
   "outputs": [],
   "source": [
    "# We use Normal distribution instead of T distribution B'coz in T distribution we need degrees of Freedom for which we need 'n'\n"
   ]
  },
  {
   "cell_type": "code",
   "execution_count": 121,
   "metadata": {},
   "outputs": [],
   "source": [
    "# Let n be the sample size\n"
   ]
  },
  {
   "cell_type": "code",
   "execution_count": 122,
   "metadata": {},
   "outputs": [
    {
     "name": "stdout",
     "output_type": "stream",
     "text": [
      "1.96\n"
     ]
    }
   ],
   "source": [
    "Z     = round(stats.norm.isf(q = 0.025),2) # We need to calculate the value of Z at (alpha/2) when alpha = 0.05\n",
    "sigma = 1000\n",
    "D     = 200\n",
    "print(np.abs(Z))"
   ]
  },
  {
   "cell_type": "code",
   "execution_count": 123,
   "metadata": {},
   "outputs": [
    {
     "data": {
      "text/plain": [
       "96.0"
      ]
     },
     "execution_count": 123,
     "metadata": {},
     "output_type": "execute_result"
    }
   ],
   "source": [
    "n = round(((np.abs(Z) * sigma ) / D)**2,0)\n",
    "n"
   ]
  },
  {
   "cell_type": "code",
   "execution_count": 124,
   "metadata": {},
   "outputs": [],
   "source": [
    "# Another way"
   ]
  },
  {
   "cell_type": "code",
   "execution_count": 125,
   "metadata": {},
   "outputs": [],
   "source": [
    "# confidence interval = 95% i.e, [0.025, 0.975]"
   ]
  },
  {
   "cell_type": "code",
   "execution_count": 126,
   "metadata": {},
   "outputs": [],
   "source": [
    "sd = 1000"
   ]
  },
  {
   "cell_type": "code",
   "execution_count": 127,
   "metadata": {},
   "outputs": [],
   "source": [
    "e = 200"
   ]
  },
  {
   "cell_type": "code",
   "execution_count": 128,
   "metadata": {},
   "outputs": [],
   "source": [
    "# Determining z for the given confidence interval, z for 0.975 and not 0.95"
   ]
  },
  {
   "cell_type": "code",
   "execution_count": 129,
   "metadata": {},
   "outputs": [],
   "source": [
    "z = stats.norm.ppf(0.975)"
   ]
  },
  {
   "cell_type": "markdown",
   "metadata": {},
   "source": [
    "**To determine sample-size for the mean**\n",
    "\n",
    "    n = ((z^2)* (sd^2))/ (e^2)  \n",
    "**To determine sample-size for the Proportion**\n",
    "    \n",
    "    n = ((z^2)pi(1 - pi) )/ (e^2)"
   ]
  },
  {
   "cell_type": "code",
   "execution_count": 130,
   "metadata": {},
   "outputs": [],
   "source": [
    "# Determine sample size for the mean"
   ]
  },
  {
   "cell_type": "code",
   "execution_count": 131,
   "metadata": {},
   "outputs": [],
   "source": [
    "n = ((z*z)*(sd*sd))/ (e*e)"
   ]
  },
  {
   "cell_type": "code",
   "execution_count": 132,
   "metadata": {},
   "outputs": [
    {
     "name": "stdout",
     "output_type": "stream",
     "text": [
      "The sample size is 96.0\n"
     ]
    }
   ],
   "source": [
    "print(\"The sample size is\" ,np.round(n))"
   ]
  },
  {
   "cell_type": "markdown",
   "metadata": {},
   "source": [
    "# 15: Exercise 8.48 in page 281  \n",
    "\n",
    "  "
   ]
  },
  {
   "cell_type": "markdown",
   "metadata": {},
   "source": [
    "8.48 According to a study released by The Financial Brand, an online publication focusing on branding issues and advice affecting retail banks and credit unions, 68 % of financial institutions use churn rate (attrition) to gauge the effectiveness of their marketing efforts. (Source: \"2014 State of Bank & Credit Union Marketing\" bit.ly/1np8FVx.) \n"
   ]
  },
  {
   "cell_type": "markdown",
   "metadata": {},
   "source": [
    "    a. If you conduct a follow-up study to estimate the population proportion of financial institutions that use churn rate     to gauge the effectiveness of their marketing efforts, would you use a π of 0.68 or 0.50 in the sample size formula? \n",
    "    b. Using your answer in (a), find the sample size necessary to estimate, with 95 % confidence, the population proportion    to within +0.03."
   ]
  },
  {
   "cell_type": "markdown",
   "metadata": {},
   "source": [
    "**To determine sample-size for the Proportion**\n",
    "    \n",
    "    n = ((z^2)pi(1 - pi) )/ (e^2)"
   ]
  },
  {
   "cell_type": "code",
   "execution_count": 133,
   "metadata": {},
   "outputs": [],
   "source": [
    "pi = 0.68"
   ]
  },
  {
   "cell_type": "code",
   "execution_count": 134,
   "metadata": {},
   "outputs": [],
   "source": [
    "e = 0.03"
   ]
  },
  {
   "cell_type": "code",
   "execution_count": 135,
   "metadata": {},
   "outputs": [],
   "source": [
    "# Confidence Interval is 95% i.e., [0.025,0.975]"
   ]
  },
  {
   "cell_type": "code",
   "execution_count": 136,
   "metadata": {},
   "outputs": [],
   "source": [
    "z  = stats.norm.ppf(0.975)"
   ]
  },
  {
   "cell_type": "code",
   "execution_count": 137,
   "metadata": {},
   "outputs": [],
   "source": [
    "n = ( (z*z)*pi*(1- pi))/(e*e)"
   ]
  },
  {
   "cell_type": "code",
   "execution_count": 138,
   "metadata": {},
   "outputs": [
    {
     "name": "stdout",
     "output_type": "stream",
     "text": [
      "The sample size is 929.0\n"
     ]
    }
   ],
   "source": [
    "print(\"The sample size is\" ,np.round(n))"
   ]
  },
  {
   "cell_type": "markdown",
   "metadata": {},
   "source": [
    "# 16: Exercise 9.14 in page 308  \n",
    "\n",
    " "
   ]
  },
  {
   "cell_type": "markdown",
   "metadata": {},
   "source": [
    "9.14 The quality-control manager at a compact flu fluorescent light bulb (CFL) factory needs to determine whether the mean life of a large shipment of CFLs is equal to 7,500 hours. The population standard deviation is 1,000 hours. A random sample of 64 CFLs indicates a sample mean life of 7,250 hours. \n"
   ]
  },
  {
   "cell_type": "markdown",
   "metadata": {},
   "source": [
    "    a. At the 0.05 level of significance, is there evidence that the mean life is different from 7,500 hours? \n",
    "    b. Compute the p-value and interpret its meaning. \n",
    "    c. Construct a 95 % confidence interval estimate of the population mean life of the CFLs. \n",
    "    d. Compare the results of (a) and (c). What conclusions do you reach?"
   ]
  },
  {
   "cell_type": "code",
   "execution_count": 139,
   "metadata": {},
   "outputs": [],
   "source": [
    "# H0: mean(CFL Life) = 7500"
   ]
  },
  {
   "cell_type": "code",
   "execution_count": 140,
   "metadata": {},
   "outputs": [],
   "source": [
    "# Ha: mean(CFL Life) != 7500"
   ]
  },
  {
   "cell_type": "code",
   "execution_count": 141,
   "metadata": {},
   "outputs": [],
   "source": [
    "# Two-tail Test"
   ]
  },
  {
   "cell_type": "code",
   "execution_count": 142,
   "metadata": {},
   "outputs": [],
   "source": [
    "mu = 7500"
   ]
  },
  {
   "cell_type": "code",
   "execution_count": 143,
   "metadata": {},
   "outputs": [],
   "source": [
    "sd_pop = 1000"
   ]
  },
  {
   "cell_type": "code",
   "execution_count": 144,
   "metadata": {},
   "outputs": [],
   "source": [
    "n = 64"
   ]
  },
  {
   "cell_type": "code",
   "execution_count": 145,
   "metadata": {},
   "outputs": [],
   "source": [
    "sample_mean = 7250"
   ]
  },
  {
   "cell_type": "code",
   "execution_count": 146,
   "metadata": {},
   "outputs": [],
   "source": [
    "z_score = (sample_mean - mu) / (sd_pop/ np.sqrt(n))"
   ]
  },
  {
   "cell_type": "code",
   "execution_count": 147,
   "metadata": {},
   "outputs": [
    {
     "data": {
      "text/plain": [
       "-2.0"
      ]
     },
     "execution_count": 147,
     "metadata": {},
     "output_type": "execute_result"
    }
   ],
   "source": [
    "z_score"
   ]
  },
  {
   "cell_type": "code",
   "execution_count": 148,
   "metadata": {},
   "outputs": [],
   "source": [
    "\n",
    "pval = stats.norm.sf(np.abs(z_score))*2 ## df is required for t-test"
   ]
  },
  {
   "cell_type": "code",
   "execution_count": 149,
   "metadata": {},
   "outputs": [
    {
     "name": "stdout",
     "output_type": "stream",
     "text": [
      "Z-statistic = -2.000  p-value = 0.0455\n"
     ]
    }
   ],
   "source": [
    "print (\"Z-statistic = %6.3f  p-value = %6.4f\" % (z_score, pval))"
   ]
  },
  {
   "cell_type": "code",
   "execution_count": 150,
   "metadata": {},
   "outputs": [],
   "source": [
    "# Confidence Interval of population using sample parameters"
   ]
  },
  {
   "cell_type": "code",
   "execution_count": 151,
   "metadata": {},
   "outputs": [],
   "source": [
    "# loc = sample mean, scale = standard error"
   ]
  },
  {
   "cell_type": "code",
   "execution_count": 152,
   "metadata": {},
   "outputs": [
    {
     "data": {
      "text/plain": [
       "(7005.004501932493, 7494.995498067507)"
      ]
     },
     "execution_count": 152,
     "metadata": {},
     "output_type": "execute_result"
    }
   ],
   "source": [
    "stats.norm.interval(0.95, loc = 7250,  scale = sd_pop/ np.sqrt(n))"
   ]
  },
  {
   "cell_type": "markdown",
   "metadata": {},
   "source": [
    "\n",
    "# 17: Exercise 9.16 in page 308  \n"
   ]
  },
  {
   "cell_type": "markdown",
   "metadata": {},
   "source": [
    "9.16 A bottled water distributor wants to determine whether the mean amount of water contained in 1 gallon bottle purchased from a nationally known water bottling company is actually 1 gallon. You know from the water bottling company specifications that the standard deviation of the amount of water per bottle is 0.02 gallon. You select a random sample of 50 bottles, and the mean amount of water per 1-gallon bottle is 0.995 gallon \n"
   ]
  },
  {
   "cell_type": "markdown",
   "metadata": {},
   "source": [
    "    a. Is there evidence that the mean amount is different from 1.0 gallon? (Use α = 0.01.) \n",
    "    b. Compute the p-value and interpret its meaning. \n",
    "    c. Construct a 99 % confidence interval estimate of the population mean amount of water per bottle. \n",
    "    d. Compare the results of (a) and (c). What conclusions do you reach?\n",
    " "
   ]
  },
  {
   "cell_type": "code",
   "execution_count": 153,
   "metadata": {},
   "outputs": [],
   "source": [
    "mu =1"
   ]
  },
  {
   "cell_type": "code",
   "execution_count": 154,
   "metadata": {},
   "outputs": [],
   "source": [
    "sd_pop = 0.02"
   ]
  },
  {
   "cell_type": "code",
   "execution_count": 155,
   "metadata": {},
   "outputs": [],
   "source": [
    "n =50"
   ]
  },
  {
   "cell_type": "code",
   "execution_count": 156,
   "metadata": {},
   "outputs": [],
   "source": [
    "sample_mean = 0.995"
   ]
  },
  {
   "cell_type": "code",
   "execution_count": 157,
   "metadata": {},
   "outputs": [],
   "source": [
    "# H0: mean(gallon) = 1"
   ]
  },
  {
   "cell_type": "code",
   "execution_count": 158,
   "metadata": {},
   "outputs": [],
   "source": [
    "# Ha: mean(gallon) != 1"
   ]
  },
  {
   "cell_type": "code",
   "execution_count": 159,
   "metadata": {},
   "outputs": [],
   "source": [
    "# Two-tail Test"
   ]
  },
  {
   "cell_type": "code",
   "execution_count": 160,
   "metadata": {},
   "outputs": [],
   "source": [
    "z = (sample_mean - mu)/ (sd_pop/np.sqrt(n))"
   ]
  },
  {
   "cell_type": "code",
   "execution_count": 161,
   "metadata": {},
   "outputs": [
    {
     "data": {
      "text/plain": [
       "-1.7677669529663704"
      ]
     },
     "execution_count": 161,
     "metadata": {},
     "output_type": "execute_result"
    }
   ],
   "source": [
    "z"
   ]
  },
  {
   "cell_type": "code",
   "execution_count": 162,
   "metadata": {},
   "outputs": [],
   "source": [
    "## p-value for Z stat"
   ]
  },
  {
   "cell_type": "code",
   "execution_count": 163,
   "metadata": {},
   "outputs": [],
   "source": [
    "pval = stats.norm.sf(np.abs(z))*2 "
   ]
  },
  {
   "cell_type": "code",
   "execution_count": 164,
   "metadata": {},
   "outputs": [
    {
     "data": {
      "text/plain": [
       "0.07709987174354146"
      ]
     },
     "execution_count": 164,
     "metadata": {},
     "output_type": "execute_result"
    }
   ],
   "source": [
    "pval"
   ]
  },
  {
   "cell_type": "code",
   "execution_count": 165,
   "metadata": {},
   "outputs": [],
   "source": [
    "## Since p-val> 0.01 = There is no evidence to suggest that mean amount is different from 1 gallon"
   ]
  },
  {
   "cell_type": "code",
   "execution_count": 166,
   "metadata": {},
   "outputs": [],
   "source": [
    "# 0.07709987174354146"
   ]
  },
  {
   "cell_type": "code",
   "execution_count": 167,
   "metadata": {},
   "outputs": [],
   "source": [
    "# Confidence Interval"
   ]
  },
  {
   "cell_type": "code",
   "execution_count": 168,
   "metadata": {},
   "outputs": [
    {
     "data": {
      "text/plain": [
       "(0.9877144545291262, 1.002285545470874)"
      ]
     },
     "execution_count": 168,
     "metadata": {},
     "output_type": "execute_result"
    }
   ],
   "source": [
    "stats.norm.interval(0.99, loc = sample_mean, scale = (sd_pop/np.sqrt(n)))"
   ]
  },
  {
   "cell_type": "markdown",
   "metadata": {},
   "source": [
    "# 18: Exercise 9.24 in page 313  \n"
   ]
  },
  {
   "cell_type": "markdown",
   "metadata": {},
   "source": [
    "9.24 You are the manager of a restaurant for a fast food franchise. Last month, the mean waiting time at the drive-through window for branches in your geographic region, as measured from the time a customer places an order until the time the customer receives the order, was 3.7 minutes. You select a random sample of 64 orders. The sample mean waiting time is 3.57 minutes, with a sample standard deviation of 0.8 minute.  \n"
   ]
  },
  {
   "cell_type": "markdown",
   "metadata": {},
   "source": [
    "\n",
    "    a. At the 0.05 level of significance, is there evidence that the population mean waiting time is different from             3.7 minutes? \n",
    "    b. Because the sample size is 64, do you need to be concerned about the shape of the population distribution when           conducting the test in (a)? Explain."
   ]
  },
  {
   "cell_type": "code",
   "execution_count": 169,
   "metadata": {},
   "outputs": [],
   "source": [
    "mu = 3.7"
   ]
  },
  {
   "cell_type": "code",
   "execution_count": 170,
   "metadata": {},
   "outputs": [],
   "source": [
    "n =64"
   ]
  },
  {
   "cell_type": "code",
   "execution_count": 171,
   "metadata": {},
   "outputs": [],
   "source": [
    "sample_mean = 3.57"
   ]
  },
  {
   "cell_type": "code",
   "execution_count": 172,
   "metadata": {},
   "outputs": [],
   "source": [
    "sample_sd = 0.8"
   ]
  },
  {
   "cell_type": "code",
   "execution_count": 173,
   "metadata": {},
   "outputs": [],
   "source": [
    "# H0: mean(wait time) = 3.7"
   ]
  },
  {
   "cell_type": "code",
   "execution_count": 174,
   "metadata": {},
   "outputs": [],
   "source": [
    "# Ha: mean(wait time) != 3.7"
   ]
  },
  {
   "cell_type": "code",
   "execution_count": 175,
   "metadata": {},
   "outputs": [],
   "source": [
    "# Two-tail Test"
   ]
  },
  {
   "cell_type": "code",
   "execution_count": 176,
   "metadata": {},
   "outputs": [],
   "source": [
    "t_stat = (sample_mean - mu)/ (sample_sd/ np.sqrt(n))"
   ]
  },
  {
   "cell_type": "code",
   "execution_count": 177,
   "metadata": {},
   "outputs": [
    {
     "data": {
      "text/plain": [
       "-1.3000000000000034"
      ]
     },
     "execution_count": 177,
     "metadata": {},
     "output_type": "execute_result"
    }
   ],
   "source": [
    "t_stat"
   ]
  },
  {
   "cell_type": "code",
   "execution_count": 178,
   "metadata": {},
   "outputs": [],
   "source": [
    "## Calculating p-value"
   ]
  },
  {
   "cell_type": "code",
   "execution_count": 179,
   "metadata": {},
   "outputs": [],
   "source": [
    "pval = stats.t.sf(np.abs(t_stat), df = (n-1))*2 "
   ]
  },
  {
   "cell_type": "code",
   "execution_count": 180,
   "metadata": {},
   "outputs": [
    {
     "data": {
      "text/plain": [
       "0.1983372407669739"
      ]
     },
     "execution_count": 180,
     "metadata": {},
     "output_type": "execute_result"
    }
   ],
   "source": [
    "pval"
   ]
  },
  {
   "cell_type": "code",
   "execution_count": 181,
   "metadata": {},
   "outputs": [],
   "source": [
    "# Since p-value>0.05, we can conclude that there is not enough evidence to suggest mean(wait time) is different from 3.7 minutes"
   ]
  },
  {
   "cell_type": "markdown",
   "metadata": {},
   "source": [
    "# 19: Exercise 9.32 in page 314  \n",
    "\n",
    "  "
   ]
  },
  {
   "cell_type": "markdown",
   "metadata": {},
   "source": [
    "9.32 A manufacturing company produces steel housings electrical equipment. The main component part of the housing is a steel trough that is made out of a 14-gauge steel coil. It is produced using a 250-ton progressive punch press with a wipe down operation that puts two 90-degree forms in the flat steel to make the trough. The distance from one side of the form to the other is critical because of weatherproofing in outdoor applications. The company requires that the width of the trough be between 8.31 inches and 8.61 inches. The file ‘Trough.csv’ contains the widths of the troughs, in inches, for a sample of n = 49:\n"
   ]
  },
  {
   "cell_type": "markdown",
   "metadata": {},
   "source": [
    "    a. At the 0.05 level of significance, is there evidence that the mean width of the troughs is different from 8.46 inches?  \n",
    "    b. What assumption about the population distribution is needed in order to conduct the t test in (a)?\n",
    "    \n",
    "    c. Evaluate the assumption made in (b). \n",
    "    \n",
    "    d. Do you think that the assumption needed in order to conduct the r test in (a) is valid? Explain."
   ]
  },
  {
   "cell_type": "code",
   "execution_count": 182,
   "metadata": {},
   "outputs": [],
   "source": [
    "trough = pd.read_csv(\"Trough.csv\")"
   ]
  },
  {
   "cell_type": "code",
   "execution_count": 183,
   "metadata": {},
   "outputs": [
    {
     "data": {
      "text/html": [
       "<div>\n",
       "<style scoped>\n",
       "    .dataframe tbody tr th:only-of-type {\n",
       "        vertical-align: middle;\n",
       "    }\n",
       "\n",
       "    .dataframe tbody tr th {\n",
       "        vertical-align: top;\n",
       "    }\n",
       "\n",
       "    .dataframe thead th {\n",
       "        text-align: right;\n",
       "    }\n",
       "</style>\n",
       "<table border=\"1\" class=\"dataframe\">\n",
       "  <thead>\n",
       "    <tr style=\"text-align: right;\">\n",
       "      <th></th>\n",
       "      <th>Width</th>\n",
       "    </tr>\n",
       "  </thead>\n",
       "  <tbody>\n",
       "    <tr>\n",
       "      <th>count</th>\n",
       "      <td>49.000000</td>\n",
       "    </tr>\n",
       "    <tr>\n",
       "      <th>mean</th>\n",
       "      <td>8.420898</td>\n",
       "    </tr>\n",
       "    <tr>\n",
       "      <th>std</th>\n",
       "      <td>0.046115</td>\n",
       "    </tr>\n",
       "    <tr>\n",
       "      <th>min</th>\n",
       "      <td>8.312000</td>\n",
       "    </tr>\n",
       "    <tr>\n",
       "      <th>25%</th>\n",
       "      <td>8.405000</td>\n",
       "    </tr>\n",
       "    <tr>\n",
       "      <th>50%</th>\n",
       "      <td>8.420000</td>\n",
       "    </tr>\n",
       "    <tr>\n",
       "      <th>75%</th>\n",
       "      <td>8.458000</td>\n",
       "    </tr>\n",
       "    <tr>\n",
       "      <th>max</th>\n",
       "      <td>8.498000</td>\n",
       "    </tr>\n",
       "  </tbody>\n",
       "</table>\n",
       "</div>"
      ],
      "text/plain": [
       "           Width\n",
       "count  49.000000\n",
       "mean    8.420898\n",
       "std     0.046115\n",
       "min     8.312000\n",
       "25%     8.405000\n",
       "50%     8.420000\n",
       "75%     8.458000\n",
       "max     8.498000"
      ]
     },
     "execution_count": 183,
     "metadata": {},
     "output_type": "execute_result"
    }
   ],
   "source": [
    "trough.describe()"
   ]
  },
  {
   "cell_type": "code",
   "execution_count": 184,
   "metadata": {},
   "outputs": [],
   "source": [
    "# H0: mean(width) = 8.46"
   ]
  },
  {
   "cell_type": "code",
   "execution_count": 185,
   "metadata": {},
   "outputs": [],
   "source": [
    "# Ha: mean(width) != 8.46"
   ]
  },
  {
   "cell_type": "code",
   "execution_count": 186,
   "metadata": {},
   "outputs": [],
   "source": [
    "# Two-tail Test"
   ]
  },
  {
   "cell_type": "code",
   "execution_count": 187,
   "metadata": {},
   "outputs": [],
   "source": [
    "mu = 8.46"
   ]
  },
  {
   "cell_type": "code",
   "execution_count": 188,
   "metadata": {},
   "outputs": [],
   "source": [
    "sample_mean = trough.mean()"
   ]
  },
  {
   "cell_type": "code",
   "execution_count": 189,
   "metadata": {},
   "outputs": [],
   "source": [
    "n = 49"
   ]
  },
  {
   "cell_type": "code",
   "execution_count": 190,
   "metadata": {},
   "outputs": [],
   "source": [
    "sample_sd = trough.std()"
   ]
  },
  {
   "cell_type": "code",
   "execution_count": 191,
   "metadata": {},
   "outputs": [
    {
     "data": {
      "text/plain": [
       "Width    0.046115\n",
       "dtype: float64"
      ]
     },
     "execution_count": 191,
     "metadata": {},
     "output_type": "execute_result"
    }
   ],
   "source": [
    "sample_sd"
   ]
  },
  {
   "cell_type": "code",
   "execution_count": 192,
   "metadata": {},
   "outputs": [],
   "source": [
    "se = sample_sd/np.sqrt(n)"
   ]
  },
  {
   "cell_type": "code",
   "execution_count": 193,
   "metadata": {},
   "outputs": [],
   "source": [
    "t = (sample_mean - mu)/se"
   ]
  },
  {
   "cell_type": "code",
   "execution_count": 194,
   "metadata": {},
   "outputs": [],
   "source": [
    "pval = stats.t.sf(np.abs(t), df = (n-1))*2 "
   ]
  },
  {
   "cell_type": "code",
   "execution_count": 195,
   "metadata": {},
   "outputs": [
    {
     "data": {
      "text/plain": [
       "array([3.14485846e-07])"
      ]
     },
     "execution_count": 195,
     "metadata": {},
     "output_type": "execute_result"
    }
   ],
   "source": [
    "pval"
   ]
  },
  {
   "cell_type": "code",
   "execution_count": 196,
   "metadata": {},
   "outputs": [],
   "source": [
    "## P-value<0.05, Hence enough evidence to reject null hypothesis."
   ]
  },
  {
   "cell_type": "markdown",
   "metadata": {},
   "source": [
    "# One and Two Sample Tests"
   ]
  },
  {
   "cell_type": "code",
   "execution_count": 197,
   "metadata": {},
   "outputs": [],
   "source": [
    "from scipy.stats import ttest_1samp, wilcoxon"
   ]
  },
  {
   "cell_type": "code",
   "execution_count": 198,
   "metadata": {},
   "outputs": [],
   "source": [
    "from statsmodels.stats.power import ttest_power"
   ]
  },
  {
   "cell_type": "markdown",
   "metadata": {},
   "source": [
    "# One Sample Test  \n",
    "# 20: Exercise 9.50 in page 319\n"
   ]
  },
  {
   "cell_type": "markdown",
   "metadata": {},
   "source": [
    "9.50 A survey of nonprofit organizations showed that online fundraising has increased in the past year. Based on random sample of 55 nonprofit organizations, the mean one-time gift donation in the past year was 75 Dollars, with a standard deviation of 9 Dollars. \n"
   ]
  },
  {
   "cell_type": "markdown",
   "metadata": {},
   "source": [
    "    a. If you test the null hypothesis at the 0.01 level of significance, is there evidence that the mean one-time gift         donation is greater than 70? \n",
    "    b. Interpret the meaning of the p-value in this problem.\n"
   ]
  },
  {
   "cell_type": "code",
   "execution_count": 199,
   "metadata": {},
   "outputs": [],
   "source": [
    "n =55"
   ]
  },
  {
   "cell_type": "code",
   "execution_count": 200,
   "metadata": {},
   "outputs": [],
   "source": [
    "sd = 9"
   ]
  },
  {
   "cell_type": "code",
   "execution_count": 201,
   "metadata": {},
   "outputs": [],
   "source": [
    "mu = 70"
   ]
  },
  {
   "cell_type": "code",
   "execution_count": 202,
   "metadata": {},
   "outputs": [],
   "source": [
    "sample_mean = 75"
   ]
  },
  {
   "cell_type": "code",
   "execution_count": 203,
   "metadata": {},
   "outputs": [],
   "source": [
    "# H0:  Mean(one time donation) <= 70"
   ]
  },
  {
   "cell_type": "code",
   "execution_count": 204,
   "metadata": {},
   "outputs": [],
   "source": [
    "# HA: Mean(one time donation) > 70"
   ]
  },
  {
   "cell_type": "code",
   "execution_count": 205,
   "metadata": {},
   "outputs": [],
   "source": [
    "t_score = (sample_mean - mu) / (sd/ np.sqrt(n))"
   ]
  },
  {
   "cell_type": "code",
   "execution_count": 206,
   "metadata": {},
   "outputs": [
    {
     "data": {
      "text/plain": [
       "4.120110270608702"
      ]
     },
     "execution_count": 206,
     "metadata": {},
     "output_type": "execute_result"
    }
   ],
   "source": [
    "t_score"
   ]
  },
  {
   "cell_type": "code",
   "execution_count": 207,
   "metadata": {},
   "outputs": [],
   "source": [
    "## Calculating P-value for T-score"
   ]
  },
  {
   "cell_type": "code",
   "execution_count": 208,
   "metadata": {},
   "outputs": [],
   "source": [
    "pval = stats.t.sf(np.abs(t_score), n-1)*2# two-sided pvalue = Prob(abs(t)>t_score)"
   ]
  },
  {
   "cell_type": "code",
   "execution_count": 209,
   "metadata": {},
   "outputs": [
    {
     "name": "stdout",
     "output_type": "stream",
     "text": [
      "T-statistic =  4.120  p-value = 0.0001\n"
     ]
    }
   ],
   "source": [
    "print (\"T-statistic = %6.3f  p-value = %6.4f\" % (t_score, pval))"
   ]
  },
  {
   "cell_type": "markdown",
   "metadata": {},
   "source": [
    "# 21: Exercise 9.56 in page 322  \n"
   ]
  },
  {
   "cell_type": "markdown",
   "metadata": {},
   "source": [
    "9.56 The worldwide market share for the Mozilla Firefox web browser was 17 % in recent month. (Data extracted from netmarketshare.com.) Suppose that you decide to select a sample of 100 students at your university and you find that 22 use the Mozilla Firefox web browser \n",
    "\n"
   ]
  },
  {
   "cell_type": "markdown",
   "metadata": {},
   "source": [
    "    a. Use the five-step p-value approach to try to determine whether there is evidence that the market share for the Mozilla   Firefox web browser at your university is greater than the worldwide market share of 17 %. (Use the 0.05 level of        significance) \n",
    "    b. Suppose that the sample size is n = 400, and you find that 22 % of the sample of students at your university (88 out     of 400) use the Mozilla Firefox web browser. Use the five-step p-value approach to try to determine whether there is     evidence that the market share for the Mozilla Firefox web browser at your university is greater than the worldwide      market share of 17 %. (Use the 0.05 level of significance.) \n",
    "    c. Discuss the effect that sample size has on hypothesis testing. \n",
    "    d. What do you think are your chances of rejecting any null hypothesis concerning a population proportion if a sample       size of n = 20 is used?"
   ]
  },
  {
   "cell_type": "code",
   "execution_count": 210,
   "metadata": {},
   "outputs": [],
   "source": [
    "## Z_stat = (p - pi)/ np.sqrt( (pi*(1- pi)) / n )"
   ]
  },
  {
   "cell_type": "code",
   "execution_count": 211,
   "metadata": {},
   "outputs": [],
   "source": [
    "## p = sample proportion = (No of events of interest in sample)/ (sample size)"
   ]
  },
  {
   "cell_type": "code",
   "execution_count": 212,
   "metadata": {},
   "outputs": [],
   "source": [
    "## pi = hypothesized proportion of events in population"
   ]
  },
  {
   "cell_type": "code",
   "execution_count": 213,
   "metadata": {},
   "outputs": [],
   "source": [
    "## n = sample size"
   ]
  },
  {
   "cell_type": "code",
   "execution_count": 214,
   "metadata": {},
   "outputs": [],
   "source": [
    "# Part(a)"
   ]
  },
  {
   "cell_type": "code",
   "execution_count": 215,
   "metadata": {},
   "outputs": [],
   "source": [
    "pi = 0.17"
   ]
  },
  {
   "cell_type": "code",
   "execution_count": 216,
   "metadata": {},
   "outputs": [],
   "source": [
    "p = 0.22"
   ]
  },
  {
   "cell_type": "code",
   "execution_count": 217,
   "metadata": {},
   "outputs": [],
   "source": [
    "n = 100"
   ]
  },
  {
   "cell_type": "code",
   "execution_count": 218,
   "metadata": {},
   "outputs": [],
   "source": [
    "z_stat = (p - pi)/ np.sqrt( (pi*(1- pi)) / n )"
   ]
  },
  {
   "cell_type": "code",
   "execution_count": 219,
   "metadata": {},
   "outputs": [
    {
     "data": {
      "text/plain": [
       "1.3310871701625049"
      ]
     },
     "execution_count": 219,
     "metadata": {},
     "output_type": "execute_result"
    }
   ],
   "source": [
    "z_stat"
   ]
  },
  {
   "cell_type": "code",
   "execution_count": 220,
   "metadata": {},
   "outputs": [],
   "source": [
    "pval = stats.norm.sf(np.abs(z_stat)) #onesided"
   ]
  },
  {
   "cell_type": "code",
   "execution_count": 221,
   "metadata": {},
   "outputs": [
    {
     "data": {
      "text/plain": [
       "0.0915801650036761"
      ]
     },
     "execution_count": 221,
     "metadata": {},
     "output_type": "execute_result"
    }
   ],
   "source": [
    "pval"
   ]
  },
  {
   "cell_type": "markdown",
   "metadata": {},
   "source": [
    "# Two sample Test\n",
    "# 22: Exercise 10.8 in page 343"
   ]
  },
  {
   "cell_type": "markdown",
   "metadata": {},
   "source": [
    "10.8 A recent study (data extracted from E. J. Boyland et al., Food Choice and Overconsumption: Effect of a Premium Sports Celebrity Endorser\" Journal of Pediatrics, March 13, 2013, bit.ly/16NR4Bi) found that 51 children who watched a commercial for Walker Crisps (potato chips) featuring a long-standing sports celebrity endorser ate a mean of 36 grams of Walker Crisps as compared to a mean of 25 grams of Walker Crisps for 41 children who watched a commercial for an alternative food snack. Suppose that the sample standard deviation for the children who watched the sports celebrity-endorsed Walker Crisps commercial was 21.4 grams and the sample standard deviation for the children who watched the alternative food snack commercial was 12.8 grams. \n"
   ]
  },
  {
   "cell_type": "markdown",
   "metadata": {},
   "source": [
    "    a. Assuming that the population variances are equal and α = 0.05 is there evidence that the mean amount of Walker Crisps    eaten was significantly higher for the children who watched the sports celebrity-endorsed Walker Crisps commercial? \n",
    "    b. Assuming that the population variances are equal, construct a 95 % confidence interval estimate of the difference        between the mean amount of Walker Crisps eaten by children who watched the sports celebrity-endorsed Walker Crisps       commercial and children who watched the alternative food snack commercial. \n",
    "    c. Compare and discuss the results of (a) and (b).\n"
   ]
  },
  {
   "cell_type": "code",
   "execution_count": 222,
   "metadata": {},
   "outputs": [],
   "source": [
    "import numpy as np"
   ]
  },
  {
   "cell_type": "code",
   "execution_count": 223,
   "metadata": {},
   "outputs": [],
   "source": [
    "from scipy.stats import ttest_1samp, ttest_ind, mannwhitneyu, levene, shapiro, wilcoxon"
   ]
  },
  {
   "cell_type": "code",
   "execution_count": 224,
   "metadata": {},
   "outputs": [],
   "source": [
    "from statsmodels.stats.power import ttest_power"
   ]
  },
  {
   "cell_type": "code",
   "execution_count": 225,
   "metadata": {},
   "outputs": [],
   "source": [
    "n1 =51"
   ]
  },
  {
   "cell_type": "code",
   "execution_count": 226,
   "metadata": {},
   "outputs": [],
   "source": [
    "n2 = 41"
   ]
  },
  {
   "cell_type": "code",
   "execution_count": 227,
   "metadata": {},
   "outputs": [],
   "source": [
    "M1 = 36"
   ]
  },
  {
   "cell_type": "code",
   "execution_count": 228,
   "metadata": {},
   "outputs": [],
   "source": [
    "M2 = 25"
   ]
  },
  {
   "cell_type": "code",
   "execution_count": 229,
   "metadata": {},
   "outputs": [],
   "source": [
    "sd1 = 21.4"
   ]
  },
  {
   "cell_type": "code",
   "execution_count": 230,
   "metadata": {},
   "outputs": [],
   "source": [
    "sd2 = 12.8"
   ]
  },
  {
   "cell_type": "code",
   "execution_count": 231,
   "metadata": {},
   "outputs": [],
   "source": [
    "# H0  : Mean1 = Mean2"
   ]
  },
  {
   "cell_type": "code",
   "execution_count": 232,
   "metadata": {},
   "outputs": [],
   "source": [
    "# H1  : Mean1 != Mean2"
   ]
  },
  {
   "cell_type": "code",
   "execution_count": 233,
   "metadata": {},
   "outputs": [],
   "source": [
    "t_stat, p_val = stats.ttest_ind_from_stats(M1, sd1, n1, M2, sd2, n2, equal_var=True)"
   ]
  },
  {
   "cell_type": "code",
   "execution_count": 234,
   "metadata": {},
   "outputs": [
    {
     "name": "stdout",
     "output_type": "stream",
     "text": [
      "T-statistic = 2.899  p-value = 0.0024\n"
     ]
    }
   ],
   "source": [
    "print (\"T-statistic = %.3f  p-value = %.4f\" % (t_stat, p_val/2))"
   ]
  },
  {
   "cell_type": "markdown",
   "metadata": {},
   "source": [
    "# 23: Exercise 10.12 in page 344  "
   ]
  },
  {
   "cell_type": "markdown",
   "metadata": {},
   "source": [
    "10.12 A bank with a branch located in a commercial district of a city has the business objective of developing an improved process for serving customers during the noon-to- 1 P.M. lunch period. Management decides to first study the waiting time in the current process. The waiting time is defined as the number of minutes at elapses from when the customer enters the line until he or she reaches the teller window. Data are collected from a random sample of 15 customers and stored in ‘Bank1’. These data are: 4.21 5.55 3.02 5.13 4.77 2.34 3.54 3.20 4.50 6.10 0.38 5.12 6.46 6.19 3.79 \n",
    "Suppose that another branch, located in a residential area, is also concerned with improving the process of serving customers in the noon-to-1 P.M. lunch period. Data are collected from a random sample of 15 customers and stored in ‘Bank2’. These data are: 9.66 5.90 8.02 5.79 8.73 3.82 8.01 8.35 10.49 6.68 5.64 4.08 6.17 9.91 5.47 \n"
   ]
  },
  {
   "cell_type": "markdown",
   "metadata": {},
   "source": [
    "    a. Assuming that the population variances from both banks are equal, is there evidence of a difference in the mean          waiting time between the two branches? (Use a 0.05.) \n",
    "    b. Determine the p-value in (a) and interpret its meaning \n",
    "    c. In addition to equal variances, what other assumption is necessary in (a)? \n",
    "    d. Construct and interpret a 95 % confidence interval estimate of the difference between the population means in the two    branches\n",
    " "
   ]
  },
  {
   "cell_type": "code",
   "execution_count": 235,
   "metadata": {},
   "outputs": [],
   "source": [
    "bank1 = np.array(pd.read_csv(\"Bank1.csv\"))"
   ]
  },
  {
   "cell_type": "code",
   "execution_count": 236,
   "metadata": {},
   "outputs": [],
   "source": [
    "bank2 = np.array(pd.read_csv(\"Bank2.csv\"))"
   ]
  },
  {
   "cell_type": "code",
   "execution_count": 237,
   "metadata": {},
   "outputs": [],
   "source": [
    "# two-sample t-test"
   ]
  },
  {
   "cell_type": "code",
   "execution_count": 238,
   "metadata": {},
   "outputs": [],
   "source": [
    "# null hypothesis: the two groups have the same mean"
   ]
  },
  {
   "cell_type": "code",
   "execution_count": 239,
   "metadata": {},
   "outputs": [],
   "source": [
    "t_statistic, p_value = ttest_ind(bank1, bank2)"
   ]
  },
  {
   "cell_type": "code",
   "execution_count": 240,
   "metadata": {},
   "outputs": [
    {
     "name": "stdout",
     "output_type": "stream",
     "text": [
      "[-4.13430628] [0.00029284]\n"
     ]
    }
   ],
   "source": [
    "print(t_statistic, p_value)"
   ]
  },
  {
   "cell_type": "code",
   "execution_count": 241,
   "metadata": {},
   "outputs": [],
   "source": [
    "# There is sufficient evidence of difference in mean"
   ]
  },
  {
   "cell_type": "markdown",
   "metadata": {},
   "source": [
    "# 24: Exercise 10.24 in page 352\n"
   ]
  },
  {
   "cell_type": "markdown",
   "metadata": {},
   "source": [
    "10.24 Multiple myeloma, or blood plasma cancer, is characterized by increased blood vessel formulation (angiogenesis) in the bone marrow that is a predictive factor in survival. One treatment approach used for multiple myeloma is stem cell transplantation with the patient's own stem cells.  The data stored in and shown on page 353 represent the bone marrow microvessel density for patients who had a complete response to the stem cell Myeloma transplant (as measured by blood and urine tests). The measurements were taken immediately prior to the stem cell transplant and at the time the complete response was determined.\n",
    "\n"
   ]
  },
  {
   "cell_type": "markdown",
   "metadata": {},
   "source": [
    "    a. At the 0.05 level of significance, is there evidence that the mean bone marrow microvessel density is higher before      the stem cell transplant than after the stem cell transplant? \n",
    "    b. Interpret the meaning of the p-value in (a). \n",
    "    c. Construct and interpret a 95 % confidence interval estimate of the mean difference in bone marrow microvessel density    before and after the stem cell transplant.\n",
    "    d. What assumption is necessary about the population distribution in order to perform the test in (a)?"
   ]
  },
  {
   "cell_type": "code",
   "execution_count": 242,
   "metadata": {},
   "outputs": [],
   "source": [
    "myeloma = pd.read_csv(\"Myeloma.csv\")"
   ]
  },
  {
   "cell_type": "code",
   "execution_count": 243,
   "metadata": {},
   "outputs": [
    {
     "data": {
      "text/html": [
       "<div>\n",
       "<style scoped>\n",
       "    .dataframe tbody tr th:only-of-type {\n",
       "        vertical-align: middle;\n",
       "    }\n",
       "\n",
       "    .dataframe tbody tr th {\n",
       "        vertical-align: top;\n",
       "    }\n",
       "\n",
       "    .dataframe thead th {\n",
       "        text-align: right;\n",
       "    }\n",
       "</style>\n",
       "<table border=\"1\" class=\"dataframe\">\n",
       "  <thead>\n",
       "    <tr style=\"text-align: right;\">\n",
       "      <th></th>\n",
       "      <th>Patient</th>\n",
       "      <th>Before</th>\n",
       "      <th>After</th>\n",
       "    </tr>\n",
       "  </thead>\n",
       "  <tbody>\n",
       "    <tr>\n",
       "      <th>0</th>\n",
       "      <td>1</td>\n",
       "      <td>158</td>\n",
       "      <td>284</td>\n",
       "    </tr>\n",
       "    <tr>\n",
       "      <th>1</th>\n",
       "      <td>2</td>\n",
       "      <td>189</td>\n",
       "      <td>214</td>\n",
       "    </tr>\n",
       "    <tr>\n",
       "      <th>2</th>\n",
       "      <td>3</td>\n",
       "      <td>202</td>\n",
       "      <td>101</td>\n",
       "    </tr>\n",
       "    <tr>\n",
       "      <th>3</th>\n",
       "      <td>4</td>\n",
       "      <td>353</td>\n",
       "      <td>227</td>\n",
       "    </tr>\n",
       "    <tr>\n",
       "      <th>4</th>\n",
       "      <td>5</td>\n",
       "      <td>416</td>\n",
       "      <td>290</td>\n",
       "    </tr>\n",
       "  </tbody>\n",
       "</table>\n",
       "</div>"
      ],
      "text/plain": [
       "   Patient  Before   After\n",
       "0        1      158    284\n",
       "1        2      189    214\n",
       "2        3      202    101\n",
       "3        4      353    227\n",
       "4        5      416    290"
      ]
     },
     "execution_count": 243,
     "metadata": {},
     "output_type": "execute_result"
    }
   ],
   "source": [
    "myeloma.head()"
   ]
  },
  {
   "cell_type": "code",
   "execution_count": 244,
   "metadata": {},
   "outputs": [],
   "source": [
    "before = myeloma['Before ']"
   ]
  },
  {
   "cell_type": "code",
   "execution_count": 245,
   "metadata": {},
   "outputs": [],
   "source": [
    "after = myeloma['After']"
   ]
  },
  {
   "cell_type": "code",
   "execution_count": 246,
   "metadata": {},
   "outputs": [],
   "source": [
    "# paired t-test: doing two measurments on the same experimental unit"
   ]
  },
  {
   "cell_type": "code",
   "execution_count": 247,
   "metadata": {},
   "outputs": [],
   "source": [
    "# HO: mean(bone marrow vessel before) <= mean(bone marrow vessel after)"
   ]
  },
  {
   "cell_type": "code",
   "execution_count": 248,
   "metadata": {},
   "outputs": [],
   "source": [
    "# H1: mean(bone marrow vessel before) > mean(bone marrow vessel after)"
   ]
  },
  {
   "cell_type": "code",
   "execution_count": 249,
   "metadata": {},
   "outputs": [],
   "source": [
    "t_statistic, p_value = ttest_1samp(before - after, 0)"
   ]
  },
  {
   "cell_type": "code",
   "execution_count": 250,
   "metadata": {},
   "outputs": [
    {
     "name": "stdout",
     "output_type": "stream",
     "text": [
      "1.8424550291027728 0.05749313343592854\n"
     ]
    }
   ],
   "source": [
    "print(t_statistic, p_value/2)"
   ]
  },
  {
   "cell_type": "code",
   "execution_count": 251,
   "metadata": {},
   "outputs": [],
   "source": [
    "# p-value >0.05, hence mean bone density is the same."
   ]
  },
  {
   "cell_type": "markdown",
   "metadata": {},
   "source": [
    "# 25: Exercise 10.50 in page 364  \n",
    "\n"
   ]
  },
  {
   "cell_type": "markdown",
   "metadata": {},
   "source": [
    "10.50 Is there a difference in the variation of the yield of five year certificates of deposit (CDs) in different cities? The file ‘FiveYearCDRate’ contains the yields for a five-year CD for tern banks in New York and eight banks in Los Angeles, as of April 19 2014. (Data extracted from www.Bankrate.com, April 19, 2014.) At the 0.05 level of significance, is there evidence of a difference in the variance of the yield of five-year CDs in the two cities? Assume that the population yields are normally distributed."
   ]
  },
  {
   "cell_type": "code",
   "execution_count": 252,
   "metadata": {},
   "outputs": [],
   "source": [
    "cdRate = pd.read_csv(\"FiveYear.csv\")"
   ]
  },
  {
   "cell_type": "code",
   "execution_count": 253,
   "metadata": {},
   "outputs": [
    {
     "data": {
      "text/html": [
       "<div>\n",
       "<style scoped>\n",
       "    .dataframe tbody tr th:only-of-type {\n",
       "        vertical-align: middle;\n",
       "    }\n",
       "\n",
       "    .dataframe tbody tr th {\n",
       "        vertical-align: top;\n",
       "    }\n",
       "\n",
       "    .dataframe thead th {\n",
       "        text-align: right;\n",
       "    }\n",
       "</style>\n",
       "<table border=\"1\" class=\"dataframe\">\n",
       "  <thead>\n",
       "    <tr style=\"text-align: right;\">\n",
       "      <th></th>\n",
       "      <th>NY</th>\n",
       "      <th>LA</th>\n",
       "    </tr>\n",
       "  </thead>\n",
       "  <tbody>\n",
       "    <tr>\n",
       "      <th>0</th>\n",
       "      <td>1.50</td>\n",
       "      <td>1.50</td>\n",
       "    </tr>\n",
       "    <tr>\n",
       "      <th>1</th>\n",
       "      <td>1.45</td>\n",
       "      <td>1.01</td>\n",
       "    </tr>\n",
       "    <tr>\n",
       "      <th>2</th>\n",
       "      <td>1.25</td>\n",
       "      <td>1.00</td>\n",
       "    </tr>\n",
       "    <tr>\n",
       "      <th>3</th>\n",
       "      <td>1.01</td>\n",
       "      <td>0.75</td>\n",
       "    </tr>\n",
       "    <tr>\n",
       "      <th>4</th>\n",
       "      <td>1.00</td>\n",
       "      <td>0.40</td>\n",
       "    </tr>\n",
       "    <tr>\n",
       "      <th>5</th>\n",
       "      <td>0.60</td>\n",
       "      <td>0.35</td>\n",
       "    </tr>\n",
       "    <tr>\n",
       "      <th>6</th>\n",
       "      <td>0.50</td>\n",
       "      <td>0.25</td>\n",
       "    </tr>\n",
       "    <tr>\n",
       "      <th>7</th>\n",
       "      <td>0.25</td>\n",
       "      <td>0.20</td>\n",
       "    </tr>\n",
       "    <tr>\n",
       "      <th>8</th>\n",
       "      <td>0.15</td>\n",
       "      <td>NaN</td>\n",
       "    </tr>\n",
       "    <tr>\n",
       "      <th>9</th>\n",
       "      <td>0.15</td>\n",
       "      <td>NaN</td>\n",
       "    </tr>\n",
       "  </tbody>\n",
       "</table>\n",
       "</div>"
      ],
      "text/plain": [
       "     NY    LA\n",
       "0  1.50  1.50\n",
       "1  1.45  1.01\n",
       "2  1.25  1.00\n",
       "3  1.01  0.75\n",
       "4  1.00  0.40\n",
       "5  0.60  0.35\n",
       "6  0.50  0.25\n",
       "7  0.25  0.20\n",
       "8  0.15   NaN\n",
       "9  0.15   NaN"
      ]
     },
     "execution_count": 253,
     "metadata": {},
     "output_type": "execute_result"
    }
   ],
   "source": [
    "cdRate"
   ]
  },
  {
   "cell_type": "code",
   "execution_count": 254,
   "metadata": {},
   "outputs": [],
   "source": [
    "## F = Var(X) / Var(Y"
   ]
  },
  {
   "cell_type": "code",
   "execution_count": 255,
   "metadata": {},
   "outputs": [],
   "source": [
    "## DegreeOfFreedom1 = len(X) - 1, DegreeOfFreedom2 = len(Y) - 1"
   ]
  },
  {
   "cell_type": "code",
   "execution_count": 256,
   "metadata": {},
   "outputs": [],
   "source": [
    "## p-value = scipy.stats.f.cdf(F, DegreeOfFreedom1 , DegreeOfFreedom2)"
   ]
  },
  {
   "cell_type": "code",
   "execution_count": 257,
   "metadata": {},
   "outputs": [],
   "source": [
    "F = np.var(cdRate['NY']) / np.var(cdRate['LA'])"
   ]
  },
  {
   "cell_type": "code",
   "execution_count": 258,
   "metadata": {},
   "outputs": [],
   "source": [
    "df1 = len(cdRate['NY']) -1"
   ]
  },
  {
   "cell_type": "code",
   "execution_count": 259,
   "metadata": {},
   "outputs": [],
   "source": [
    "df2 = len(cdRate['LA']) -1"
   ]
  },
  {
   "cell_type": "code",
   "execution_count": 260,
   "metadata": {},
   "outputs": [],
   "source": [
    "p_val = stats.f.cdf(F, df1,df2)"
   ]
  },
  {
   "cell_type": "code",
   "execution_count": 261,
   "metadata": {},
   "outputs": [
    {
     "name": "stdout",
     "output_type": "stream",
     "text": [
      "0.66012864367362 1.327641082386078\n"
     ]
    }
   ],
   "source": [
    "print(p_val,F)"
   ]
  },
  {
   "cell_type": "code",
   "execution_count": 262,
   "metadata": {},
   "outputs": [],
   "source": [
    "## p-value>0.05. There is insufficient evidence of difference in variance of CD yield for two cities.\n"
   ]
  },
  {
   "cell_type": "markdown",
   "metadata": {},
   "source": [
    "# ANOVA Problems"
   ]
  },
  {
   "cell_type": "code",
   "execution_count": 263,
   "metadata": {},
   "outputs": [],
   "source": [
    "from scipy.stats import levene, shapiro, f_oneway"
   ]
  },
  {
   "cell_type": "code",
   "execution_count": 264,
   "metadata": {},
   "outputs": [],
   "source": [
    "from statsmodels.stats.multicomp import pairwise_tukeyhsd, MultiComparison"
   ]
  },
  {
   "cell_type": "code",
   "execution_count": 265,
   "metadata": {},
   "outputs": [],
   "source": [
    "import matplotlib.pyplot as plt"
   ]
  },
  {
   "cell_type": "code",
   "execution_count": 266,
   "metadata": {},
   "outputs": [],
   "source": [
    "from statsmodels.formula.api import ols"
   ]
  },
  {
   "cell_type": "code",
   "execution_count": 267,
   "metadata": {},
   "outputs": [],
   "source": [
    "from statsmodels.stats.anova import anova_lm"
   ]
  },
  {
   "cell_type": "code",
   "execution_count": 268,
   "metadata": {},
   "outputs": [],
   "source": [
    "## ols and anova_lm are used when doing 2 way anova"
   ]
  },
  {
   "cell_type": "markdown",
   "metadata": {},
   "source": [
    "# 26: Exercise 10.58 in page 379  "
   ]
  },
  {
   "cell_type": "markdown",
   "metadata": {},
   "source": [
    "\n",
    "10.58 The more costly and time consuming it is to export and import, the more difficult it is for local companies to be competitive and to reach international markets. As part of an initial investigation exploring foreign market entry, 10 countries were selected from each of four global regions. The cost associated with importing a standardized cargo of goods by sea transport in these countries (in USS per container) is stored in ‘ForeignMarket2’. (Data extracted from doingbusiness.org/data.) \n"
   ]
  },
  {
   "cell_type": "markdown",
   "metadata": {},
   "source": [
    "    a. At the 0.05 level of significance, is there evidence of a difference in the mean cost of importing across the four       global regions? \n",
    "    b. If appropriate, determine which global regions differ in mean cost of importing. \n",
    "    c. At the 0.05 level of significance, is there evidence of a difference in the variation in cost of importing among the     four global regions? \n",
    "    d. Which global region(s) should you consider for foreign market entry? Explain.\n"
   ]
  },
  {
   "cell_type": "code",
   "execution_count": 269,
   "metadata": {},
   "outputs": [],
   "source": [
    "# First convert Data Columns to int"
   ]
  },
  {
   "cell_type": "code",
   "execution_count": 270,
   "metadata": {},
   "outputs": [],
   "source": [
    "ForeignMarket = pd.read_csv(\"ForeignMarket2.csv\", usecols= [0,1,2,3],header = 0,  names= ['Country','Region','Export','Import'])"
   ]
  },
  {
   "cell_type": "code",
   "execution_count": 271,
   "metadata": {},
   "outputs": [
    {
     "data": {
      "text/plain": [
       "Country     object\n",
       "Region      object\n",
       "Export     float64\n",
       "Import     float64\n",
       "dtype: object"
      ]
     },
     "execution_count": 271,
     "metadata": {},
     "output_type": "execute_result"
    }
   ],
   "source": [
    "ForeignMarket.dtypes"
   ]
  },
  {
   "cell_type": "code",
   "execution_count": 272,
   "metadata": {},
   "outputs": [
    {
     "data": {
      "text/html": [
       "<div>\n",
       "<style scoped>\n",
       "    .dataframe tbody tr th:only-of-type {\n",
       "        vertical-align: middle;\n",
       "    }\n",
       "\n",
       "    .dataframe tbody tr th {\n",
       "        vertical-align: top;\n",
       "    }\n",
       "\n",
       "    .dataframe thead th {\n",
       "        text-align: right;\n",
       "    }\n",
       "</style>\n",
       "<table border=\"1\" class=\"dataframe\">\n",
       "  <thead>\n",
       "    <tr style=\"text-align: right;\">\n",
       "      <th></th>\n",
       "      <th>Country</th>\n",
       "      <th>Region</th>\n",
       "      <th>Export</th>\n",
       "      <th>Import</th>\n",
       "    </tr>\n",
       "  </thead>\n",
       "  <tbody>\n",
       "    <tr>\n",
       "      <th>0</th>\n",
       "      <td>Cambodia</td>\n",
       "      <td>East Asia &amp; Pacific</td>\n",
       "      <td>795.0</td>\n",
       "      <td>930.0</td>\n",
       "    </tr>\n",
       "    <tr>\n",
       "      <th>1</th>\n",
       "      <td>China</td>\n",
       "      <td>East Asia &amp; Pacific</td>\n",
       "      <td>620.0</td>\n",
       "      <td>615.0</td>\n",
       "    </tr>\n",
       "    <tr>\n",
       "      <th>2</th>\n",
       "      <td>Hong Kong SAR, China</td>\n",
       "      <td>East Asia &amp; Pacific</td>\n",
       "      <td>590.0</td>\n",
       "      <td>565.0</td>\n",
       "    </tr>\n",
       "    <tr>\n",
       "      <th>3</th>\n",
       "      <td>Indonesia</td>\n",
       "      <td>East Asia &amp; Pacific</td>\n",
       "      <td>615.0</td>\n",
       "      <td>660.0</td>\n",
       "    </tr>\n",
       "    <tr>\n",
       "      <th>4</th>\n",
       "      <td>Malaysia</td>\n",
       "      <td>East Asia &amp; Pacific</td>\n",
       "      <td>450.0</td>\n",
       "      <td>485.0</td>\n",
       "    </tr>\n",
       "  </tbody>\n",
       "</table>\n",
       "</div>"
      ],
      "text/plain": [
       "                Country               Region  Export  Import\n",
       "0              Cambodia  East Asia & Pacific   795.0   930.0\n",
       "1                 China  East Asia & Pacific   620.0   615.0\n",
       "2  Hong Kong SAR, China  East Asia & Pacific   590.0   565.0\n",
       "3             Indonesia  East Asia & Pacific   615.0   660.0\n",
       "4              Malaysia  East Asia & Pacific   450.0   485.0"
      ]
     },
     "execution_count": 272,
     "metadata": {},
     "output_type": "execute_result"
    }
   ],
   "source": [
    "ForeignMarket.head()"
   ]
  },
  {
   "cell_type": "code",
   "execution_count": 273,
   "metadata": {},
   "outputs": [
    {
     "data": {
      "text/html": [
       "<div>\n",
       "<style scoped>\n",
       "    .dataframe tbody tr th:only-of-type {\n",
       "        vertical-align: middle;\n",
       "    }\n",
       "\n",
       "    .dataframe tbody tr th {\n",
       "        vertical-align: top;\n",
       "    }\n",
       "\n",
       "    .dataframe thead th {\n",
       "        text-align: right;\n",
       "    }\n",
       "</style>\n",
       "<table border=\"1\" class=\"dataframe\">\n",
       "  <thead>\n",
       "    <tr style=\"text-align: right;\">\n",
       "      <th></th>\n",
       "      <th>Export</th>\n",
       "      <th>Import</th>\n",
       "    </tr>\n",
       "  </thead>\n",
       "  <tbody>\n",
       "    <tr>\n",
       "      <th>count</th>\n",
       "      <td>40.000000</td>\n",
       "      <td>40.000000</td>\n",
       "    </tr>\n",
       "    <tr>\n",
       "      <th>mean</th>\n",
       "      <td>1246.525000</td>\n",
       "      <td>1408.100000</td>\n",
       "    </tr>\n",
       "    <tr>\n",
       "      <th>std</th>\n",
       "      <td>742.288871</td>\n",
       "      <td>817.187478</td>\n",
       "    </tr>\n",
       "    <tr>\n",
       "      <th>min</th>\n",
       "      <td>450.000000</td>\n",
       "      <td>440.000000</td>\n",
       "    </tr>\n",
       "    <tr>\n",
       "      <th>25%</th>\n",
       "      <td>726.250000</td>\n",
       "      <td>797.500000</td>\n",
       "    </tr>\n",
       "    <tr>\n",
       "      <th>50%</th>\n",
       "      <td>1002.500000</td>\n",
       "      <td>1232.000000</td>\n",
       "    </tr>\n",
       "    <tr>\n",
       "      <th>75%</th>\n",
       "      <td>1491.250000</td>\n",
       "      <td>1823.750000</td>\n",
       "    </tr>\n",
       "    <tr>\n",
       "      <th>max</th>\n",
       "      <td>3550.000000</td>\n",
       "      <td>3695.000000</td>\n",
       "    </tr>\n",
       "  </tbody>\n",
       "</table>\n",
       "</div>"
      ],
      "text/plain": [
       "            Export       Import\n",
       "count    40.000000    40.000000\n",
       "mean   1246.525000  1408.100000\n",
       "std     742.288871   817.187478\n",
       "min     450.000000   440.000000\n",
       "25%     726.250000   797.500000\n",
       "50%    1002.500000  1232.000000\n",
       "75%    1491.250000  1823.750000\n",
       "max    3550.000000  3695.000000"
      ]
     },
     "execution_count": 273,
     "metadata": {},
     "output_type": "execute_result"
    }
   ],
   "source": [
    "ForeignMarket.describe()"
   ]
  },
  {
   "cell_type": "code",
   "execution_count": 274,
   "metadata": {},
   "outputs": [
    {
     "data": {
      "text/plain": [
       "array(['East Asia & Pacific', 'Eastern Europe & Central Asia',\n",
       "       'Latin American & Carribbean', 'Middle East & North Africa'],\n",
       "      dtype=object)"
      ]
     },
     "execution_count": 274,
     "metadata": {},
     "output_type": "execute_result"
    }
   ],
   "source": [
    "ForeignMarket[\"Region\"].unique()"
   ]
  },
  {
   "cell_type": "code",
   "execution_count": 275,
   "metadata": {},
   "outputs": [],
   "source": [
    "# Performing shapiro and levenes test to confirm assumptions of Normality & Equal Variances"
   ]
  },
  {
   "cell_type": "code",
   "execution_count": 276,
   "metadata": {},
   "outputs": [],
   "source": [
    "# Shapiro Test for four global regions."
   ]
  },
  {
   "cell_type": "code",
   "execution_count": 277,
   "metadata": {},
   "outputs": [],
   "source": [
    "# Null Hypothesis - Data is normally distributed"
   ]
  },
  {
   "cell_type": "code",
   "execution_count": 278,
   "metadata": {},
   "outputs": [],
   "source": [
    "# Alternate Hypothesis - Data is not normally distributed"
   ]
  },
  {
   "cell_type": "code",
   "execution_count": 279,
   "metadata": {},
   "outputs": [
    {
     "data": {
      "text/plain": [
       "(0.9657883048057556, 0.8492884635925293)"
      ]
     },
     "execution_count": 279,
     "metadata": {},
     "output_type": "execute_result"
    }
   ],
   "source": [
    "shapiro(ForeignMarket[ForeignMarket['Region'] == 'East Asia & Pacific']['Import'])"
   ]
  },
  {
   "cell_type": "code",
   "execution_count": 280,
   "metadata": {},
   "outputs": [],
   "source": [
    "# P-value>0.05 hence data is normal"
   ]
  },
  {
   "cell_type": "code",
   "execution_count": 281,
   "metadata": {},
   "outputs": [
    {
     "data": {
      "text/plain": [
       "(0.8764522075653076, 0.1187758594751358)"
      ]
     },
     "execution_count": 281,
     "metadata": {},
     "output_type": "execute_result"
    }
   ],
   "source": [
    "shapiro(ForeignMarket[ForeignMarket['Region'] == 'Eastern Europe & Central Asia']['Import'])"
   ]
  },
  {
   "cell_type": "code",
   "execution_count": 282,
   "metadata": {},
   "outputs": [],
   "source": [
    "# P-value>0.05 hence data is normal"
   ]
  },
  {
   "cell_type": "code",
   "execution_count": 283,
   "metadata": {},
   "outputs": [
    {
     "data": {
      "text/plain": [
       "(0.9156326055526733, 0.32196322083473206)"
      ]
     },
     "execution_count": 283,
     "metadata": {},
     "output_type": "execute_result"
    }
   ],
   "source": [
    "shapiro(ForeignMarket[ForeignMarket['Region'] == 'Latin American & Carribbean']['Import'])"
   ]
  },
  {
   "cell_type": "code",
   "execution_count": 284,
   "metadata": {},
   "outputs": [],
   "source": [
    "# P-value>0.05 hence data is normal"
   ]
  },
  {
   "cell_type": "code",
   "execution_count": 285,
   "metadata": {},
   "outputs": [
    {
     "data": {
      "text/plain": [
       "(0.6830025315284729, 0.000548569078091532)"
      ]
     },
     "execution_count": 285,
     "metadata": {},
     "output_type": "execute_result"
    }
   ],
   "source": [
    "shapiro(ForeignMarket[ForeignMarket['Region'] == 'Middle East & North Africa']['Import'])"
   ]
  },
  {
   "cell_type": "code",
   "execution_count": 286,
   "metadata": {},
   "outputs": [],
   "source": [
    "# P-value<0.05 hence data is not normal"
   ]
  },
  {
   "cell_type": "code",
   "execution_count": 287,
   "metadata": {},
   "outputs": [],
   "source": [
    "# We Carry the Levene's Test to check for Homogeneity of Variances\n"
   ]
  },
  {
   "cell_type": "code",
   "execution_count": 288,
   "metadata": {},
   "outputs": [],
   "source": [
    "# Levene's Test"
   ]
  },
  {
   "cell_type": "code",
   "execution_count": 289,
   "metadata": {},
   "outputs": [],
   "source": [
    "# H0: All variances are equal"
   ]
  },
  {
   "cell_type": "code",
   "execution_count": 290,
   "metadata": {},
   "outputs": [],
   "source": [
    "# Ha: Atleast one of the variances not equal"
   ]
  },
  {
   "cell_type": "code",
   "execution_count": 291,
   "metadata": {},
   "outputs": [
    {
     "data": {
      "text/plain": [
       "LeveneResult(statistic=2.036620755449027, pvalue=0.1260602158520989)"
      ]
     },
     "execution_count": 291,
     "metadata": {},
     "output_type": "execute_result"
    }
   ],
   "source": [
    "levene(ForeignMarket[ForeignMarket['Region'] == 'East Asia & Pacific']['Import'],ForeignMarket[ForeignMarket['Region'] == 'Eastern Europe & Central Asia']['Import'], ForeignMarket[ForeignMarket['Region'] == 'Latin American & Carribbean']['Import'],ForeignMarket[ForeignMarket['Region'] == 'Middle East & North Africa']['Import'])"
   ]
  },
  {
   "cell_type": "code",
   "execution_count": 292,
   "metadata": {},
   "outputs": [],
   "source": [
    "# p-value>0.05, so we can proceed with ANOVA"
   ]
  },
  {
   "cell_type": "code",
   "execution_count": 293,
   "metadata": {},
   "outputs": [],
   "source": [
    "#From Levene's Test we can conclude that there is insufficient evidence to conclude that variance"
   ]
  },
  {
   "cell_type": "code",
   "execution_count": 294,
   "metadata": {},
   "outputs": [],
   "source": [
    "## Tukeyhsd"
   ]
  },
  {
   "cell_type": "code",
   "execution_count": 295,
   "metadata": {},
   "outputs": [],
   "source": [
    "mc = MultiComparison(ForeignMarket['Import'], ForeignMarket['Region'])"
   ]
  },
  {
   "cell_type": "code",
   "execution_count": 296,
   "metadata": {},
   "outputs": [],
   "source": [
    "result = mc.tukeyhsd()"
   ]
  },
  {
   "cell_type": "code",
   "execution_count": 297,
   "metadata": {},
   "outputs": [
    {
     "name": "stdout",
     "output_type": "stream",
     "text": [
      "                       Multiple Comparison of Means - Tukey HSD,FWER=0.05                       \n",
      "================================================================================================\n",
      "            group1                        group2            meandiff   lower      upper   reject\n",
      "------------------------------------------------------------------------------------------------\n",
      "     East Asia & Pacific      Eastern Europe & Central Asia  946.5    113.1991  1779.8009  True \n",
      "     East Asia & Pacific       Latin American & Carribbean   1272.5   439.1991  2105.8009  True \n",
      "     East Asia & Pacific        Middle East & North Africa   839.4     6.0991   1672.7009  True \n",
      "Eastern Europe & Central Asia  Latin American & Carribbean   326.0   -507.3009  1159.3009 False \n",
      "Eastern Europe & Central Asia   Middle East & North Africa   -107.1  -940.4009   726.2009 False \n",
      " Latin American & Carribbean    Middle East & North Africa   -433.1  -1266.4009  400.2009 False \n",
      "------------------------------------------------------------------------------------------------\n"
     ]
    }
   ],
   "source": [
    "print(result)"
   ]
  },
  {
   "cell_type": "code",
   "execution_count": 298,
   "metadata": {},
   "outputs": [],
   "source": [
    "# 'East Asia & Pacific' Region have a significantly different mean from all others."
   ]
  },
  {
   "cell_type": "code",
   "execution_count": 299,
   "metadata": {},
   "outputs": [
    {
     "name": "stdout",
     "output_type": "stream",
     "text": [
      "['East Asia & Pacific' 'Eastern Europe & Central Asia'\n",
      " 'Latin American & Carribbean' 'Middle East & North Africa']\n"
     ]
    }
   ],
   "source": [
    "print(mc.groupsunique)"
   ]
  },
  {
   "cell_type": "code",
   "execution_count": 300,
   "metadata": {},
   "outputs": [],
   "source": [
    "## One-way ANOVA"
   ]
  },
  {
   "cell_type": "code",
   "execution_count": 301,
   "metadata": {},
   "outputs": [],
   "source": [
    "ano_model = ols('Import ~ C(Region)', data= ForeignMarket).fit()"
   ]
  },
  {
   "cell_type": "code",
   "execution_count": 302,
   "metadata": {},
   "outputs": [],
   "source": [
    "aov_table = anova_lm(ano_model, type =2)"
   ]
  },
  {
   "cell_type": "code",
   "execution_count": 303,
   "metadata": {},
   "outputs": [
    {
     "name": "stdout",
     "output_type": "stream",
     "text": [
      "             df      sum_sq       mean_sq         F   PR(>F)\n",
      "C(Region)   3.0   8812582.2  2.937527e+06  6.137096  0.00176\n",
      "Residual   36.0  17231437.4  4.786510e+05       NaN      NaN\n"
     ]
    }
   ],
   "source": [
    "print(aov_table)"
   ]
  },
  {
   "cell_type": "code",
   "execution_count": 304,
   "metadata": {},
   "outputs": [],
   "source": [
    "# As p-value<0.05, We can conclude that mean cost of importing is not the same across all the Regions."
   ]
  },
  {
   "cell_type": "markdown",
   "metadata": {},
   "source": [
    "# 27: Exercise 10.64 in page 381  \n",
    "\n",
    "\n",
    " "
   ]
  },
  {
   "cell_type": "markdown",
   "metadata": {},
   "source": [
    "10.64 A sporting goods manufacturing company wanted to compare the distance travelled by golf balls produced using four different designs. Ten balls were manufactured with each design and were brought to the local golf course for the club professional to test. The order in which the balls were hit with the same club from the first tee was randomized so that the pro did not know which type of ball was being hit. All 40 balls were hit in a short period of time, during which the environmental conditions were essentially the same. The results (distance travelled in yards) for the four designs are stored in ‘Golfball’:"
   ]
  },
  {
   "cell_type": "markdown",
   "metadata": {},
   "source": [
    "    a. At the 0.05 level of significance, is there evidence of a difference in the mean distances travelled by the golf balls   with different designs? \n",
    "    b. If the results in (a) indicate that it is appropriate to do so, use the Tukey-Kramer procedure to determine which        designs differ in mean distances \n",
    "    c. What assumptions are necessary in (a)? \n",
    "    d. At the 0.05 level of significance, is there evidence of a difference in the variation of the distances travelled by      the golf balls with different designs? \n",
    "    e. What golf ball design should the manufacturing manager choose? Explain.\n"
   ]
  },
  {
   "cell_type": "code",
   "execution_count": 305,
   "metadata": {},
   "outputs": [],
   "source": [
    "from scipy.stats import levene, shapiro, f_oneway\n"
   ]
  },
  {
   "cell_type": "code",
   "execution_count": 306,
   "metadata": {},
   "outputs": [],
   "source": [
    "from statsmodels.stats.multicomp import pairwise_tukeyhsd, MultiComparison"
   ]
  },
  {
   "cell_type": "code",
   "execution_count": 307,
   "metadata": {},
   "outputs": [],
   "source": [
    "import matplotlib.pyplot as plt"
   ]
  },
  {
   "cell_type": "code",
   "execution_count": 308,
   "metadata": {},
   "outputs": [],
   "source": [
    "from statsmodels.formula.api import ols"
   ]
  },
  {
   "cell_type": "code",
   "execution_count": 309,
   "metadata": {},
   "outputs": [],
   "source": [
    "from statsmodels.stats.anova import anova_lm"
   ]
  },
  {
   "cell_type": "code",
   "execution_count": 310,
   "metadata": {},
   "outputs": [],
   "source": [
    "## ols and anova_lm are used when doing 2 way anova"
   ]
  },
  {
   "cell_type": "code",
   "execution_count": 311,
   "metadata": {},
   "outputs": [],
   "source": [
    "golf = pd.read_csv(\"Golfball.csv\")"
   ]
  },
  {
   "cell_type": "code",
   "execution_count": 312,
   "metadata": {},
   "outputs": [
    {
     "data": {
      "text/html": [
       "<div>\n",
       "<style scoped>\n",
       "    .dataframe tbody tr th:only-of-type {\n",
       "        vertical-align: middle;\n",
       "    }\n",
       "\n",
       "    .dataframe tbody tr th {\n",
       "        vertical-align: top;\n",
       "    }\n",
       "\n",
       "    .dataframe thead th {\n",
       "        text-align: right;\n",
       "    }\n",
       "</style>\n",
       "<table border=\"1\" class=\"dataframe\">\n",
       "  <thead>\n",
       "    <tr style=\"text-align: right;\">\n",
       "      <th></th>\n",
       "      <th>Design1</th>\n",
       "      <th>Design2</th>\n",
       "      <th>Design3</th>\n",
       "      <th>Design4</th>\n",
       "    </tr>\n",
       "  </thead>\n",
       "  <tbody>\n",
       "    <tr>\n",
       "      <th>count</th>\n",
       "      <td>10.000000</td>\n",
       "      <td>10.000000</td>\n",
       "      <td>10.000000</td>\n",
       "      <td>10.000000</td>\n",
       "    </tr>\n",
       "    <tr>\n",
       "      <th>mean</th>\n",
       "      <td>206.614000</td>\n",
       "      <td>218.516000</td>\n",
       "      <td>226.588000</td>\n",
       "      <td>228.622000</td>\n",
       "    </tr>\n",
       "    <tr>\n",
       "      <th>std</th>\n",
       "      <td>2.290508</td>\n",
       "      <td>5.537796</td>\n",
       "      <td>4.814782</td>\n",
       "      <td>4.013349</td>\n",
       "    </tr>\n",
       "    <tr>\n",
       "      <th>min</th>\n",
       "      <td>203.810000</td>\n",
       "      <td>211.820000</td>\n",
       "      <td>219.500000</td>\n",
       "      <td>221.530000</td>\n",
       "    </tr>\n",
       "    <tr>\n",
       "      <th>25%</th>\n",
       "      <td>204.787500</td>\n",
       "      <td>214.052500</td>\n",
       "      <td>223.880000</td>\n",
       "      <td>225.805000</td>\n",
       "    </tr>\n",
       "    <tr>\n",
       "      <th>50%</th>\n",
       "      <td>206.255000</td>\n",
       "      <td>217.560000</td>\n",
       "      <td>225.780000</td>\n",
       "      <td>228.920000</td>\n",
       "    </tr>\n",
       "    <tr>\n",
       "      <th>75%</th>\n",
       "      <td>207.642500</td>\n",
       "      <td>221.392500</td>\n",
       "      <td>229.440000</td>\n",
       "      <td>230.962500</td>\n",
       "    </tr>\n",
       "    <tr>\n",
       "      <th>max</th>\n",
       "      <td>210.860000</td>\n",
       "      <td>229.430000</td>\n",
       "      <td>234.300000</td>\n",
       "      <td>235.450000</td>\n",
       "    </tr>\n",
       "  </tbody>\n",
       "</table>\n",
       "</div>"
      ],
      "text/plain": [
       "          Design1     Design2     Design3     Design4\n",
       "count   10.000000   10.000000   10.000000   10.000000\n",
       "mean   206.614000  218.516000  226.588000  228.622000\n",
       "std      2.290508    5.537796    4.814782    4.013349\n",
       "min    203.810000  211.820000  219.500000  221.530000\n",
       "25%    204.787500  214.052500  223.880000  225.805000\n",
       "50%    206.255000  217.560000  225.780000  228.920000\n",
       "75%    207.642500  221.392500  229.440000  230.962500\n",
       "max    210.860000  229.430000  234.300000  235.450000"
      ]
     },
     "execution_count": 312,
     "metadata": {},
     "output_type": "execute_result"
    }
   ],
   "source": [
    "golf.describe()"
   ]
  },
  {
   "cell_type": "code",
   "execution_count": 313,
   "metadata": {},
   "outputs": [
    {
     "data": {
      "text/plain": [
       "Design1    float64\n",
       "Design2    float64\n",
       "Design3    float64\n",
       "Design4    float64\n",
       "dtype: object"
      ]
     },
     "execution_count": 313,
     "metadata": {},
     "output_type": "execute_result"
    }
   ],
   "source": [
    "golf.dtypes"
   ]
  },
  {
   "cell_type": "code",
   "execution_count": 314,
   "metadata": {},
   "outputs": [],
   "source": [
    "# Performing shapiro and levenes test to confirm assumptions of Normality & Equal Variances"
   ]
  },
  {
   "cell_type": "code",
   "execution_count": 315,
   "metadata": {},
   "outputs": [],
   "source": [
    "    # Shapiro Test for four global regions."
   ]
  },
  {
   "cell_type": "code",
   "execution_count": 316,
   "metadata": {},
   "outputs": [],
   "source": [
    "# Null Hypothesis - Data is normally distributed"
   ]
  },
  {
   "cell_type": "code",
   "execution_count": 317,
   "metadata": {},
   "outputs": [],
   "source": [
    "# Alternate Hypothesis - Data is not normally distributed"
   ]
  },
  {
   "cell_type": "code",
   "execution_count": 318,
   "metadata": {},
   "outputs": [
    {
     "data": {
      "text/plain": [
       "(0.9313421845436096, 0.4612235128879547)"
      ]
     },
     "execution_count": 318,
     "metadata": {},
     "output_type": "execute_result"
    }
   ],
   "source": [
    "shapiro(golf['Design1'])"
   ]
  },
  {
   "cell_type": "code",
   "execution_count": 319,
   "metadata": {},
   "outputs": [],
   "source": [
    "# p-value >0.05"
   ]
  },
  {
   "cell_type": "code",
   "execution_count": 320,
   "metadata": {},
   "outputs": [
    {
     "data": {
      "text/plain": [
       "(0.9357394576072693, 0.5066492557525635)"
      ]
     },
     "execution_count": 320,
     "metadata": {},
     "output_type": "execute_result"
    }
   ],
   "source": [
    "shapiro(golf['Design2'])"
   ]
  },
  {
   "cell_type": "code",
   "execution_count": 321,
   "metadata": {},
   "outputs": [],
   "source": [
    "# p-value >0.05"
   ]
  },
  {
   "cell_type": "code",
   "execution_count": 322,
   "metadata": {},
   "outputs": [
    {
     "data": {
      "text/plain": [
       "(0.965823769569397, 0.8496574759483337)"
      ]
     },
     "execution_count": 322,
     "metadata": {},
     "output_type": "execute_result"
    }
   ],
   "source": [
    "shapiro(golf['Design3'])"
   ]
  },
  {
   "cell_type": "code",
   "execution_count": 323,
   "metadata": {},
   "outputs": [],
   "source": [
    "# p-value >0.05"
   ]
  },
  {
   "cell_type": "code",
   "execution_count": 324,
   "metadata": {},
   "outputs": [
    {
     "data": {
      "text/plain": [
       "(0.9821692705154419, 0.9757122993469238)"
      ]
     },
     "execution_count": 324,
     "metadata": {},
     "output_type": "execute_result"
    }
   ],
   "source": [
    "shapiro(golf['Design4'])"
   ]
  },
  {
   "cell_type": "code",
   "execution_count": 325,
   "metadata": {},
   "outputs": [],
   "source": [
    "# p-value >0.05"
   ]
  },
  {
   "cell_type": "code",
   "execution_count": 326,
   "metadata": {},
   "outputs": [],
   "source": [
    "# Based on Shapiro test we can conclude that the Data is normally distributed.\n",
    "# We Carry the Levene's Test to check for Homogeneity of Variances\n"
   ]
  },
  {
   "cell_type": "code",
   "execution_count": 327,
   "metadata": {},
   "outputs": [
    {
     "data": {
      "text/plain": [
       "LeveneResult(statistic=2.0932275915882848, pvalue=0.11827579172462642)"
      ]
     },
     "execution_count": 327,
     "metadata": {},
     "output_type": "execute_result"
    }
   ],
   "source": [
    "levene(golf['Design1'],golf['Design2'],golf['Design3'],golf['Design4'])"
   ]
  },
  {
   "cell_type": "code",
   "execution_count": 328,
   "metadata": {},
   "outputs": [],
   "source": [
    "# p-value>0.05 so variance is equal for the distance travelled by all the balls"
   ]
  },
  {
   "cell_type": "code",
   "execution_count": 329,
   "metadata": {},
   "outputs": [],
   "source": [
    "golfNew = pd.read_csv(\"golf2.csv\")"
   ]
  },
  {
   "cell_type": "code",
   "execution_count": 330,
   "metadata": {},
   "outputs": [
    {
     "data": {
      "text/html": [
       "<div>\n",
       "<style scoped>\n",
       "    .dataframe tbody tr th:only-of-type {\n",
       "        vertical-align: middle;\n",
       "    }\n",
       "\n",
       "    .dataframe tbody tr th {\n",
       "        vertical-align: top;\n",
       "    }\n",
       "\n",
       "    .dataframe thead th {\n",
       "        text-align: right;\n",
       "    }\n",
       "</style>\n",
       "<table border=\"1\" class=\"dataframe\">\n",
       "  <thead>\n",
       "    <tr style=\"text-align: right;\">\n",
       "      <th></th>\n",
       "      <th>design</th>\n",
       "      <th>distance</th>\n",
       "    </tr>\n",
       "  </thead>\n",
       "  <tbody>\n",
       "    <tr>\n",
       "      <th>0</th>\n",
       "      <td>Design1</td>\n",
       "      <td>206.32</td>\n",
       "    </tr>\n",
       "    <tr>\n",
       "      <th>1</th>\n",
       "      <td>Design1</td>\n",
       "      <td>207.94</td>\n",
       "    </tr>\n",
       "    <tr>\n",
       "      <th>2</th>\n",
       "      <td>Design1</td>\n",
       "      <td>206.19</td>\n",
       "    </tr>\n",
       "    <tr>\n",
       "      <th>3</th>\n",
       "      <td>Design1</td>\n",
       "      <td>204.45</td>\n",
       "    </tr>\n",
       "    <tr>\n",
       "      <th>4</th>\n",
       "      <td>Design1</td>\n",
       "      <td>209.65</td>\n",
       "    </tr>\n",
       "  </tbody>\n",
       "</table>\n",
       "</div>"
      ],
      "text/plain": [
       "    design  distance\n",
       "0  Design1    206.32\n",
       "1  Design1    207.94\n",
       "2  Design1    206.19\n",
       "3  Design1    204.45\n",
       "4  Design1    209.65"
      ]
     },
     "execution_count": 330,
     "metadata": {},
     "output_type": "execute_result"
    }
   ],
   "source": [
    "golfNew.head()"
   ]
  },
  {
   "cell_type": "code",
   "execution_count": 331,
   "metadata": {},
   "outputs": [],
   "source": [
    "## One way ANOVA"
   ]
  },
  {
   "cell_type": "code",
   "execution_count": 332,
   "metadata": {},
   "outputs": [],
   "source": [
    "ano_model = ols('distance ~ C(design)', data= golfNew).fit()"
   ]
  },
  {
   "cell_type": "code",
   "execution_count": 333,
   "metadata": {},
   "outputs": [],
   "source": [
    "aov_table = anova_lm(ano_model, type =2)"
   ]
  },
  {
   "cell_type": "code",
   "execution_count": 334,
   "metadata": {},
   "outputs": [
    {
     "name": "stdout",
     "output_type": "stream",
     "text": [
      "             df     sum_sq     mean_sq          F        PR(>F)\n",
      "C(design)   3.0  2990.9898  996.996600  53.029822  2.731991e-13\n",
      "Residual   36.0   676.8244   18.800678        NaN           NaN\n"
     ]
    }
   ],
   "source": [
    "print(aov_table)"
   ]
  },
  {
   "cell_type": "code",
   "execution_count": 335,
   "metadata": {},
   "outputs": [],
   "source": [
    "## p-value<0.05, so mean distance travelled by golf balls of different design is different."
   ]
  },
  {
   "cell_type": "code",
   "execution_count": 336,
   "metadata": {},
   "outputs": [],
   "source": [
    "## Tukeyhsd"
   ]
  },
  {
   "cell_type": "code",
   "execution_count": 337,
   "metadata": {},
   "outputs": [],
   "source": [
    "mc = MultiComparison(golfNew['distance'], golfNew['design'])"
   ]
  },
  {
   "cell_type": "code",
   "execution_count": 338,
   "metadata": {},
   "outputs": [],
   "source": [
    "result = mc.tukeyhsd()"
   ]
  },
  {
   "cell_type": "code",
   "execution_count": 339,
   "metadata": {},
   "outputs": [
    {
     "name": "stdout",
     "output_type": "stream",
     "text": [
      "Multiple Comparison of Means - Tukey HSD,FWER=0.05\n",
      "===============================================\n",
      " group1  group2 meandiff  lower   upper  reject\n",
      "-----------------------------------------------\n",
      "Design1 Design2  11.902   6.6795 17.1245  True \n",
      "Design1 Design3  19.974  14.7515 25.1965  True \n",
      "Design1 Design4  22.008  16.7855 27.2305  True \n",
      "Design2 Design3  8.072    2.8495 13.2945  True \n",
      "Design2 Design4  10.106   4.8835 15.3285  True \n",
      "Design3 Design4  2.034   -3.1885  7.2565 False \n",
      "-----------------------------------------------\n"
     ]
    }
   ],
   "source": [
    "print(result)"
   ]
  },
  {
   "cell_type": "code",
   "execution_count": 340,
   "metadata": {},
   "outputs": [],
   "source": [
    "## Check for the test being True"
   ]
  },
  {
   "cell_type": "code",
   "execution_count": 341,
   "metadata": {},
   "outputs": [],
   "source": [
    "## Design 1 is different from 2,3 and 4."
   ]
  },
  {
   "cell_type": "code",
   "execution_count": 342,
   "metadata": {},
   "outputs": [],
   "source": [
    "## Design 2 is different from 1,3 and 4."
   ]
  },
  {
   "cell_type": "markdown",
   "metadata": {},
   "source": [
    "# 28: Exercise 10.86 in page 387  \n",
    "\n"
   ]
  },
  {
   "cell_type": "markdown",
   "metadata": {},
   "source": [
    "10.86 The manufacturer of Boston and Vermont asphalt shingles provides its customers with a 20 year warranty on most of its products. To determine whether a shingle will last as long as the warranty period, the manufacturer conducts accelerated life testing. Accelerated-life testing exposes the shingle to the stress it would be subject to in a lifetime of normal use in a laboratory setting via an experiment that takes only a few minutes to conduct. In this test, a shingle is repeatedly scraped with a brush for a short period of time, and the shingle granules removed by the brushing are weighed (in grams). Shingles that experience low amounts of granule loss are expected to last longer than shingles that experience high amounts of granule loss. In this situation, a shingle should experience no more than 0.8 grams of granule loss if it is expected to last the length of the warranty period. The file ‘Granule’ contains a sample of 170 measurements made on the company's Boston shingles and 140 measurements made on Vermont shingles. Completely analyze the differences in the granule loss of the Boston and Vermont shingles, using α = 0.05."
   ]
  },
  {
   "cell_type": "code",
   "execution_count": 343,
   "metadata": {},
   "outputs": [],
   "source": [
    "granule = pd.read_csv(\"granule.csv\")"
   ]
  },
  {
   "cell_type": "code",
   "execution_count": 344,
   "metadata": {},
   "outputs": [
    {
     "data": {
      "text/html": [
       "<div>\n",
       "<style scoped>\n",
       "    .dataframe tbody tr th:only-of-type {\n",
       "        vertical-align: middle;\n",
       "    }\n",
       "\n",
       "    .dataframe tbody tr th {\n",
       "        vertical-align: top;\n",
       "    }\n",
       "\n",
       "    .dataframe thead th {\n",
       "        text-align: right;\n",
       "    }\n",
       "</style>\n",
       "<table border=\"1\" class=\"dataframe\">\n",
       "  <thead>\n",
       "    <tr style=\"text-align: right;\">\n",
       "      <th></th>\n",
       "      <th>granules</th>\n",
       "    </tr>\n",
       "  </thead>\n",
       "  <tbody>\n",
       "    <tr>\n",
       "      <th>count</th>\n",
       "      <td>310.000000</td>\n",
       "    </tr>\n",
       "    <tr>\n",
       "      <th>mean</th>\n",
       "      <td>0.243258</td>\n",
       "    </tr>\n",
       "    <tr>\n",
       "      <th>std</th>\n",
       "      <td>0.135599</td>\n",
       "    </tr>\n",
       "    <tr>\n",
       "      <th>min</th>\n",
       "      <td>0.020000</td>\n",
       "    </tr>\n",
       "    <tr>\n",
       "      <th>25%</th>\n",
       "      <td>0.150000</td>\n",
       "    </tr>\n",
       "    <tr>\n",
       "      <th>50%</th>\n",
       "      <td>0.220000</td>\n",
       "    </tr>\n",
       "    <tr>\n",
       "      <th>75%</th>\n",
       "      <td>0.290000</td>\n",
       "    </tr>\n",
       "    <tr>\n",
       "      <th>max</th>\n",
       "      <td>0.980000</td>\n",
       "    </tr>\n",
       "  </tbody>\n",
       "</table>\n",
       "</div>"
      ],
      "text/plain": [
       "         granules\n",
       "count  310.000000\n",
       "mean     0.243258\n",
       "std      0.135599\n",
       "min      0.020000\n",
       "25%      0.150000\n",
       "50%      0.220000\n",
       "75%      0.290000\n",
       "max      0.980000"
      ]
     },
     "execution_count": 344,
     "metadata": {},
     "output_type": "execute_result"
    }
   ],
   "source": [
    "granule.describe()"
   ]
  },
  {
   "cell_type": "code",
   "execution_count": 345,
   "metadata": {},
   "outputs": [
    {
     "data": {
      "text/html": [
       "<div>\n",
       "<style scoped>\n",
       "    .dataframe tbody tr th:only-of-type {\n",
       "        vertical-align: middle;\n",
       "    }\n",
       "\n",
       "    .dataframe tbody tr th {\n",
       "        vertical-align: top;\n",
       "    }\n",
       "\n",
       "    .dataframe thead th {\n",
       "        text-align: right;\n",
       "    }\n",
       "</style>\n",
       "<table border=\"1\" class=\"dataframe\">\n",
       "  <thead>\n",
       "    <tr style=\"text-align: right;\">\n",
       "      <th></th>\n",
       "      <th>company</th>\n",
       "      <th>granules</th>\n",
       "    </tr>\n",
       "  </thead>\n",
       "  <tbody>\n",
       "    <tr>\n",
       "      <th>0</th>\n",
       "      <td>Boston</td>\n",
       "      <td>0.14</td>\n",
       "    </tr>\n",
       "    <tr>\n",
       "      <th>1</th>\n",
       "      <td>Boston</td>\n",
       "      <td>0.31</td>\n",
       "    </tr>\n",
       "    <tr>\n",
       "      <th>2</th>\n",
       "      <td>Boston</td>\n",
       "      <td>0.28</td>\n",
       "    </tr>\n",
       "    <tr>\n",
       "      <th>3</th>\n",
       "      <td>Boston</td>\n",
       "      <td>0.14</td>\n",
       "    </tr>\n",
       "    <tr>\n",
       "      <th>4</th>\n",
       "      <td>Boston</td>\n",
       "      <td>0.17</td>\n",
       "    </tr>\n",
       "  </tbody>\n",
       "</table>\n",
       "</div>"
      ],
      "text/plain": [
       "  company  granules\n",
       "0  Boston      0.14\n",
       "1  Boston      0.31\n",
       "2  Boston      0.28\n",
       "3  Boston      0.14\n",
       "4  Boston      0.17"
      ]
     },
     "execution_count": 345,
     "metadata": {},
     "output_type": "execute_result"
    }
   ],
   "source": [
    "granule.head()"
   ]
  },
  {
   "cell_type": "code",
   "execution_count": 346,
   "metadata": {},
   "outputs": [],
   "source": [
    "# Performing shapiro and levenes test to confirm assumptions of Normality & Equal Variances"
   ]
  },
  {
   "cell_type": "code",
   "execution_count": 347,
   "metadata": {},
   "outputs": [],
   "source": [
    "# Shapiro Test for four global regions."
   ]
  },
  {
   "cell_type": "code",
   "execution_count": 348,
   "metadata": {},
   "outputs": [],
   "source": [
    "# Null Hypothesis - Data is normally distributed"
   ]
  },
  {
   "cell_type": "code",
   "execution_count": 349,
   "metadata": {},
   "outputs": [],
   "source": [
    "# Alternate Hypothesis - Data is not normally distributed"
   ]
  },
  {
   "cell_type": "code",
   "execution_count": 350,
   "metadata": {},
   "outputs": [
    {
     "data": {
      "text/plain": [
       "(0.8896019458770752, 6.349862857746302e-10)"
      ]
     },
     "execution_count": 350,
     "metadata": {},
     "output_type": "execute_result"
    }
   ],
   "source": [
    "shapiro(granule[granule['company'] == 'Boston']['granules'])"
   ]
  },
  {
   "cell_type": "code",
   "execution_count": 351,
   "metadata": {},
   "outputs": [],
   "source": [
    "# P-value<0.05 hence data is not normal"
   ]
  },
  {
   "cell_type": "code",
   "execution_count": 352,
   "metadata": {},
   "outputs": [
    {
     "data": {
      "text/plain": [
       "(0.9112821817398071, 1.376009919340504e-07)"
      ]
     },
     "execution_count": 352,
     "metadata": {},
     "output_type": "execute_result"
    }
   ],
   "source": [
    "shapiro(granule[granule['company'] == 'Vermont']['granules'])"
   ]
  },
  {
   "cell_type": "code",
   "execution_count": 353,
   "metadata": {},
   "outputs": [],
   "source": [
    "# P-value<0.05 hence data is not normal"
   ]
  },
  {
   "cell_type": "code",
   "execution_count": 354,
   "metadata": {},
   "outputs": [],
   "source": [
    "# Levene's Test"
   ]
  },
  {
   "cell_type": "code",
   "execution_count": 355,
   "metadata": {},
   "outputs": [],
   "source": [
    "# H0: All variances are equal"
   ]
  },
  {
   "cell_type": "code",
   "execution_count": 356,
   "metadata": {},
   "outputs": [],
   "source": [
    "# Ha: Atleast one of the variances not equal"
   ]
  },
  {
   "cell_type": "code",
   "execution_count": 357,
   "metadata": {},
   "outputs": [
    {
     "data": {
      "text/plain": [
       "LeveneResult(statistic=0.8648567105557542, pvalue=0.35311143576235615)"
      ]
     },
     "execution_count": 357,
     "metadata": {},
     "output_type": "execute_result"
    }
   ],
   "source": [
    "levene(granule[granule['company'] == 'Boston']['granules'], granule[granule['company'] == 'Vermont']['granules'])"
   ]
  },
  {
   "cell_type": "code",
   "execution_count": 358,
   "metadata": {},
   "outputs": [],
   "source": [
    "# p-value>0.05, Hence All variances are equal."
   ]
  },
  {
   "cell_type": "code",
   "execution_count": 359,
   "metadata": {},
   "outputs": [],
   "source": [
    "## One way ANOVA"
   ]
  },
  {
   "cell_type": "code",
   "execution_count": 360,
   "metadata": {},
   "outputs": [],
   "source": [
    "ano_model = ols('granules~ C(company)', data= granule).fit()"
   ]
  },
  {
   "cell_type": "code",
   "execution_count": 361,
   "metadata": {},
   "outputs": [],
   "source": [
    "aov_table = anova_lm(ano_model, type =2)"
   ]
  },
  {
   "cell_type": "code",
   "execution_count": 362,
   "metadata": {},
   "outputs": [
    {
     "name": "stdout",
     "output_type": "stream",
     "text": [
      "               df    sum_sq   mean_sq         F    PR(>F)\n",
      "C(company)    1.0  0.162870  0.162870  9.089747  0.002784\n",
      "Residual    308.0  5.518739  0.017918       NaN       NaN\n"
     ]
    }
   ],
   "source": [
    "print(aov_table)"
   ]
  },
  {
   "cell_type": "code",
   "execution_count": 363,
   "metadata": {},
   "outputs": [],
   "source": [
    "## p-value<0.05 : Mean granule loss for Boston is not the same as that of Vermont."
   ]
  },
  {
   "cell_type": "code",
   "execution_count": 364,
   "metadata": {},
   "outputs": [],
   "source": [
    "## Tukeyhsd"
   ]
  },
  {
   "cell_type": "code",
   "execution_count": 365,
   "metadata": {},
   "outputs": [],
   "source": [
    "mc = MultiComparison(granule['granules'], granule['company'])"
   ]
  },
  {
   "cell_type": "code",
   "execution_count": 366,
   "metadata": {},
   "outputs": [],
   "source": [
    "result = mc.tukeyhsd()"
   ]
  },
  {
   "cell_type": "code",
   "execution_count": 367,
   "metadata": {},
   "outputs": [
    {
     "name": "stdout",
     "output_type": "stream",
     "text": [
      "Multiple Comparison of Means - Tukey HSD,FWER=0.05\n",
      "=============================================\n",
      "group1  group2 meandiff  lower  upper  reject\n",
      "---------------------------------------------\n",
      "Boston Vermont -0.0461  -0.0761 -0.016  True \n",
      "---------------------------------------------\n"
     ]
    }
   ],
   "source": [
    "print(result)"
   ]
  },
  {
   "cell_type": "code",
   "execution_count": 368,
   "metadata": {},
   "outputs": [],
   "source": [
    "# Since mean shedding of Vermont Shingles is lower than Boston Shingles, the Customer should prefer Vermont shingles"
   ]
  },
  {
   "cell_type": "markdown",
   "metadata": {},
   "source": [
    "# Chi square analysis  \n",
    "# 29: Exercise 11.10 in page 410  \n"
   ]
  },
  {
   "cell_type": "markdown",
   "metadata": {},
   "source": [
    "11.10 Does co-browsing have positive effects on the customer experience? Co-browsing refers to the ability to have a contact centre agent and customer jointly navigate an application (e.g. web page, digital document, or mobile application) on a real time basis through the web. A study of businesses indicates that 81 of 129 co-browsing organizations use skills-based routing to match the caller with the right agent, whereas 65 of 176 non-co-browsing organizations use skills-based routing to match the caller with the right agent. (Source: Cobrowsing presents a \"Lucrative\" Customer Service Opportunity, available at bit.ly/1wwALWr.) \n"
   ]
  },
  {
   "cell_type": "markdown",
   "metadata": {},
   "source": [
    "    a. Construct a 2 X 2 contingency table. \n",
    "    b. At the 0.05 level of significance, is there evidence of a difference between co-browsing organizations and               non-co-browsing organizations in the proportion that use skills-based routing to match the caller with the right         agent? \n",
    "    c. Find the p-value in (a) and interpret its meaning. \n",
    "    d. Compare the results of (a) and (b) to those of Problem 10.34 on page 359.\n"
   ]
  },
  {
   "cell_type": "code",
   "execution_count": 369,
   "metadata": {},
   "outputs": [],
   "source": [
    "from scipy.stats import chisquare,chi2_contingency, power_divergence"
   ]
  },
  {
   "cell_type": "code",
   "execution_count": 370,
   "metadata": {},
   "outputs": [],
   "source": [
    "from statsmodels.stats.proportion import proportions_chisquare"
   ]
  },
  {
   "cell_type": "code",
   "execution_count": 371,
   "metadata": {},
   "outputs": [],
   "source": [
    "browsing = pd.read_csv(\"browsing.csv\")"
   ]
  },
  {
   "cell_type": "code",
   "execution_count": 372,
   "metadata": {},
   "outputs": [
    {
     "data": {
      "text/html": [
       "<div>\n",
       "<style scoped>\n",
       "    .dataframe tbody tr th:only-of-type {\n",
       "        vertical-align: middle;\n",
       "    }\n",
       "\n",
       "    .dataframe tbody tr th {\n",
       "        vertical-align: top;\n",
       "    }\n",
       "\n",
       "    .dataframe thead th {\n",
       "        text-align: right;\n",
       "    }\n",
       "</style>\n",
       "<table border=\"1\" class=\"dataframe\">\n",
       "  <thead>\n",
       "    <tr style=\"text-align: right;\">\n",
       "      <th></th>\n",
       "      <th>Skill</th>\n",
       "      <th>Yes</th>\n",
       "      <th>No</th>\n",
       "    </tr>\n",
       "  </thead>\n",
       "  <tbody>\n",
       "    <tr>\n",
       "      <th>0</th>\n",
       "      <td>Co-Browsing</td>\n",
       "      <td>81</td>\n",
       "      <td>48</td>\n",
       "    </tr>\n",
       "    <tr>\n",
       "      <th>1</th>\n",
       "      <td>Non Co-Browsing</td>\n",
       "      <td>65</td>\n",
       "      <td>111</td>\n",
       "    </tr>\n",
       "  </tbody>\n",
       "</table>\n",
       "</div>"
      ],
      "text/plain": [
       "             Skill  Yes   No\n",
       "0      Co-Browsing   81   48\n",
       "1  Non Co-Browsing   65  111"
      ]
     },
     "execution_count": 372,
     "metadata": {},
     "output_type": "execute_result"
    }
   ],
   "source": [
    "browsing"
   ]
  },
  {
   "cell_type": "code",
   "execution_count": 373,
   "metadata": {},
   "outputs": [],
   "source": [
    "#Goodness of fit test for a single Categorical variable- Yes"
   ]
  },
  {
   "cell_type": "code",
   "execution_count": 374,
   "metadata": {},
   "outputs": [],
   "source": [
    "# Let\tpi denote\tthe\tproportion\tin\tthe\tith category"
   ]
  },
  {
   "cell_type": "code",
   "execution_count": 375,
   "metadata": {},
   "outputs": [],
   "source": [
    "# H0\t:\tAll\tpi s\tare\tthe\tsame\t"
   ]
  },
  {
   "cell_type": "code",
   "execution_count": 376,
   "metadata": {},
   "outputs": [],
   "source": [
    "# Ha\t:\tAt\tleast\tone\tpi differs\tfrom\tthe\tothers\t"
   ]
  },
  {
   "cell_type": "code",
   "execution_count": 377,
   "metadata": {},
   "outputs": [
    {
     "data": {
      "text/plain": [
       "Power_divergenceResult(statistic=1.7534246575342465, pvalue=0.1854467838170424)"
      ]
     },
     "execution_count": 377,
     "metadata": {},
     "output_type": "execute_result"
    }
   ],
   "source": [
    "chisquare(browsing['Yes'])"
   ]
  },
  {
   "cell_type": "code",
   "execution_count": 378,
   "metadata": {},
   "outputs": [],
   "source": [
    "## As p-value >0.05, all the proportions are same."
   ]
  },
  {
   "cell_type": "code",
   "execution_count": 379,
   "metadata": {},
   "outputs": [
    {
     "data": {
      "text/plain": [
       "Power_divergenceResult(statistic=1.7534246575342465, pvalue=0.1854467838170424)"
      ]
     },
     "execution_count": 379,
     "metadata": {},
     "output_type": "execute_result"
    }
   ],
   "source": [
    "power_divergence(browsing['Yes'], lambda_=\"pearson\")"
   ]
  },
  {
   "cell_type": "markdown",
   "metadata": {},
   "source": [
    "# 30: Exercise 11.18 in page 414  \n"
   ]
  },
  {
   "cell_type": "markdown",
   "metadata": {},
   "source": [
    "11.18 Most marketers at mid-size companies feel overwhelmed by the number of technology vendor relationships they must manage. A study by DNN based on samples of 57 companies with 50-99 employees, 93 companies with 100-499 employees 9 companies with 500-999 employees, and 81 companies with 1,000-5,000 employees reported that 19 of the companies with 50-99 employees, 44 of the companies with 100-499 employees 43 of the companies with 500-999 employees, and 61 of the companies with 1,000-5,000 employees are working simultaneously with five or more vendors. (Data extracted from Marketing Got Complicated: Challenges (and Opportunities) for Marketers at Mid-Sized Companies, bit.ly/S6PIOj.) \n"
   ]
  },
  {
   "cell_type": "markdown",
   "metadata": {},
   "source": [
    "    a. Is there evidence of a significant difference among companies of different sizes with respect to the proportion that     are working simultaneously with five or more vendors? (Use a 0.05) \n",
    "    b. Determine the p-value and interpret its meaning.\n",
    "  "
   ]
  },
  {
   "cell_type": "code",
   "execution_count": 380,
   "metadata": {},
   "outputs": [],
   "source": [
    "relation = pd.read_csv(\"relation.csv\")"
   ]
  },
  {
   "cell_type": "code",
   "execution_count": 381,
   "metadata": {},
   "outputs": [
    {
     "data": {
      "text/html": [
       "<div>\n",
       "<style scoped>\n",
       "    .dataframe tbody tr th:only-of-type {\n",
       "        vertical-align: middle;\n",
       "    }\n",
       "\n",
       "    .dataframe tbody tr th {\n",
       "        vertical-align: top;\n",
       "    }\n",
       "\n",
       "    .dataframe thead th {\n",
       "        text-align: right;\n",
       "    }\n",
       "</style>\n",
       "<table border=\"1\" class=\"dataframe\">\n",
       "  <thead>\n",
       "    <tr style=\"text-align: right;\">\n",
       "      <th></th>\n",
       "      <th>company</th>\n",
       "      <th>Relation</th>\n",
       "      <th>No_Relation</th>\n",
       "    </tr>\n",
       "  </thead>\n",
       "  <tbody>\n",
       "    <tr>\n",
       "      <th>0</th>\n",
       "      <td>50-99</td>\n",
       "      <td>19.0</td>\n",
       "      <td>38.0</td>\n",
       "    </tr>\n",
       "    <tr>\n",
       "      <th>1</th>\n",
       "      <td>100-499</td>\n",
       "      <td>44.0</td>\n",
       "      <td>49.0</td>\n",
       "    </tr>\n",
       "    <tr>\n",
       "      <th>2</th>\n",
       "      <td>500-999</td>\n",
       "      <td>43.0</td>\n",
       "      <td>23.0</td>\n",
       "    </tr>\n",
       "    <tr>\n",
       "      <th>3</th>\n",
       "      <td>1000-5000</td>\n",
       "      <td>61.0</td>\n",
       "      <td>20.0</td>\n",
       "    </tr>\n",
       "  </tbody>\n",
       "</table>\n",
       "</div>"
      ],
      "text/plain": [
       "     company  Relation  No_Relation\n",
       "0      50-99      19.0         38.0\n",
       "1    100-499      44.0         49.0\n",
       "2    500-999      43.0         23.0\n",
       "3  1000-5000      61.0         20.0"
      ]
     },
     "execution_count": 381,
     "metadata": {},
     "output_type": "execute_result"
    }
   ],
   "source": [
    "relation"
   ]
  },
  {
   "cell_type": "code",
   "execution_count": 382,
   "metadata": {},
   "outputs": [],
   "source": [
    "# converting float to int"
   ]
  },
  {
   "cell_type": "code",
   "execution_count": 383,
   "metadata": {},
   "outputs": [],
   "source": [
    "relation[['Relation','No_Relation']] = relation[['Relation','No_Relation']].astype(int)"
   ]
  },
  {
   "cell_type": "code",
   "execution_count": 384,
   "metadata": {},
   "outputs": [
    {
     "data": {
      "text/plain": [
       "Power_divergenceResult(statistic=21.4311377245509, pvalue=8.565565450937665e-05)"
      ]
     },
     "execution_count": 384,
     "metadata": {},
     "output_type": "execute_result"
    }
   ],
   "source": [
    "chisquare(relation['Relation'])"
   ]
  },
  {
   "cell_type": "code",
   "execution_count": 385,
   "metadata": {},
   "outputs": [],
   "source": [
    "# As p-value<0.05, all the proportions are not same."
   ]
  },
  {
   "cell_type": "markdown",
   "metadata": {},
   "source": [
    "# 31: Exercise 11.26 in page 420  \n"
   ]
  },
  {
   "cell_type": "markdown",
   "metadata": {},
   "source": [
    "11.26 PwC takes a closer look at what CEOs are looking for and are finding as new sources of value in their businesses and industries. The results of the 2014 Global CEO survey, summarized in the table below, classified CEOs by the main opportunity that they identified for business growth in their companies as well as their geographic region.\n",
    "At the 0.05 level of significance, is there evidence of a significant relationship between the identified main opportunity and their geographic region?\n"
   ]
  },
  {
   "cell_type": "code",
   "execution_count": 386,
   "metadata": {},
   "outputs": [],
   "source": [
    "## Chisquare Test for Independence"
   ]
  },
  {
   "cell_type": "code",
   "execution_count": 387,
   "metadata": {},
   "outputs": [],
   "source": [
    "# Ho: The Two categorical variables are independent, variable 1 in Rows, variable 2 in columns."
   ]
  },
  {
   "cell_type": "code",
   "execution_count": 388,
   "metadata": {},
   "outputs": [],
   "source": [
    "# Ha : The Two categorical variables are dependent"
   ]
  },
  {
   "cell_type": "code",
   "execution_count": 389,
   "metadata": {},
   "outputs": [],
   "source": [
    "chiTest =  pd.read_csv(\"Chi sheet.csv\")"
   ]
  },
  {
   "cell_type": "code",
   "execution_count": 390,
   "metadata": {},
   "outputs": [
    {
     "data": {
      "text/html": [
       "<div>\n",
       "<style scoped>\n",
       "    .dataframe tbody tr th:only-of-type {\n",
       "        vertical-align: middle;\n",
       "    }\n",
       "\n",
       "    .dataframe tbody tr th {\n",
       "        vertical-align: top;\n",
       "    }\n",
       "\n",
       "    .dataframe thead th {\n",
       "        text-align: right;\n",
       "    }\n",
       "</style>\n",
       "<table border=\"1\" class=\"dataframe\">\n",
       "  <thead>\n",
       "    <tr style=\"text-align: right;\">\n",
       "      <th></th>\n",
       "      <th>Main Opprotunity</th>\n",
       "      <th>US</th>\n",
       "      <th>China</th>\n",
       "      <th>Japan</th>\n",
       "      <th>Germany</th>\n",
       "    </tr>\n",
       "  </thead>\n",
       "  <tbody>\n",
       "    <tr>\n",
       "      <th>0</th>\n",
       "      <td>Product or Service innovation</td>\n",
       "      <td>58</td>\n",
       "      <td>58</td>\n",
       "      <td>45</td>\n",
       "      <td>21</td>\n",
       "    </tr>\n",
       "    <tr>\n",
       "      <th>1</th>\n",
       "      <td>Increased share in existing markets</td>\n",
       "      <td>60</td>\n",
       "      <td>30</td>\n",
       "      <td>31</td>\n",
       "      <td>15</td>\n",
       "    </tr>\n",
       "    <tr>\n",
       "      <th>2</th>\n",
       "      <td>Mergers and Acquisitions</td>\n",
       "      <td>23</td>\n",
       "      <td>10</td>\n",
       "      <td>12</td>\n",
       "      <td>4</td>\n",
       "    </tr>\n",
       "    <tr>\n",
       "      <th>3</th>\n",
       "      <td>New Geographic Markets</td>\n",
       "      <td>16</td>\n",
       "      <td>18</td>\n",
       "      <td>31</td>\n",
       "      <td>2</td>\n",
       "    </tr>\n",
       "    <tr>\n",
       "      <th>4</th>\n",
       "      <td>New Joint Ventures</td>\n",
       "      <td>5</td>\n",
       "      <td>18</td>\n",
       "      <td>8</td>\n",
       "      <td>3</td>\n",
       "    </tr>\n",
       "  </tbody>\n",
       "</table>\n",
       "</div>"
      ],
      "text/plain": [
       "                      Main Opprotunity  US  China  Japan  Germany\n",
       "0        Product or Service innovation  58     58     45       21\n",
       "1  Increased share in existing markets  60     30     31       15\n",
       "2             Mergers and Acquisitions  23     10     12        4\n",
       "3               New Geographic Markets  16     18     31        2\n",
       "4                   New Joint Ventures   5     18      8        3"
      ]
     },
     "execution_count": 390,
     "metadata": {},
     "output_type": "execute_result"
    }
   ],
   "source": [
    "chiTest"
   ]
  },
  {
   "cell_type": "code",
   "execution_count": 391,
   "metadata": {},
   "outputs": [],
   "source": [
    "# Indexing the column of Interest"
   ]
  },
  {
   "cell_type": "code",
   "execution_count": 392,
   "metadata": {},
   "outputs": [],
   "source": [
    "bla  = chiTest.set_index('Main Opprotunity')"
   ]
  },
  {
   "cell_type": "code",
   "execution_count": 393,
   "metadata": {},
   "outputs": [],
   "source": [
    "# Convering the table in matrix format"
   ]
  },
  {
   "cell_type": "code",
   "execution_count": 394,
   "metadata": {},
   "outputs": [],
   "source": [
    "obs = bla.values"
   ]
  },
  {
   "cell_type": "code",
   "execution_count": 395,
   "metadata": {},
   "outputs": [
    {
     "data": {
      "text/plain": [
       "array([[58, 58, 45, 21],\n",
       "       [60, 30, 31, 15],\n",
       "       [23, 10, 12,  4],\n",
       "       [16, 18, 31,  2],\n",
       "       [ 5, 18,  8,  3]], dtype=int64)"
      ]
     },
     "execution_count": 395,
     "metadata": {},
     "output_type": "execute_result"
    }
   ],
   "source": [
    "obs"
   ]
  },
  {
   "cell_type": "code",
   "execution_count": 396,
   "metadata": {},
   "outputs": [],
   "source": [
    "result = chi2_contingency(obs)"
   ]
  },
  {
   "cell_type": "code",
   "execution_count": 397,
   "metadata": {},
   "outputs": [
    {
     "data": {
      "text/plain": [
       "(38.020950026461605,\n",
       " 0.0001523543538689379,\n",
       " 12,\n",
       " array([[63.        , 52.11111111, 49.38888889, 17.5       ],\n",
       "        [47.07692308, 38.94017094, 36.90598291, 13.07692308],\n",
       "        [16.96153846, 14.02991453, 13.29700855,  4.71153846],\n",
       "        [23.19230769, 19.18376068, 18.18162393,  6.44230769],\n",
       "        [11.76923077,  9.73504274,  9.22649573,  3.26923077]]))"
      ]
     },
     "execution_count": 397,
     "metadata": {},
     "output_type": "execute_result"
    }
   ],
   "source": [
    "result"
   ]
  },
  {
   "cell_type": "code",
   "execution_count": 398,
   "metadata": {},
   "outputs": [],
   "source": [
    "## p-value is low : The two variables i.e., 'Main Opportunity' and 'Region' are dependent"
   ]
  }
 ],
 "metadata": {
  "kernelspec": {
   "display_name": "Python 3",
   "language": "python",
   "name": "python3"
  },
  "language_info": {
   "codemirror_mode": {
    "name": "ipython",
    "version": 3
   },
   "file_extension": ".py",
   "mimetype": "text/x-python",
   "name": "python",
   "nbconvert_exporter": "python",
   "pygments_lexer": "ipython3",
   "version": "3.7.0"
  }
 },
 "nbformat": 4,
 "nbformat_minor": 2
}
